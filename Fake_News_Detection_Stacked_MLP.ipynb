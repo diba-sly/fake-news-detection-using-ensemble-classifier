{
 "cells": [
  {
   "cell_type": "markdown",
   "id": "74fae1da",
   "metadata": {},
   "source": [
    "MLP Classifier"
   ]
  },
  {
   "cell_type": "code",
   "execution_count": 1,
   "id": "4b022809",
   "metadata": {},
   "outputs": [],
   "source": [
    "from sklearn.neural_network import MLPClassifier\n",
    "import time\n",
    "from sklearn.metrics import f1_score, accuracy_score, classification_report"
   ]
  },
  {
   "cell_type": "code",
   "execution_count": null,
   "id": "2e5d7384",
   "metadata": {},
   "outputs": [],
   "source": [
    "def build_mlp(X_train, y_train, X_test):\n",
    "    start_time = time.time()\n",
    "    \n",
    "    mlp_classifier = MLPClassifier()\n",
    "    mlp_classifier.fit(X_train, y_train)\n",
    "\n",
    "    mlp_predictions = mlp_classifier.predict(X_test)\n",
    "    \n",
    "    end_time = time.time()\n",
    "    execution_time = end_time - start_time\n",
    "    print(\"Execution time of MLP: {:.2f} seconds\".format(execution_time))\n",
    "    return mlp_predictions"
   ]
  },
  {
   "cell_type": "code",
   "execution_count": null,
   "id": "d63c3ed8",
   "metadata": {},
   "outputs": [],
   "source": [
    "def mlp_metrics(mlp_predictions, y_test):\n",
    "    f_score = f1_score(y_test, mlp_predictions, average='micro')\n",
    "    accuracy = accuracy_score(y_test, mlp_predictions)\n",
    "    print(classification_report(y_test, mlp_predictions))\n",
    "    print(\"MLP F-score:\", f_score)\n",
    "    print(\"MLP Accuracy:\", accuracy)"
   ]
  }
 ],
 "metadata": {
  "kernelspec": {
   "display_name": "Python 3 (ipykernel)",
   "language": "python",
   "name": "python3"
  },
  "language_info": {
   "codemirror_mode": {
    "name": "ipython",
    "version": 3
   },
   "file_extension": ".py",
   "mimetype": "text/x-python",
   "name": "python",
   "nbconvert_exporter": "python",
   "pygments_lexer": "ipython3",
   "version": "3.9.5"
  }
 },
 "nbformat": 4,
 "nbformat_minor": 5
}
