{
 "cells": [
  {
   "cell_type": "code",
   "execution_count": 1,
   "id": "56e3b1a9",
   "metadata": {},
   "outputs": [],
   "source": [
    "import pandas as pd\n",
    "import numpy as np  \n",
    "import matplotlib.pyplot as plt \n",
    "from sklearn.metrics import precision_recall_fscore_support\n",
    "import Scripts.Data_Read_Prepare as Data_Prepare\n",
    "import Scripts.Fake_News_Detection_SVM as SVM_classifier\n",
    "import Scripts.Fake_News_Detection_PA as PA_classifier\n",
    "import Scripts.Fake_News_Detection_XGBoost as XGBoost_classifier\n",
    "import Scripts.Fake_News_Detection_LSTM as LSTM_classifier\n",
    "import Scripts.Fake_News_Detection_BiLSTM as BiLSTM_classifier\n",
    "import Scripts.Fake_News_Detection_Stacked_MLP as MLP_classifier"
   ]
  },
  {
   "cell_type": "markdown",
   "id": "67217fef",
   "metadata": {},
   "source": [
    "Loading data from datasets"
   ]
  },
  {
   "cell_type": "code",
   "execution_count": 2,
   "id": "695c3db9",
   "metadata": {
    "scrolled": false
   },
   "outputs": [
    {
     "data": {
      "text/html": [
       "<div>\n",
       "<style scoped>\n",
       "    .dataframe tbody tr th:only-of-type {\n",
       "        vertical-align: middle;\n",
       "    }\n",
       "\n",
       "    .dataframe tbody tr th {\n",
       "        vertical-align: top;\n",
       "    }\n",
       "\n",
       "    .dataframe thead th {\n",
       "        text-align: right;\n",
       "    }\n",
       "</style>\n",
       "<table border=\"1\" class=\"dataframe\">\n",
       "  <thead>\n",
       "    <tr style=\"text-align: right;\">\n",
       "      <th></th>\n",
       "      <th>0</th>\n",
       "      <th>1</th>\n",
       "      <th>2</th>\n",
       "      <th>3</th>\n",
       "      <th>4</th>\n",
       "      <th>5</th>\n",
       "      <th>6</th>\n",
       "      <th>7</th>\n",
       "      <th>8</th>\n",
       "      <th>9</th>\n",
       "      <th>10</th>\n",
       "      <th>11</th>\n",
       "      <th>12</th>\n",
       "      <th>13</th>\n",
       "    </tr>\n",
       "  </thead>\n",
       "  <tbody>\n",
       "    <tr>\n",
       "      <th>0</th>\n",
       "      <td>2635.json</td>\n",
       "      <td>false</td>\n",
       "      <td>Says the Annies List political group supports ...</td>\n",
       "      <td>abortion</td>\n",
       "      <td>dwayne-bohac</td>\n",
       "      <td>State representative</td>\n",
       "      <td>Texas</td>\n",
       "      <td>republican</td>\n",
       "      <td>0.0</td>\n",
       "      <td>1.0</td>\n",
       "      <td>0.0</td>\n",
       "      <td>0.0</td>\n",
       "      <td>0.0</td>\n",
       "      <td>a mailer</td>\n",
       "    </tr>\n",
       "    <tr>\n",
       "      <th>1</th>\n",
       "      <td>10540.json</td>\n",
       "      <td>half-true</td>\n",
       "      <td>When did the decline of coal start? It started...</td>\n",
       "      <td>energy,history,job-accomplishments</td>\n",
       "      <td>scott-surovell</td>\n",
       "      <td>State delegate</td>\n",
       "      <td>Virginia</td>\n",
       "      <td>democrat</td>\n",
       "      <td>0.0</td>\n",
       "      <td>0.0</td>\n",
       "      <td>1.0</td>\n",
       "      <td>1.0</td>\n",
       "      <td>0.0</td>\n",
       "      <td>a floor speech.</td>\n",
       "    </tr>\n",
       "    <tr>\n",
       "      <th>2</th>\n",
       "      <td>324.json</td>\n",
       "      <td>mostly-true</td>\n",
       "      <td>Hillary Clinton agrees with John McCain \"by vo...</td>\n",
       "      <td>foreign-policy</td>\n",
       "      <td>barack-obama</td>\n",
       "      <td>President</td>\n",
       "      <td>Illinois</td>\n",
       "      <td>democrat</td>\n",
       "      <td>70.0</td>\n",
       "      <td>71.0</td>\n",
       "      <td>160.0</td>\n",
       "      <td>163.0</td>\n",
       "      <td>9.0</td>\n",
       "      <td>Denver</td>\n",
       "    </tr>\n",
       "  </tbody>\n",
       "</table>\n",
       "</div>"
      ],
      "text/plain": [
       "           0            1                                                  2   \\\n",
       "0   2635.json        false  Says the Annies List political group supports ...   \n",
       "1  10540.json    half-true  When did the decline of coal start? It started...   \n",
       "2    324.json  mostly-true  Hillary Clinton agrees with John McCain \"by vo...   \n",
       "\n",
       "                                   3               4                     5   \\\n",
       "0                            abortion    dwayne-bohac  State representative   \n",
       "1  energy,history,job-accomplishments  scott-surovell        State delegate   \n",
       "2                      foreign-policy    barack-obama             President   \n",
       "\n",
       "         6           7     8     9      10     11   12               13  \n",
       "0     Texas  republican   0.0   1.0    0.0    0.0  0.0         a mailer  \n",
       "1  Virginia    democrat   0.0   0.0    1.0    1.0  0.0  a floor speech.  \n",
       "2  Illinois    democrat  70.0  71.0  160.0  163.0  9.0           Denver  "
      ]
     },
     "execution_count": 2,
     "metadata": {},
     "output_type": "execute_result"
    }
   ],
   "source": [
    "data_train, data_valid, data_test = Data_Prepare.read_data()\n",
    "data_train.head(3)"
   ]
  },
  {
   "cell_type": "code",
   "execution_count": 3,
   "id": "744a3c33",
   "metadata": {
    "scrolled": false
   },
   "outputs": [
    {
     "data": {
      "text/html": [
       "<div>\n",
       "<style scoped>\n",
       "    .dataframe tbody tr th:only-of-type {\n",
       "        vertical-align: middle;\n",
       "    }\n",
       "\n",
       "    .dataframe tbody tr th {\n",
       "        vertical-align: top;\n",
       "    }\n",
       "\n",
       "    .dataframe thead th {\n",
       "        text-align: right;\n",
       "    }\n",
       "</style>\n",
       "<table border=\"1\" class=\"dataframe\">\n",
       "  <thead>\n",
       "    <tr style=\"text-align: right;\">\n",
       "      <th></th>\n",
       "      <th>label</th>\n",
       "      <th>sentence</th>\n",
       "    </tr>\n",
       "  </thead>\n",
       "  <tbody>\n",
       "    <tr>\n",
       "      <th>0</th>\n",
       "      <td>0</td>\n",
       "      <td>abortion dwayne-bohac State representative Tex...</td>\n",
       "    </tr>\n",
       "    <tr>\n",
       "      <th>1</th>\n",
       "      <td>0</td>\n",
       "      <td>energy,history,job-accomplishments scott-surov...</td>\n",
       "    </tr>\n",
       "    <tr>\n",
       "      <th>2</th>\n",
       "      <td>1</td>\n",
       "      <td>foreign-policy barack-obama President Illinois...</td>\n",
       "    </tr>\n",
       "  </tbody>\n",
       "</table>\n",
       "</div>"
      ],
      "text/plain": [
       "   label                                           sentence\n",
       "0      0  abortion dwayne-bohac State representative Tex...\n",
       "1      0  energy,history,job-accomplishments scott-surov...\n",
       "2      1  foreign-policy barack-obama President Illinois..."
      ]
     },
     "execution_count": 3,
     "metadata": {},
     "output_type": "execute_result"
    }
   ],
   "source": [
    "data_train = Data_Prepare.combine_classes(data_train)\n",
    "data_valid = Data_Prepare.combine_classes(data_valid)\n",
    "data_test = Data_Prepare.combine_classes(data_test)\n",
    "data_train.head(3)"
   ]
  },
  {
   "cell_type": "markdown",
   "id": "1dc847d3",
   "metadata": {},
   "source": [
    "Preproccesing"
   ]
  },
  {
   "cell_type": "code",
   "execution_count": 4,
   "id": "948c78f8",
   "metadata": {
    "scrolled": true
   },
   "outputs": [
    {
     "name": "stdout",
     "output_type": "stream",
     "text": [
      "data_preprocessing_without_stem done!\n"
     ]
    }
   ],
   "source": [
    "data_train, data_valid, data_test = Data_Prepare.do_preprocessing(data_train, data_valid, data_test,\"no_stem\")"
   ]
  },
  {
   "cell_type": "code",
   "execution_count": 5,
   "id": "7c06371b",
   "metadata": {
    "scrolled": true
   },
   "outputs": [
    {
     "data": {
      "text/plain": [
       "0    0.644727\n",
       "1    0.355273\n",
       "Name: label, dtype: float64"
      ]
     },
     "execution_count": 5,
     "metadata": {},
     "output_type": "execute_result"
    }
   ],
   "source": [
    "data_train['label'].value_counts(normalize='true')"
   ]
  },
  {
   "cell_type": "code",
   "execution_count": 6,
   "id": "94d72ee9",
   "metadata": {},
   "outputs": [],
   "source": [
    "# Combine the training and validation datasets for training\n",
    "data_set_all = pd.concat([data_train, data_valid, data_test])\n",
    "data_train_valid = pd.concat([data_train, data_valid])\n",
    "\n",
    "X_train_valid = data_train_valid['sentence']\n",
    "y_train_valid = data_train_valid['label']\n",
    "X_test = data_test['sentence']\n",
    "y_test = data_test['label']"
   ]
  },
  {
   "cell_type": "code",
   "execution_count": 7,
   "id": "ea866ec8",
   "metadata": {},
   "outputs": [],
   "source": [
    "#plot_data_length(data_set_all)"
   ]
  },
  {
   "cell_type": "markdown",
   "id": "d687b1fb",
   "metadata": {},
   "source": [
    "Vectorizing"
   ]
  },
  {
   "cell_type": "code",
   "execution_count": 17,
   "id": "a5bdfef2",
   "metadata": {
    "scrolled": true
   },
   "outputs": [
    {
     "name": "stdout",
     "output_type": "stream",
     "text": [
      "Vectorizing done!\n"
     ]
    }
   ],
   "source": [
    "X_train_valid_vectorized, X_test_vectorized,vocab_size, X_train_valid_sequences, X_test_sequences =Data_Prepare.tfidf_vectorizer(X_train_valid, X_test)"
   ]
  },
  {
   "cell_type": "markdown",
   "id": "bdfb5292",
   "metadata": {},
   "source": [
    "SMOTE"
   ]
  },
  {
   "cell_type": "code",
   "execution_count": 19,
   "id": "79365d2a",
   "metadata": {
    "scrolled": false
   },
   "outputs": [
    {
     "name": "stdout",
     "output_type": "stream",
     "text": [
      "Before SMOTE: Counter({0: 7466, 1: 4058})\n",
      "After SMOTE: Counter({1: 7466, 0: 7466})\n"
     ]
    }
   ],
   "source": [
    "X_train_valid_resampled, y_train_valid_resampled = Data_Prepare.oversampling_data(X_train_valid_vectorized,y_train_valid)\n",
    "X_train_valid_resampled_sequences = Data_Prepare.pad_sequences(X_train_valid_resampled.toarray(),\n",
    "                                                      maxlen=250, truncating='post', padding='post')"
   ]
  },
  {
   "cell_type": "markdown",
   "id": "d8da7850",
   "metadata": {},
   "source": [
    "## 1- SVM"
   ]
  },
  {
   "cell_type": "code",
   "execution_count": 20,
   "id": "b76f9998",
   "metadata": {},
   "outputs": [
    {
     "name": "stdout",
     "output_type": "stream",
     "text": [
      "Execution time of SVM: 163.66 seconds\n"
     ]
    }
   ],
   "source": [
    "svm_predictions, svm_train_valid_predictions =SVM_classifier.train_svm(X_train_valid_resampled, y_train_valid_resampled, X_test_vectorized)"
   ]
  },
  {
   "cell_type": "code",
   "execution_count": 25,
   "id": "5ebc1e6f",
   "metadata": {
    "scrolled": true
   },
   "outputs": [
    {
     "name": "stdout",
     "output_type": "stream",
     "text": [
      "SVM - accuracy: 0.6053670086819258\n",
      "SVM - Precision: 0.4510556621880998\n",
      "SVM - Recall: 0.5233853006681515\n",
      "SVM - F-score: 0.4845360824742268\n"
     ]
    },
    {
     "data": {
      "image/png": "[encoded data removed]",
      "text/plain": [
       "<Figure size 576x432 with 1 Axes>"
      ]
     },
     "metadata": {
      "needs_background": "light"
     },
     "output_type": "display_data"
    },
    {
     "data": {
      "image/png": "[encoded data removed]",
      "text/plain": [
       "<Figure size 432x288 with 1 Axes>"
      ]
     },
     "metadata": {
      "needs_background": "light"
     },
     "output_type": "display_data"
    }
   ],
   "source": [
    "svm_accuracy, svm_precision, svm_recall, svm_fscore = SVM_classifier.svm_metrics(svm_predictions, y_test)\n",
    "SVM_classifier.svm_confusion_matrix_plot(svm_predictions, y_test)\n",
    "SVM_classifier.svm_roc_plot(svm_predictions, y_test)"
   ]
  },
  {
   "cell_type": "markdown",
   "id": "223fdeea",
   "metadata": {},
   "source": [
    "## 2-Passive Aggressive"
   ]
  },
  {
   "cell_type": "code",
   "execution_count": 22,
   "id": "fd8c651d",
   "metadata": {},
   "outputs": [
    {
     "name": "stdout",
     "output_type": "stream",
     "text": [
      "Execution time of PA: 0.06 seconds\n"
     ]
    }
   ],
   "source": [
    "pa_predictions,pa_train_valid_predictions,pa_scores = PA_classifier.train_pa(X_train_valid_resampled, y_train_valid_resampled,X_test_vectorized)"
   ]
  },
  {
   "cell_type": "code",
   "execution_count": 26,
   "id": "5abc11dd",
   "metadata": {},
   "outputs": [
    {
     "name": "stdout",
     "output_type": "stream",
     "text": [
      "PA - accuracy: 0.6172059984214681\n",
      "PA - Precision: 0.4700996677740864\n",
      "PA - Recall: 0.6302895322939867\n",
      "PA - F-score: 0.538534728829686\n"
     ]
    },
    {
     "data": {
      "image/png": "[encoded data removed]",
      "text/plain": [
       "<Figure size 576x432 with 1 Axes>"
      ]
     },
     "metadata": {
      "needs_background": "light"
     },
     "output_type": "display_data"
    },
    {
     "data": {
      "image/png": "[encoded data removed]",
      "text/plain": [
       "<Figure size 432x288 with 1 Axes>"
      ]
     },
     "metadata": {
      "needs_background": "light"
     },
     "output_type": "display_data"
    }
   ],
   "source": [
    "pa_accuracy, pa_precision, pa_recall, pa_fscore = PA_classifier.pa_metrics(pa_predictions, y_test)\n",
    "PA_classifier.pa_confusion_matrix_plot(pa_predictions, y_test)\n",
    "PA_classifier.pa_roc_plot(pa_predictions, y_test)"
   ]
  },
  {
   "cell_type": "markdown",
   "id": "3f0f621a",
   "metadata": {},
   "source": [
    "## 3-XGBoost"
   ]
  },
  {
   "cell_type": "code",
   "execution_count": 24,
   "id": "27203d1d",
   "metadata": {
    "scrolled": true
   },
   "outputs": [
    {
     "name": "stdout",
     "output_type": "stream",
     "text": [
      "Execution time of PA: 88.18 seconds\n"
     ]
    }
   ],
   "source": [
    "xgb_predictions, xgb_train_valid_predictions, xgb_pred = XGBoost_classifier.train_xgboost(X_train_valid_resampled,y_train_valid_resampled, X_test_vectorized,y_test)"
   ]
  },
  {
   "cell_type": "code",
   "execution_count": 27,
   "id": "2cc26ed2",
   "metadata": {
    "scrolled": false
   },
   "outputs": [
    {
     "name": "stdout",
     "output_type": "stream",
     "text": [
      "XGBoost - accuracy: 0.6156274664561957\n",
      "XGBoost - Precision: 0.4637404580152672\n",
      "XGBoost - Recall: 0.5412026726057907\n",
      "XGBoost - F-score: 0.499486125385406\n"
     ]
    },
    {
     "data": {
      "image/png": "[encoded data removed]",
      "text/plain": [
       "<Figure size 576x432 with 1 Axes>"
      ]
     },
     "metadata": {
      "needs_background": "light"
     },
     "output_type": "display_data"
    },
    {
     "data": {
      "image/png": "[encoded data removed]",
      "text/plain": [
       "<Figure size 432x288 with 1 Axes>"
      ]
     },
     "metadata": {
      "needs_background": "light"
     },
     "output_type": "display_data"
    }
   ],
   "source": [
    "xgb_accuracy, xgb_precision, xgb_recall, xgb_fscore = XGBoost_classifier.xgb_metrics(xgb_predictions, y_test)\n",
    "XGBoost_classifier.xgb_confusion_matrix_plot(xgb_predictions, y_test)\n",
    "XGBoost_classifier.xgb_roc_plot(xgb_predictions, y_test)"
   ]
  },
  {
   "cell_type": "markdown",
   "id": "ca5c533f",
   "metadata": {},
   "source": [
    "Deep Learning Preproccess"
   ]
  },
  {
   "cell_type": "code",
   "execution_count": 10,
   "id": "7200b7f1",
   "metadata": {
    "scrolled": true
   },
   "outputs": [],
   "source": [
    "X_train_tokenized,X_valid_tokenized,X_test_tokenized, vocab_size = Data_Prepare.data_tokenizer(data_train['sentence'],data_valid['sentence'],data_test['sentence'], data_set_all)"
   ]
  },
  {
   "cell_type": "code",
   "execution_count": 14,
   "id": "c497e1b2",
   "metadata": {
    "scrolled": true
   },
   "outputs": [
    {
     "name": "stdout",
     "output_type": "stream",
     "text": [
      "Word2Vec embedding done!\n"
     ]
    }
   ],
   "source": [
    "embedding_matrix,X_train_word2vec, X_valid_word2vec, X_test_word2vec = Data_Prepare.word2vec_embed(X_train_tokenized,X_valid_tokenized,X_test_tokenized)"
   ]
  },
  {
   "cell_type": "code",
   "execution_count": 23,
   "id": "b1e0c3c8",
   "metadata": {},
   "outputs": [],
   "source": [
    "X_train_sequences,X_valid_sequences,X_test_sequences=LSTM_classifier.pad_sequence_data(X_train_tokenized,X_valid_tokenized,X_test_tokenized)\n",
    "y_train = data_train['label'].values\n",
    "y_valid = data_valid['label'].values\n",
    "y_test = data_test['label'].values"
   ]
  },
  {
   "cell_type": "code",
   "execution_count": 35,
   "id": "6519a445",
   "metadata": {},
   "outputs": [],
   "source": [
    "from tensorflow.keras.preprocessing.sequence import pad_sequences\n",
    "\n",
    "X_train_sequences = pad_sequences(X_train_valid_resampled, maxlen=300)\n"
   ]
  },
  {
   "cell_type": "markdown",
   "id": "fee025c7",
   "metadata": {},
   "source": [
    "## 4-LSTM"
   ]
  },
  {
   "cell_type": "code",
   "execution_count": 30,
   "id": "20826e08",
   "metadata": {},
   "outputs": [],
   "source": [
    "embedding_matrix,X_train_t_v, y_train_t_v, X_test_t_v, y_test_t_v, vocab_size = Data_Prepare.tokenize_vectorize(data_set_all, data_train_valid, data_test)"
   ]
  },
  {
   "cell_type": "code",
   "execution_count": 31,
   "id": "5aac0856",
   "metadata": {
    "scrolled": true
   },
   "outputs": [
    {
     "name": "stdout",
     "output_type": "stream",
     "text": [
      "Model: \"sequential_1\"\n",
      "_________________________________________________________________\n",
      " Layer (type)                Output Shape              Param #   \n",
      "=================================================================\n",
      " embeddings (Embedding)      (None, 300, 150)          1828950   \n",
      "                                                                 \n",
      " lstm_layer1 (LSTM)          (None, 300, 128)          142848    \n",
      "                                                                 \n",
      " lstm_layer2 (LSTM)          (None, 300, 64)           49408     \n",
      "                                                                 \n",
      " global_max_pooling1d (Globa  (None, 64)               0         \n",
      " lMaxPooling1D)                                                  \n",
      "                                                                 \n",
      " dense_2 (Dense)             (None, 50)                3250      \n",
      "                                                                 \n",
      " dense_3 (Dense)             (None, 1)                 51        \n",
      "                                                                 \n",
      "=================================================================\n",
      "Total params: 2,024,507\n",
      "Trainable params: 195,557\n",
      "Non-trainable params: 1,828,950\n",
      "_________________________________________________________________\n",
      "Epoch 1/5\n",
      "93/93 [==============================] - 142s 1s/step - loss: 0.6432 - accuracy: 0.6412 - val_loss: 0.6165 - val_accuracy: 0.6685\n",
      "Epoch 2/5\n",
      "93/93 [==============================] - 152s 2s/step - loss: 0.6330 - accuracy: 0.6470 - val_loss: 0.6126 - val_accuracy: 0.6681\n",
      "Epoch 3/5\n",
      "93/93 [==============================] - 177s 2s/step - loss: 0.6308 - accuracy: 0.6470 - val_loss: 0.6121 - val_accuracy: 0.6681\n",
      "Epoch 4/5\n",
      "93/93 [==============================] - 145s 2s/step - loss: 0.6259 - accuracy: 0.6533 - val_loss: 0.6114 - val_accuracy: 0.6777\n",
      "Epoch 5/5\n",
      "93/93 [==============================] - 149s 2s/step - loss: 0.6226 - accuracy: 0.6542 - val_loss: 0.6108 - val_accuracy: 0.6725\n",
      "Execution time of LSTM: 765.12 seconds\n"
     ]
    }
   ],
   "source": [
    "lstm_model, lstm_history = LSTM_classifier.train_lstm(vocab_size, embedding_matrix, X_train_t_v,\n",
    "                                                      y_train_t_v,5,100)"
   ]
  },
  {
   "cell_type": "code",
   "execution_count": 32,
   "id": "acf0e874",
   "metadata": {},
   "outputs": [
    {
     "name": "stdout",
     "output_type": "stream",
     "text": [
      "361/361 [==============================] - 45s 123ms/step\n",
      "40/40 [==============================] - 5s 128ms/step\n"
     ]
    }
   ],
   "source": [
    "lstm_train_valid_predictions, lstm_predictions = LSTM_classifier.predict_lstm(lstm_model,X_train_t_v, X_test_t_v)"
   ]
  },
  {
   "cell_type": "code",
   "execution_count": 33,
   "id": "97ceae61",
   "metadata": {},
   "outputs": [
    {
     "name": "stdout",
     "output_type": "stream",
     "text": [
      "LSTM - Accuracy: 0.6290449881610103\n",
      "LSTM - Precision: 0.4794520547945205\n",
      "LSTM - Recall: 0.5456570155902004\n",
      "LSTM - F-score: 0.5104166666666666\n"
     ]
    },
    {
     "data": {
      "image/png": "[encoded data removed]",
      "text/plain": [
       "<Figure size 432x288 with 1 Axes>"
      ]
     },
     "metadata": {
      "needs_background": "light"
     },
     "output_type": "display_data"
    },
    {
     "ename": "NameError",
     "evalue": "name 'confusion_matrix' is not defined",
     "output_type": "error",
     "traceback": [
      "\u001b[1;31m---------------------------------------------------------------------------\u001b[0m",
      "\u001b[1;31mNameError\u001b[0m                                 Traceback (most recent call last)",
      "\u001b[1;32m~\\AppData\\Local\\Temp/ipykernel_18896/3201938760.py\u001b[0m in \u001b[0;36m<module>\u001b[1;34m\u001b[0m\n\u001b[0;32m      1\u001b[0m \u001b[0mlstm_accuracy\u001b[0m\u001b[1;33m,\u001b[0m \u001b[0mlstm_precision\u001b[0m\u001b[1;33m,\u001b[0m \u001b[0mlstm_recall\u001b[0m\u001b[1;33m,\u001b[0m \u001b[0mlstm_fscore\u001b[0m \u001b[1;33m=\u001b[0m \u001b[0mLSTM_classifier\u001b[0m\u001b[1;33m.\u001b[0m\u001b[0mlstm_metrics\u001b[0m\u001b[1;33m(\u001b[0m\u001b[0mlstm_predictions\u001b[0m\u001b[1;33m,\u001b[0m \u001b[0my_test_t_v\u001b[0m\u001b[1;33m)\u001b[0m\u001b[1;33m\u001b[0m\u001b[1;33m\u001b[0m\u001b[0m\n\u001b[0;32m      2\u001b[0m \u001b[0mLSTM_classifier\u001b[0m\u001b[1;33m.\u001b[0m\u001b[0mlstm_loss_plot\u001b[0m\u001b[1;33m(\u001b[0m\u001b[0mlstm_history\u001b[0m\u001b[1;33m)\u001b[0m\u001b[1;33m\u001b[0m\u001b[1;33m\u001b[0m\u001b[0m\n\u001b[1;32m----> 3\u001b[1;33m \u001b[0mLSTM_classifier\u001b[0m\u001b[1;33m.\u001b[0m\u001b[0mlstm_confusion_matrix_plot\u001b[0m\u001b[1;33m(\u001b[0m\u001b[0mlstm_predictions\u001b[0m\u001b[1;33m,\u001b[0m \u001b[0my_test_t_v\u001b[0m\u001b[1;33m)\u001b[0m\u001b[1;33m\u001b[0m\u001b[1;33m\u001b[0m\u001b[0m\n\u001b[0m",
      "\u001b[1;32m~\\Desktop\\Diba-These\\Scripts\\Fake_News_Detection_LSTM.py\u001b[0m in \u001b[0;36mlstm_confusion_matrix_plot\u001b[1;34m(lstm_predictions, y_test)\u001b[0m\n\u001b[0;32m    111\u001b[0m \u001b[1;33m\u001b[0m\u001b[0m\n\u001b[0;32m    112\u001b[0m \u001b[1;32mdef\u001b[0m \u001b[0mlstm_confusion_matrix_plot\u001b[0m\u001b[1;33m(\u001b[0m\u001b[0mlstm_predictions\u001b[0m\u001b[1;33m,\u001b[0m \u001b[0my_test\u001b[0m\u001b[1;33m)\u001b[0m\u001b[1;33m:\u001b[0m\u001b[1;33m\u001b[0m\u001b[1;33m\u001b[0m\u001b[0m\n\u001b[1;32m--> 113\u001b[1;33m     \u001b[0mcm\u001b[0m \u001b[1;33m=\u001b[0m \u001b[0mconfusion_matrix\u001b[0m\u001b[1;33m(\u001b[0m\u001b[0my_test\u001b[0m\u001b[1;33m,\u001b[0m \u001b[0mlstm_predictions\u001b[0m\u001b[1;33m)\u001b[0m\u001b[1;33m\u001b[0m\u001b[1;33m\u001b[0m\u001b[0m\n\u001b[0m\u001b[0;32m    114\u001b[0m     \u001b[0mplt\u001b[0m\u001b[1;33m.\u001b[0m\u001b[0mfigure\u001b[0m\u001b[1;33m(\u001b[0m\u001b[0mfigsize\u001b[0m\u001b[1;33m=\u001b[0m\u001b[1;33m(\u001b[0m\u001b[1;36m8\u001b[0m\u001b[1;33m,\u001b[0m \u001b[1;36m6\u001b[0m\u001b[1;33m)\u001b[0m\u001b[1;33m)\u001b[0m\u001b[1;33m\u001b[0m\u001b[1;33m\u001b[0m\u001b[0m\n\u001b[0;32m    115\u001b[0m     \u001b[0msns\u001b[0m\u001b[1;33m.\u001b[0m\u001b[0mheatmap\u001b[0m\u001b[1;33m(\u001b[0m\u001b[0mcm\u001b[0m\u001b[1;33m,\u001b[0m \u001b[0mannot\u001b[0m\u001b[1;33m=\u001b[0m\u001b[1;32mTrue\u001b[0m\u001b[1;33m,\u001b[0m \u001b[0mcmap\u001b[0m\u001b[1;33m=\u001b[0m\u001b[1;34m'Blues'\u001b[0m\u001b[1;33m,\u001b[0m \u001b[0mfmt\u001b[0m\u001b[1;33m=\u001b[0m\u001b[1;34m'g'\u001b[0m\u001b[1;33m,\u001b[0m \u001b[0mcbar\u001b[0m\u001b[1;33m=\u001b[0m\u001b[1;32mFalse\u001b[0m\u001b[1;33m)\u001b[0m\u001b[1;33m\u001b[0m\u001b[1;33m\u001b[0m\u001b[0m\n",
      "\u001b[1;31mNameError\u001b[0m: name 'confusion_matrix' is not defined"
     ]
    }
   ],
   "source": [
    "lstm_accuracy, lstm_precision, lstm_recall, lstm_fscore = LSTM_classifier.lstm_metrics(lstm_predictions, y_test_t_v)\n",
    "LSTM_classifier.lstm_loss_plot(lstm_history)\n",
    "LSTM_classifier.lstm_confusion_matrix_plot(lstm_predictions, y_test_t_v)"
   ]
  },
  {
   "cell_type": "markdown",
   "id": "05982bb7",
   "metadata": {},
   "source": [
    "## 5-BiLSTM"
   ]
  },
  {
   "cell_type": "code",
   "execution_count": 8,
   "id": "a4741f54",
   "metadata": {},
   "outputs": [],
   "source": [
    "embedding_matrix,X_train_t_v, y_train_t_v, X_test_t_v, y_test_t_v, vocab_size = Data_Prepare.tokenize_vectorize(data_set_all, data_train_valid, data_test)"
   ]
  },
  {
   "cell_type": "code",
   "execution_count": 9,
   "id": "671c33ce",
   "metadata": {},
   "outputs": [
    {
     "name": "stdout",
     "output_type": "stream",
     "text": [
      "Model: \"sequential\"\n",
      "_________________________________________________________________\n",
      " Layer (type)                Output Shape              Param #   \n",
      "=================================================================\n",
      " embedding (Embedding)       (None, 300, 150)          1828950   \n",
      "                                                                 \n",
      " bidirectional (Bidirectiona  (None, 300, 256)         285696    \n",
      " l)                                                              \n",
      "                                                                 \n",
      " bidirectional_1 (Bidirectio  (None, 128)              164352    \n",
      " nal)                                                            \n",
      "                                                                 \n",
      " dense (Dense)               (None, 32)                4128      \n",
      "                                                                 \n",
      " dense_1 (Dense)             (None, 1)                 33        \n",
      "                                                                 \n",
      "=================================================================\n",
      "Total params: 2,283,159\n",
      "Trainable params: 454,209\n",
      "Non-trainable params: 1,828,950\n",
      "_________________________________________________________________\n",
      "Epoch 1/5\n",
      "136/136 [==============================] - 1142s 8s/step - loss: 0.6525 - accuracy: 0.6435 - val_loss: 0.6336 - val_accuracy: 0.6651\n",
      "Epoch 2/5\n",
      "136/136 [==============================] - 1167s 9s/step - loss: 0.6421 - accuracy: 0.6428 - val_loss: 0.6236 - val_accuracy: 0.6677\n",
      "Epoch 3/5\n",
      "136/136 [==============================] - 1176s 9s/step - loss: 0.6350 - accuracy: 0.6448 - val_loss: 0.6236 - val_accuracy: 0.6655\n",
      "Epoch 4/5\n",
      "136/136 [==============================] - 1174s 9s/step - loss: 0.6287 - accuracy: 0.6487 - val_loss: 0.6223 - val_accuracy: 0.6633\n",
      "Epoch 5/5\n",
      "136/136 [==============================] - 1183s 9s/step - loss: 0.6228 - accuracy: 0.6553 - val_loss: 0.6209 - val_accuracy: 0.6716\n",
      "Execution time of BiLSTM: 5843.47 seconds\n"
     ]
    }
   ],
   "source": [
    "bilstm_model, bilstm_history = BiLSTM_classifier.train_bilstm(vocab_size,\n",
    "                                                              X_train_t_v,\n",
    "                                                              y_train_t_v, 5,68)"
   ]
  },
  {
   "cell_type": "code",
   "execution_count": 37,
   "id": "8a6010fb",
   "metadata": {
    "scrolled": true
   },
   "outputs": [
    {
     "name": "stdout",
     "output_type": "stream",
     "text": [
      "361/361 [==============================] - 61s 168ms/step\n",
      "40/40 [==============================] - 7s 166ms/step\n",
      "BiLSTM - Accuracy: 0.4940805051302289\n",
      "BiLSTM - Precision: 0.3958785249457701\n",
      "BiLSTM - Recall: 0.8129175946547884\n",
      "BiLSTM - F-score: 0.5324580598103574\n"
     ]
    },
    {
     "ename": "NameError",
     "evalue": "name 'recision' is not defined",
     "output_type": "error",
     "traceback": [
      "\u001b[1;31m---------------------------------------------------------------------------\u001b[0m",
      "\u001b[1;31mNameError\u001b[0m                                 Traceback (most recent call last)",
      "\u001b[1;32m~\\AppData\\Local\\Temp/ipykernel_18896/2462510945.py\u001b[0m in \u001b[0;36m<module>\u001b[1;34m\u001b[0m\n\u001b[0;32m      1\u001b[0m \u001b[0mbilstm_train_predictions\u001b[0m\u001b[1;33m,\u001b[0m \u001b[0mbilstm_predictions\u001b[0m \u001b[1;33m=\u001b[0m \u001b[0mBiLSTM_classifier\u001b[0m\u001b[1;33m.\u001b[0m\u001b[0mpredict_bilstm\u001b[0m\u001b[1;33m(\u001b[0m\u001b[0mbilstm_model\u001b[0m\u001b[1;33m,\u001b[0m\u001b[0mX_train_t_v\u001b[0m\u001b[1;33m,\u001b[0m \u001b[0mX_test_t_v\u001b[0m\u001b[1;33m)\u001b[0m\u001b[1;33m\u001b[0m\u001b[1;33m\u001b[0m\u001b[0m\n\u001b[1;32m----> 2\u001b[1;33m \u001b[0mbilstm_accuracy\u001b[0m\u001b[1;33m,\u001b[0m \u001b[0mbilstm_precision\u001b[0m\u001b[1;33m,\u001b[0m \u001b[0mbilstm_recall\u001b[0m\u001b[1;33m,\u001b[0m \u001b[0mbilstm_fscore\u001b[0m\u001b[1;33m=\u001b[0m\u001b[0mBiLSTM_classifier\u001b[0m\u001b[1;33m.\u001b[0m\u001b[0mbilstm_metrics\u001b[0m\u001b[1;33m(\u001b[0m\u001b[0mbilstm_predictions\u001b[0m\u001b[1;33m,\u001b[0m \u001b[0my_test_t_v\u001b[0m\u001b[1;33m)\u001b[0m\u001b[1;33m\u001b[0m\u001b[1;33m\u001b[0m\u001b[0m\n\u001b[0m",
      "\u001b[1;32m~\\Desktop\\Diba-These\\Scripts\\Fake_News_Detection_BiLSTM.py\u001b[0m in \u001b[0;36mbilstm_metrics\u001b[1;34m(bilstm_predictions, y_test)\u001b[0m\n\u001b[0;32m     74\u001b[0m     \u001b[0mprint\u001b[0m\u001b[1;33m(\u001b[0m\u001b[1;34m\"BiLSTM - Precision:\"\u001b[0m\u001b[1;33m,\u001b[0m \u001b[0mprecision\u001b[0m\u001b[1;33m)\u001b[0m\u001b[1;33m\u001b[0m\u001b[1;33m\u001b[0m\u001b[0m\n\u001b[0;32m     75\u001b[0m     \u001b[0mprint\u001b[0m\u001b[1;33m(\u001b[0m\u001b[1;34m\"BiLSTM - Recall:\"\u001b[0m\u001b[1;33m,\u001b[0m \u001b[0mrecall\u001b[0m\u001b[1;33m)\u001b[0m\u001b[1;33m\u001b[0m\u001b[1;33m\u001b[0m\u001b[0m\n\u001b[1;32m---> 76\u001b[1;33m     \u001b[0mprint\u001b[0m\u001b[1;33m(\u001b[0m\u001b[1;34m\"BiLSTM - F-score:\"\u001b[0m\u001b[1;33m,\u001b[0m \u001b[0mfscore\u001b[0m\u001b[1;33m)\u001b[0m\u001b[1;33m\u001b[0m\u001b[1;33m\u001b[0m\u001b[0m\n\u001b[0m\u001b[0;32m     77\u001b[0m     \u001b[1;32mreturn\u001b[0m \u001b[0maccuracy\u001b[0m\u001b[1;33m,\u001b[0m\u001b[0mprecision\u001b[0m\u001b[1;33m,\u001b[0m \u001b[0mrecall\u001b[0m\u001b[1;33m,\u001b[0m \u001b[0mfscore\u001b[0m\u001b[1;33m\u001b[0m\u001b[1;33m\u001b[0m\u001b[0m\n\u001b[0;32m     78\u001b[0m \u001b[1;33m\u001b[0m\u001b[0m\n",
      "\u001b[1;31mNameError\u001b[0m: name 'recision' is not defined"
     ]
    }
   ],
   "source": [
    "bilstm_train_predictions, bilstm_predictions = BiLSTM_classifier.predict_bilstm(bilstm_model,X_train_t_v, X_test_t_v)\n",
    "bilstm_accuracy, bilstm_precision, bilstm_recall, bilstm_fscore=BiLSTM_classifier.bilstm_metrics(bilstm_predictions, y_test_t_v)\n",
    "BiLSTM_classifier.bilstm_loss_plot(bilstm_history)\n",
    "BiLSTM_classifier.bilstm_confusion_matrix_plot(bilstm_predictions, y_test_t_v)\n",
    "bilstm_roc_plot(bilstm_predictions, y_test_t_v)"
   ]
  },
  {
   "cell_type": "code",
   "execution_count": 41,
   "id": "bda2b65c",
   "metadata": {},
   "outputs": [],
   "source": [
    "bilstm_accuracy= 0.4940805051302289\n",
    "bilstm_precision= 0.3958785249457701\n",
    "bilstm_recall= 0.8129175946547884\n",
    "bilstm_fscore= 0.5324580598103574"
   ]
  },
  {
   "cell_type": "markdown",
   "id": "593cf11f",
   "metadata": {},
   "source": [
    "## Evaluate Ensemblely!"
   ]
  },
  {
   "cell_type": "code",
   "execution_count": 43,
   "id": "3384ffd4",
   "metadata": {},
   "outputs": [
    {
     "data": {
      "image/png": "[encoded data removed]",
      "text/plain": [
       "<Figure size 432x288 with 1 Axes>"
      ]
     },
     "metadata": {
      "needs_background": "light"
     },
     "output_type": "display_data"
    }
   ],
   "source": [
    "metrics = ['Accuracy','Precision','Recall','F-score'] \n",
    "svm = [svm_accuracy, svm_precision, svm_recall, svm_fscore] \n",
    "pa=[pa_accuracy, pa_precision, pa_recall, pa_fscore]\n",
    "xgb=[xgb_accuracy, xgb_precision, xgb_recall, xgb_fscore]\n",
    "lstm = [lstm_accuracy, lstm_precision, lstm_recall, lstm_fscore] \n",
    "bilstm = [bilstm_accuracy, bilstm_precision, bilstm_recall, bilstm_fscore] \n",
    "\n",
    "bar_width = 0.15 \n",
    "index = np.arange(len(metrics))\n",
    "plt.bar(index, svm, bar_width, label='SVM')\n",
    "plt.bar(index + bar_width, pa, bar_width, label='PA')\n",
    "plt.bar(index + 2*bar_width, xgb, bar_width, label='XGB')\n",
    "plt.bar(index + 3*bar_width, lstm, bar_width, label='LSTM')\n",
    "plt.bar(index + 4*bar_width, bilstm, bar_width, label='BiLSTM')\n",
    "\n",
    "plt.xlabel('Metrics')\n",
    "plt.ylabel('Values')\n",
    "plt.title('Classifier Metrics Comparison')\n",
    "\n",
    "plt.xticks(index + bar_width, metrics)\n",
    "plt.legend()\n",
    "plt.show()\n",
    "        "
   ]
  },
  {
   "cell_type": "code",
   "execution_count": 44,
   "id": "5346ac90",
   "metadata": {},
   "outputs": [],
   "source": [
    "import numpy as np\n",
    "def ensemble_prediction():   \n",
    "    votes = np.array([list(row) for row in zip(svm_predictions ,xgb_predictions, pa_predictions, lstm_predictions, bilstm_predictions)])\n",
    "    column_sums = np.sum(votes, axis=1)\n",
    "    averages_vote = []\n",
    "    for column_sum in column_sums:\n",
    "        average = column_sum / 5\n",
    "        averages_vote.append(average.round())\n",
    "    return averages_vote"
   ]
  },
  {
   "cell_type": "code",
   "execution_count": 45,
   "id": "d657fd4b",
   "metadata": {
    "scrolled": true
   },
   "outputs": [
    {
     "name": "stdout",
     "output_type": "stream",
     "text": [
      "Model - accuracy: 0.6266771902131019\n",
      "Model - Precision: 0.4793814432989691\n",
      "Model - Recall: 0.621380846325167\n",
      "Model - F-score: 0.5412221144519883\n"
     ]
    }
   ],
   "source": [
    "y_pred_ensemble = ensemble_prediction()\n",
    "\n",
    "accuracy = sum(y_pred_ensemble == y_test) / len(y_test)\n",
    "\n",
    "precision, recall, fscore, support = precision_recall_fscore_support(y_test, y_pred_ensemble, average='binary')\n",
    "print(\"Model - accuracy:\", accuracy)\n",
    "print(\"Model - Precision:\", precision)\n",
    "print(\"Model - Recall:\", recall)\n",
    "print(\"Model - F-score:\", fscore)"
   ]
  },
  {
   "cell_type": "code",
   "execution_count": 46,
   "id": "964e3603",
   "metadata": {},
   "outputs": [
    {
     "data": {
      "image/png": "[encoded data removed]",
      "text/plain": [
       "<Figure size 432x288 with 1 Axes>"
      ]
     },
     "metadata": {
      "needs_background": "light"
     },
     "output_type": "display_data"
    }
   ],
   "source": [
    "#Visualizing distribution of predeiction of ensemble clas\n",
    "class_counts = np.bincount(y_pred_ensemble)\n",
    "plt.bar(range(len(class_counts)), class_counts)\n",
    "class_labels = ['Fake', 'Real']\n",
    "plt.xticks(range(len(class_counts)), class_labels)\n",
    "plt.title('Distribution of Classifications')\n",
    "plt.xlabel('Class')\n",
    "plt.ylabel('Count')\n",
    "plt.show()"
   ]
  },
  {
   "cell_type": "markdown",
   "id": "3869b349",
   "metadata": {},
   "source": [
    "## MLP Classifier"
   ]
  },
  {
   "cell_type": "code",
   "execution_count": 51,
   "id": "77ad3ca4",
   "metadata": {},
   "outputs": [
    {
     "name": "stdout",
     "output_type": "stream",
     "text": [
      "Before SMOTE: Counter({0: 7001, 1: 4523})\n",
      "After SMOTE: Counter({0: 7001, 1: 7001})\n"
     ]
    }
   ],
   "source": [
    "lstm_train_valid_resampled, lstm_train_valid_predictions_resampled = Data_Prepare.oversampling_data(X_train_t_v,lstm_train_valid_predictions)\n",
    "# X_train_valid_resampled_sequences = Data_Prepare.pad_sequences(X_train_valid_resampled.toarray(),\n",
    "#                                                       maxlen=250, truncating='post', padding='post')"
   ]
  },
  {
   "cell_type": "code",
   "execution_count": 53,
   "id": "96885550",
   "metadata": {},
   "outputs": [
    {
     "name": "stdout",
     "output_type": "stream",
     "text": [
      "Before SMOTE: Counter({1: 8333, 0: 3191})\n",
      "After SMOTE: Counter({1: 8333, 0: 8333})\n"
     ]
    }
   ],
   "source": [
    "bilstm_train_resampled, bilstm_train_predictions_resampled = Data_Prepare.oversampling_data(X_train_t_v,bilstm_train_predictions)\n"
   ]
  },
  {
   "cell_type": "code",
   "execution_count": 58,
   "id": "ef399c02",
   "metadata": {},
   "outputs": [],
   "source": [
    "xgb_train_valid_predictions = np.array(xgb_train_valid_predictions)\n",
    "xgb_predictions= np.array(xgb_predictions)\n",
    "\n",
    "stacked_X_train = np.hstack((X_train_valid_resampled.toarray(), \n",
    "                             svm_train_valid_predictions.reshape((-1, 1)),\n",
    "                             xgb_train_valid_predictions.reshape((-1, 1)),\n",
    "#                              lstm_train_valid_predictions_resampled.reshape((-1, 1)),\n",
    "#                              bilstm_train_predictions_resampled.reshape((-1, 1)),\n",
    "                             pa_train_valid_predictions.reshape((-1, 1))))\n",
    "stacked_X_test = np.hstack((X_test_vectorized.toarray(), \n",
    "                            svm_predictions.reshape((-1, 1)),\n",
    "                            xgb_predictions.reshape((-1, 1)),\n",
    "#                             lstm_predictions.reshape((-1, 1)),\n",
    "#                             bilstm_predictions.reshape((-1, 1)),\n",
    "                            pa_predictions.reshape((-1, 1))))\n"
   ]
  },
  {
   "cell_type": "code",
   "execution_count": 59,
   "id": "cf4067f0",
   "metadata": {
    "scrolled": false
   },
   "outputs": [
    {
     "name": "stdout",
     "output_type": "stream",
     "text": [
      "Execution time of MLP: 172.55 seconds\n"
     ]
    }
   ],
   "source": [
    "mlp_predictions = MLP_classifier.build_mlp(stacked_X_train, y_train_valid_resampled,stacked_X_test)"
   ]
  },
  {
   "cell_type": "code",
   "execution_count": 60,
   "id": "ae9611cb",
   "metadata": {},
   "outputs": [
    {
     "name": "stdout",
     "output_type": "stream",
     "text": [
      "              precision    recall  f1-score   support\n",
      "\n",
      "           0       0.71      0.65      0.68       818\n",
      "           1       0.45      0.52      0.48       449\n",
      "\n",
      "    accuracy                           0.61      1267\n",
      "   macro avg       0.58      0.59      0.58      1267\n",
      "weighted avg       0.62      0.61      0.61      1267\n",
      "\n",
      "MLP F-score: 0.6053670086819258\n",
      "MLP Accuracy: 0.6053670086819258\n"
     ]
    }
   ],
   "source": [
    "from sklearn.metrics import f1_score, accuracy_score, classification_report\n",
    "f_score = f1_score(y_test, mlp_predictions, average='micro')\n",
    "accuracy = accuracy_score(y_test, mlp_predictions)\n",
    "print(classification_report(y_test, mlp_predictions))\n",
    "print(\"MLP F-score:\", f_score)\n",
    "print(\"MLP Accuracy:\", accuracy)"
   ]
  },
  {
   "cell_type": "code",
   "execution_count": null,
   "id": "8a05436e",
   "metadata": {},
   "outputs": [],
   "source": [
    "MLP_classifier.mlp_metrics(mlp_predictions, y_test)"
   ]
  },
  {
   "cell_type": "code",
   "execution_count": 462,
   "id": "7967a492",
   "metadata": {},
   "outputs": [],
   "source": [
    "# from sklearn.neural_network import MLPClassifier\n",
    "# import time\n",
    "\n",
    "# def build_mlp():\n",
    "#     start_time = time.time()\n",
    "    \n",
    "#     mlp_classifier = MLPClassifier()\n",
    "#     mlp_classifier.fit(stacked_X_train, y_train_valid_resampled)\n",
    "\n",
    "#     mlp_predictions = mlp_classifier.predict(stacked_X_test)\n",
    "    \n",
    "#     end_time = time.time()\n",
    "#     execution_time = end_time - start_time\n",
    "#     print(\"Execution time of MLP: {:.2f} seconds\".format(execution_time))\n",
    "#     return mlp_predictions"
   ]
  },
  {
   "cell_type": "code",
   "execution_count": 464,
   "id": "70b8e199",
   "metadata": {
    "scrolled": false
   },
   "outputs": [
    {
     "name": "stdout",
     "output_type": "stream",
     "text": [
      "              precision    recall  f1-score   support\n",
      "\n",
      "           0       0.72      0.70      0.71       818\n",
      "           1       0.48      0.51      0.50       449\n",
      "\n",
      "    accuracy                           0.63      1267\n",
      "   macro avg       0.60      0.60      0.60      1267\n",
      "weighted avg       0.64      0.63      0.63      1267\n",
      "\n",
      "Model4 - MLP F-score: 0.6314127861089187\n",
      "Model4 - MLP Accuracy: 0.6314127861089187\n"
     ]
    }
   ],
   "source": [
    "# from sklearn.metrics import accuracy_score,f1_score, classification_report\n",
    "\n",
    "# f_score = f1_score(y_test, mlp_predictions, average='micro')\n",
    "# accuracy = accuracy_score(y_test, mlp_predictions)\n",
    "# print(classification_report(y_test, mlp_predictions))\n",
    "# print(\"Model4 - MLP F-score:\", f_score)\n",
    "# print(\"Model4 - MLP Accuracy:\", accuracy)"
   ]
  },
  {
   "cell_type": "code",
   "execution_count": null,
   "id": "1024ee71",
   "metadata": {},
   "outputs": [],
   "source": []
  }
 ],
 "metadata": {
  "kernelspec": {
   "display_name": "Python 3 (ipykernel)",
   "language": "python",
   "name": "python3"
  },
  "language_info": {
   "codemirror_mode": {
    "name": "ipython",
    "version": 3
   },
   "file_extension": ".py",
   "mimetype": "text/x-python",
   "name": "python",
   "nbconvert_exporter": "python",
   "pygments_lexer": "ipython3",
   "version": "3.9.5"
  }
 },
 "nbformat": 4,
 "nbformat_minor": 5
}
