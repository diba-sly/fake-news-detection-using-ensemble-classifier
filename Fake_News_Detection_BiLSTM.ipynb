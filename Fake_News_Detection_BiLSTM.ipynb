{
 "cells": [
  {
   "cell_type": "markdown",
   "id": "7c23f813",
   "metadata": {},
   "source": [
    "BiLSTM classifier"
   ]
  },
  {
   "cell_type": "code",
   "execution_count": 19,
   "id": "099d2dd8",
   "metadata": {},
   "outputs": [],
   "source": [
    "import re\n",
    "from tensorflow.keras.preprocessing.sequence import pad_sequences\n",
    "from tensorflow.keras.layers import *\n",
    "from tensorflow.keras.models import Sequential\n",
    "import pandas as pd\n",
    "import numpy as np\n",
    "from sklearn.metrics import precision_recall_fscore_support\n",
    "from sklearn.metrics import confusion_matrix, auc, roc_curve, roc_auc_score\n",
    "import matplotlib.pyplot as plt\n",
    "import time"
   ]
  },
  {
   "cell_type": "code",
   "execution_count": 20,
   "id": "021b0fbf",
   "metadata": {},
   "outputs": [],
   "source": [
    "# Constants\n",
    "MAX_SEQUENCE_LENGTH = 300\n",
    "EMBEDDING_DIM = 150"
   ]
  },
  {
   "cell_type": "code",
   "execution_count": 27,
   "id": "42398222",
   "metadata": {},
   "outputs": [],
   "source": [
    "def train_bilstm(vocab_size,X_train,y_train,epochs=10,batch_size=128):\n",
    "\n",
    "    start_time = time.time()\n",
    "    loss_values = []\n",
    "\n",
    "    bilstm_model = Sequential()\n",
    "    bilstm_model.add(Embedding(input_dim=vocab_size, output_dim=EMBEDDING_DIM, input_length=MAX_SEQUENCE_LENGTH, trainable=False))\n",
    "    bilstm_model.add(Bidirectional(LSTM(units=128, return_sequences=True, recurrent_dropout=0.25, dropout=0.25)))\n",
    "    bilstm_model.add(Bidirectional(LSTM(units=64, recurrent_dropout=0.1, dropout=0.1)))\n",
    "    bilstm_model.add(Dense(units=32, activation='relu'))\n",
    "    bilstm_model.add(Dense(1, activation='sigmoid'))\n",
    "    bilstm_model.compile(loss='binary_crossentropy', optimizer='adam', metrics=['accuracy'])\n",
    "\n",
    "    bilstm_model.summary()\n",
    "    \n",
    "    history = bilstm_model.fit(X_train, y_train, epochs = epochs, batch_size=batch_size, validation_split=0.2)\n",
    "    \n",
    "    end_time = time.time()\n",
    "    execution_time = end_time - start_time\n",
    "    print(\"Execution time of BiLSTM: {:.2f} seconds\".format(execution_time))\n",
    "    return bilstm_model, history"
   ]
  },
  {
   "cell_type": "code",
   "execution_count": 22,
   "id": "16b9cc7a",
   "metadata": {},
   "outputs": [],
   "source": [
    "def predict_bilstm(bilstm_model, X_train, X_test):\n",
    "    bilstm_train_predictions = (bilstm_model.predict(X_train) > 0.3).astype(int).flatten()\n",
    "    bilstm_predictions = (bilstm_model.predict(X_test) > 0.3).astype(int).flatten()\n",
    "    return bilstm_train_predictions, bilstm_predictions"
   ]
  },
  {
   "cell_type": "code",
   "execution_count": 23,
   "id": "c83a9134",
   "metadata": {},
   "outputs": [],
   "source": [
    "def bilstm_metrics(bilstm_predictions, y_test):\n",
    "    accuracy = sum(bilstm_predictions == y_test) / len(y_test)\n",
    "\n",
    "    precision, recall, fscore, support = precision_recall_fscore_support(y_test, bilstm_predictions, average='binary')\n",
    "\n",
    "    print(\"BiLSTM - Accuracy:\", accuracy)\n",
    "    print(\"BiLSTM - Precision:\", precision)\n",
    "    print(\"BiLSTM - Recall:\", recall)\n",
    "    print(\"BiLSTM - F-score:\", fscore)\n",
    "    return accuracy,recision, recall, fscore"
   ]
  },
  {
   "cell_type": "code",
   "execution_count": 24,
   "id": "2c808613",
   "metadata": {},
   "outputs": [],
   "source": [
    "def bilstm_loss_plot(history):\n",
    "    loss = history.history['loss']\n",
    "    val_loss = history.history['val_loss']\n",
    "    epochs = range(1, len(loss)+1)\n",
    "    plt.plot(epochs, loss, label='Training loss')\n",
    "    plt.plot(epochs, val_loss, label='Validation loss')\n",
    "    plt.title('Training and validation loss in BiLSTM')\n",
    "    plt.xlabel('Epochs')\n",
    "    plt.ylabel('Loss')\n",
    "    plt.legend()\n",
    "    plt.show();"
   ]
  },
  {
   "cell_type": "code",
   "execution_count": 25,
   "id": "035b1eb4",
   "metadata": {},
   "outputs": [],
   "source": [
    "def bilstm_confusion_matrix_plot(bilstm_predictions, y_test):\n",
    "    cm = confusion_matrix(y_test, bilstm_predictions)\n",
    "    plt.figure(figsize=(8, 6))\n",
    "    sns.heatmap(cm, annot=True, cmap='Blues', fmt='g', cbar=False)\n",
    "    plt.xlabel('Predicted')\n",
    "    plt.ylabel('True')\n",
    "    plt.title('Confusion Matrix - BiLSTM')\n",
    "    plt.show()"
   ]
  },
  {
   "cell_type": "code",
   "execution_count": 26,
   "id": "451b32db",
   "metadata": {},
   "outputs": [],
   "source": [
    "def bilstm_roc_plot(bilstm_predictions, y_test):\n",
    "    # Compute the true positive rate (tpr) and false positive rate (fpr) using roc_curve\n",
    "    bilstm_fpr, bilstm_tpr, bilstm_thresholds = roc_curve(y_test, bilstm_predictions)\n",
    "    bilstm_roc_auc = auc(bilstm_fpr, bilstm_tpr)\n",
    "\n",
    "    # Plot ROC curve\n",
    "    plt.figure()\n",
    "    plt.plot(bilstm_fpr, bilstm_tpr, color='darkorange', lw=2, label='ROC curve (area = %0.2f)' % bilstm_roc_auc)\n",
    "    plt.plot([0, 1], [0, 1], color='navy', lw=2, linestyle='--')\n",
    "    plt.xlim([0.0, 1.0])\n",
    "    plt.ylim([0.0, 1.05])\n",
    "    plt.xlabel('False Positive Rate')\n",
    "    plt.ylabel('True Positive Rate')\n",
    "    plt.title('Receiver Operating Characteristic (ROC) -BiLSTM')\n",
    "    plt.legend(loc=\"lower right\")\n",
    "    plt.show()"
   ]
  },
  {
   "cell_type": "code",
   "execution_count": null,
   "id": "ddfa754a",
   "metadata": {},
   "outputs": [],
   "source": []
  }
 ],
 "metadata": {
  "kernelspec": {
   "display_name": "Python 3 (ipykernel)",
   "language": "python",
   "name": "python3"
  },
  "language_info": {
   "codemirror_mode": {
    "name": "ipython",
    "version": 3
   },
   "file_extension": ".py",
   "mimetype": "text/x-python",
   "name": "python",
   "nbconvert_exporter": "python",
   "pygments_lexer": "ipython3",
   "version": "3.9.5"
  }
 },
 "nbformat": 4,
 "nbformat_minor": 5
}
