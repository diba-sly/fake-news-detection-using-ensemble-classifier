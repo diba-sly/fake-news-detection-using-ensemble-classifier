{
 "cells": [
  {
   "cell_type": "markdown",
   "id": "67217fef",
   "metadata": {},
   "source": [
    "Loading data from datasets"
   ]
  },
  {
   "cell_type": "code",
   "execution_count": 258,
   "id": "a55898de",
   "metadata": {},
   "outputs": [],
   "source": [
    "import pandas as pd\n",
    "\n",
    "data_train = pd.read_csv(\"sample_data/train.tsv\", sep=\"\\t\", header=None)\n",
    "data_valid = pd.read_csv(\"sample_data/valid.tsv\", sep=\"\\t\", header=None)\n",
    "data_test = pd.read_csv(\"sample_data/test.tsv\", sep=\"\\t\", header=None)"
   ]
  },
  {
   "cell_type": "code",
   "execution_count": 259,
   "id": "cee36212",
   "metadata": {
    "scrolled": true
   },
   "outputs": [
    {
     "data": {
      "text/html": [
       "<div>\n",
       "<style scoped>\n",
       "    .dataframe tbody tr th:only-of-type {\n",
       "        vertical-align: middle;\n",
       "    }\n",
       "\n",
       "    .dataframe tbody tr th {\n",
       "        vertical-align: top;\n",
       "    }\n",
       "\n",
       "    .dataframe thead th {\n",
       "        text-align: right;\n",
       "    }\n",
       "</style>\n",
       "<table border=\"1\" class=\"dataframe\">\n",
       "  <thead>\n",
       "    <tr style=\"text-align: right;\">\n",
       "      <th></th>\n",
       "      <th>0</th>\n",
       "      <th>1</th>\n",
       "      <th>2</th>\n",
       "      <th>3</th>\n",
       "      <th>4</th>\n",
       "      <th>5</th>\n",
       "      <th>6</th>\n",
       "      <th>7</th>\n",
       "      <th>8</th>\n",
       "      <th>9</th>\n",
       "      <th>10</th>\n",
       "      <th>11</th>\n",
       "      <th>12</th>\n",
       "      <th>13</th>\n",
       "    </tr>\n",
       "  </thead>\n",
       "  <tbody>\n",
       "    <tr>\n",
       "      <th>0</th>\n",
       "      <td>2635.json</td>\n",
       "      <td>false</td>\n",
       "      <td>Says the Annies List political group supports ...</td>\n",
       "      <td>abortion</td>\n",
       "      <td>dwayne-bohac</td>\n",
       "      <td>State representative</td>\n",
       "      <td>Texas</td>\n",
       "      <td>republican</td>\n",
       "      <td>0.0</td>\n",
       "      <td>1.0</td>\n",
       "      <td>0.0</td>\n",
       "      <td>0.0</td>\n",
       "      <td>0.0</td>\n",
       "      <td>a mailer</td>\n",
       "    </tr>\n",
       "    <tr>\n",
       "      <th>1</th>\n",
       "      <td>10540.json</td>\n",
       "      <td>half-true</td>\n",
       "      <td>When did the decline of coal start? It started...</td>\n",
       "      <td>energy,history,job-accomplishments</td>\n",
       "      <td>scott-surovell</td>\n",
       "      <td>State delegate</td>\n",
       "      <td>Virginia</td>\n",
       "      <td>democrat</td>\n",
       "      <td>0.0</td>\n",
       "      <td>0.0</td>\n",
       "      <td>1.0</td>\n",
       "      <td>1.0</td>\n",
       "      <td>0.0</td>\n",
       "      <td>a floor speech.</td>\n",
       "    </tr>\n",
       "    <tr>\n",
       "      <th>2</th>\n",
       "      <td>324.json</td>\n",
       "      <td>mostly-true</td>\n",
       "      <td>Hillary Clinton agrees with John McCain \"by vo...</td>\n",
       "      <td>foreign-policy</td>\n",
       "      <td>barack-obama</td>\n",
       "      <td>President</td>\n",
       "      <td>Illinois</td>\n",
       "      <td>democrat</td>\n",
       "      <td>70.0</td>\n",
       "      <td>71.0</td>\n",
       "      <td>160.0</td>\n",
       "      <td>163.0</td>\n",
       "      <td>9.0</td>\n",
       "      <td>Denver</td>\n",
       "    </tr>\n",
       "  </tbody>\n",
       "</table>\n",
       "</div>"
      ],
      "text/plain": [
       "           0            1                                                  2   \\\n",
       "0   2635.json        false  Says the Annies List political group supports ...   \n",
       "1  10540.json    half-true  When did the decline of coal start? It started...   \n",
       "2    324.json  mostly-true  Hillary Clinton agrees with John McCain \"by vo...   \n",
       "\n",
       "                                   3               4                     5   \\\n",
       "0                            abortion    dwayne-bohac  State representative   \n",
       "1  energy,history,job-accomplishments  scott-surovell        State delegate   \n",
       "2                      foreign-policy    barack-obama             President   \n",
       "\n",
       "         6           7     8     9      10     11   12               13  \n",
       "0     Texas  republican   0.0   1.0    0.0    0.0  0.0         a mailer  \n",
       "1  Virginia    democrat   0.0   0.0    1.0    1.0  0.0  a floor speech.  \n",
       "2  Illinois    democrat  70.0  71.0  160.0  163.0  9.0           Denver  "
      ]
     },
     "execution_count": 259,
     "metadata": {},
     "output_type": "execute_result"
    }
   ],
   "source": [
    "data_train.head(3)"
   ]
  },
  {
   "cell_type": "code",
   "execution_count": 260,
   "id": "0fb033dc",
   "metadata": {},
   "outputs": [
    {
     "data": {
      "text/plain": [
       "(10240, 14)"
      ]
     },
     "execution_count": 260,
     "metadata": {},
     "output_type": "execute_result"
    }
   ],
   "source": [
    "data_train.shape"
   ]
  },
  {
   "cell_type": "code",
   "execution_count": 261,
   "id": "b10a747f",
   "metadata": {
    "scrolled": true
   },
   "outputs": [
    {
     "name": "stdout",
     "output_type": "stream",
     "text": [
      "The number of rows with label false is: 1995\n",
      "The number of rows with label pants-fire is: 839\n",
      "The number of rows with label true is: 1676\n",
      "The number of rows with label mostly-true is: 1962\n",
      "The number of rows with label half-true is: 2114\n",
      "The number of rows with label barely-true is: 1654\n"
     ]
    }
   ],
   "source": [
    "filtered_data1 = data_train[data_train.iloc[:, 1] ==  'false']\n",
    "filtered_data2 = data_train[data_train.iloc[:, 1]  == \"pants-fire\"]\n",
    "filtered_data3 = data_train[data_train.iloc[:, 1]  == \"true\"]\n",
    "filtered_data4 = data_train[data_train.iloc[:, 1]  == \"mostly-true\"]\n",
    "filtered_data5 = data_train[data_train.iloc[:, 1]  == \"half-true\"]\n",
    "filtered_data6 = data_train[data_train.iloc[:, 1]  == \"barely-true\"]\n",
    "\n",
    "print(f\"The number of rows with label false is: {filtered_data1.shape[0]}\")\n",
    "print(f\"The number of rows with label pants-fire is: {filtered_data2.shape[0]}\")\n",
    "print(f\"The number of rows with label true is: {filtered_data3.shape[0]}\")\n",
    "print(f\"The number of rows with label mostly-true is: {filtered_data4.shape[0]}\")\n",
    "print(f\"The number of rows with label half-true is: {filtered_data5.shape[0]}\")\n",
    "print(f\"The number of rows with label barely-true is: {filtered_data6.shape[0]}\")"
   ]
  },
  {
   "cell_type": "markdown",
   "id": "e915e263",
   "metadata": {},
   "source": [
    "convert 6 classes to 2 classes"
   ]
  },
  {
   "cell_type": "code",
   "execution_count": 262,
   "id": "23adf402",
   "metadata": {},
   "outputs": [],
   "source": [
    "def combine_classes(dataset):\n",
    "    dataset['label']=[1 if x==\"true\"or x==\"mostly-true\" else 0 for x in dataset[1]]\n",
    "    \n",
    "    #Dealing with empty datapoints for metadata columns - subject, speaker, job, state,affiliation, context\n",
    "    meta = []\n",
    "    for i in range(len(dataset)):\n",
    "      subject = dataset[3][i]\n",
    "      if subject == 0:\n",
    "          subject = 'None'\n",
    "\n",
    "      speaker =  dataset[4][i]\n",
    "      if speaker == 0:\n",
    "          speaker = 'None'\n",
    "\n",
    "      job =  dataset[5][i]\n",
    "      if job == 0:\n",
    "          job = 'None'\n",
    "\n",
    "      state =  dataset[6][i]\n",
    "      if state == 0:\n",
    "          state = 'None'\n",
    "\n",
    "      affiliation =  dataset[7][i]\n",
    "      if affiliation == 0:\n",
    "          affiliation = 'None'\n",
    "\n",
    "      context =  dataset[13][i]\n",
    "      if context == 0 :\n",
    "          context = 'None'\n",
    "\n",
    "      meta.append(str(subject) + ' ' + str(speaker) + ' ' + str(job) + ' ' + str(state) + ' ' + str(affiliation) + ' ' + str(context)) #combining all the meta data columns into a single column\n",
    "  \n",
    "    #Adding cleaned and combined metadata column to the dataset\n",
    "    dataset[14] = meta\n",
    "    dataset[\"sentence\"] = dataset[14].astype('str')+\" \"+dataset[2]\n",
    "    \n",
    "    #Dropping unwanted columns\n",
    "    dataset = dataset.drop(labels=[0,1,2,3,4,5,6,7,8,9,10,11,12,13,14] ,axis=1)\n",
    "    dataset.dropna()\n",
    "    return dataset"
   ]
  },
  {
   "cell_type": "code",
   "execution_count": 263,
   "id": "cab54793",
   "metadata": {
    "scrolled": true
   },
   "outputs": [
    {
     "data": {
      "text/html": [
       "<div>\n",
       "<style scoped>\n",
       "    .dataframe tbody tr th:only-of-type {\n",
       "        vertical-align: middle;\n",
       "    }\n",
       "\n",
       "    .dataframe tbody tr th {\n",
       "        vertical-align: top;\n",
       "    }\n",
       "\n",
       "    .dataframe thead th {\n",
       "        text-align: right;\n",
       "    }\n",
       "</style>\n",
       "<table border=\"1\" class=\"dataframe\">\n",
       "  <thead>\n",
       "    <tr style=\"text-align: right;\">\n",
       "      <th></th>\n",
       "      <th>label</th>\n",
       "      <th>sentence</th>\n",
       "    </tr>\n",
       "  </thead>\n",
       "  <tbody>\n",
       "    <tr>\n",
       "      <th>0</th>\n",
       "      <td>0</td>\n",
       "      <td>abortion dwayne-bohac State representative Tex...</td>\n",
       "    </tr>\n",
       "    <tr>\n",
       "      <th>1</th>\n",
       "      <td>0</td>\n",
       "      <td>energy,history,job-accomplishments scott-surov...</td>\n",
       "    </tr>\n",
       "    <tr>\n",
       "      <th>2</th>\n",
       "      <td>1</td>\n",
       "      <td>foreign-policy barack-obama President Illinois...</td>\n",
       "    </tr>\n",
       "  </tbody>\n",
       "</table>\n",
       "</div>"
      ],
      "text/plain": [
       "   label                                           sentence\n",
       "0      0  abortion dwayne-bohac State representative Tex...\n",
       "1      0  energy,history,job-accomplishments scott-surov...\n",
       "2      1  foreign-policy barack-obama President Illinois..."
      ]
     },
     "execution_count": 263,
     "metadata": {},
     "output_type": "execute_result"
    }
   ],
   "source": [
    "#Applying reduce_classes to the raw data - train, valid and test sets\n",
    "data_train = combine_classes(data_train)\n",
    "data_valid = combine_classes(data_valid)\n",
    "data_test = combine_classes(data_test)\n",
    "data_train.head(3)\n"
   ]
  },
  {
   "cell_type": "code",
   "execution_count": 264,
   "id": "7c06371b",
   "metadata": {
    "scrolled": false
   },
   "outputs": [
    {
     "data": {
      "text/plain": [
       "0    0.644727\n",
       "1    0.355273\n",
       "Name: label, dtype: float64"
      ]
     },
     "execution_count": 264,
     "metadata": {},
     "output_type": "execute_result"
    }
   ],
   "source": [
    "data_train['label'].value_counts(normalize='true')"
   ]
  },
  {
   "cell_type": "code",
   "execution_count": 265,
   "id": "3d8437cd",
   "metadata": {},
   "outputs": [],
   "source": [
    "data_tokenized_for_plot_train = data_train\n",
    "data_tokenized_for_plot_train = data_train"
   ]
  },
  {
   "cell_type": "markdown",
   "id": "1dc847d3",
   "metadata": {},
   "source": [
    "Preproccesing"
   ]
  },
  {
   "cell_type": "code",
   "execution_count": 266,
   "id": "8a96a53f",
   "metadata": {},
   "outputs": [],
   "source": [
    "from nltk.tokenize import word_tokenize\n",
    "from nltk.corpus import stopwords\n",
    "from nltk.stem import WordNetLemmatizer\n",
    "from nltk.stem.porter import PorterStemmer\n",
    "\n",
    "def data_preprocessing(dataset):\n",
    "    preprocessed_texts = []\n",
    "    for text in dataset:\n",
    "        # convert to lowercase\n",
    "        text = text.lower()    \n",
    "        # tokenize text\n",
    "        tokens = word_tokenize(text)\n",
    "        # remove punctuation and irrelevant characters\n",
    "        filtered_tokens = [token for token in tokens if token.isalnum()]\n",
    "        # remove stop words\n",
    "        stop_words = set(stopwords.words('english'))\n",
    "        filtered_tokens = [token for token in filtered_tokens if not token in stop_words]\n",
    "        # lemmatize tokens\n",
    "        lemmatizer = WordNetLemmatizer()\n",
    "        filtered_tokens = [lemmatizer.lemmatize(token) for token in filtered_tokens]\n",
    "        # stem tokens\n",
    "        stemmer = PorterStemmer()\n",
    "        filtered_tokens = [stemmer.stem(token) for token in filtered_tokens]\n",
    "        # join tokens back into string\n",
    "        preprocessed_text = ' '.join(filtered_tokens)\n",
    "        preprocessed_texts.append(preprocessed_text)\n",
    "    return preprocessed_texts"
   ]
  },
  {
   "cell_type": "code",
   "execution_count": 267,
   "id": "166413b0",
   "metadata": {
    "scrolled": true
   },
   "outputs": [
    {
     "data": {
      "text/html": [
       "<div>\n",
       "<style scoped>\n",
       "    .dataframe tbody tr th:only-of-type {\n",
       "        vertical-align: middle;\n",
       "    }\n",
       "\n",
       "    .dataframe tbody tr th {\n",
       "        vertical-align: top;\n",
       "    }\n",
       "\n",
       "    .dataframe thead th {\n",
       "        text-align: right;\n",
       "    }\n",
       "</style>\n",
       "<table border=\"1\" class=\"dataframe\">\n",
       "  <thead>\n",
       "    <tr style=\"text-align: right;\">\n",
       "      <th></th>\n",
       "      <th>label</th>\n",
       "      <th>sentence</th>\n",
       "    </tr>\n",
       "  </thead>\n",
       "  <tbody>\n",
       "    <tr>\n",
       "      <th>0</th>\n",
       "      <td>0</td>\n",
       "      <td>abort state repres texa republican mailer say ...</td>\n",
       "    </tr>\n",
       "    <tr>\n",
       "      <th>1</th>\n",
       "      <td>0</td>\n",
       "      <td>energi histori state deleg virginia democrat f...</td>\n",
       "    </tr>\n",
       "    <tr>\n",
       "      <th>2</th>\n",
       "      <td>1</td>\n",
       "      <td>presid illinoi democrat denver hillari clinton...</td>\n",
       "    </tr>\n",
       "    <tr>\n",
       "      <th>3</th>\n",
       "      <td>0</td>\n",
       "      <td>nan nan none news releas health care reform le...</td>\n",
       "    </tr>\n",
       "    <tr>\n",
       "      <th>4</th>\n",
       "      <td>0</td>\n",
       "      <td>economi job nan florida democrat interview cnn...</td>\n",
       "    </tr>\n",
       "  </tbody>\n",
       "</table>\n",
       "</div>"
      ],
      "text/plain": [
       "   label                                           sentence\n",
       "0      0  abort state repres texa republican mailer say ...\n",
       "1      0  energi histori state deleg virginia democrat f...\n",
       "2      1  presid illinoi democrat denver hillari clinton...\n",
       "3      0  nan nan none news releas health care reform le...\n",
       "4      0  economi job nan florida democrat interview cnn..."
      ]
     },
     "execution_count": 267,
     "metadata": {},
     "output_type": "execute_result"
    }
   ],
   "source": [
    "data_train['sentence'] = data_preprocessing(data_train['sentence'])\n",
    "data_valid['sentence'] = data_preprocessing(data_valid['sentence'])\n",
    "data_test['sentence'] = data_preprocessing(data_test['sentence'])\n",
    "\n",
    "data_train.head(5)"
   ]
  },
  {
   "cell_type": "markdown",
   "id": "43edb02e",
   "metadata": {},
   "source": [
    "Some little plays with datas"
   ]
  },
  {
   "cell_type": "code",
   "execution_count": 268,
   "id": "3f842c11",
   "metadata": {},
   "outputs": [],
   "source": [
    "import pandas as pd\n",
    "\n",
    "data = pd.concat([data_train, data_valid], ignore_index=True)\n",
    "data = pd.concat([data, data_test], ignore_index=True)"
   ]
  },
  {
   "cell_type": "code",
   "execution_count": 270,
   "id": "09888321",
   "metadata": {},
   "outputs": [
    {
     "data": {
      "image/png": "[encoded data removed]",
      "text/plain": [
       "<Figure size 720x432 with 1 Axes>"
      ]
     },
     "metadata": {
      "needs_background": "light"
     },
     "output_type": "display_data"
    },
    {
     "data": {
      "image/png": "[encoded data removed]",
      "text/plain": [
       "<Figure size 720x432 with 1 Axes>"
      ]
     },
     "metadata": {
      "needs_background": "light"
     },
     "output_type": "display_data"
    }
   ],
   "source": [
    "from sklearn.feature_extraction.text import CountVectorizer\n",
    "import matplotlib.pyplot as plt\n",
    "\n",
    "count_vectorizer = CountVectorizer()\n",
    "grouped_data = data.groupby('label')\n",
    "colors = ['tomato', 'green']\n",
    "i=0\n",
    "for label, group in grouped_data:\n",
    "    # Extract the sentences for the current label\n",
    "    sentences = group['sentence']\n",
    "\n",
    "    # Fit the vectorizer on the sentences and transform the text into a matrix of token counts\n",
    "    X = count_vectorizer.fit_transform(sentences)\n",
    "\n",
    "    # Compute the sums of the counts for each word across all documents\n",
    "    word_counts = X.sum(axis=0)\n",
    "\n",
    "    # Get the frequency counts and corresponding words\n",
    "    word_freq = [(word, word_counts[0, idx]) for word, idx in count_vectorizer.vocabulary_.items()]\n",
    "\n",
    "    # Sort the word frequency list in descending order\n",
    "    word_freq.sort(key=lambda x: x[1], reverse=True)\n",
    "\n",
    "    # Extract the top 20 frequent words\n",
    "    top_20_words = word_freq[:20]\n",
    "\n",
    "    # Create lists of words and their corresponding frequencies\n",
    "    words = [word for word, _ in top_20_words]\n",
    "    frequencies = [freq for _, freq in top_20_words]\n",
    "\n",
    "    # Plot the top 20 frequent words using a bar plot\n",
    "    plt.figure(figsize=(10, 6))\n",
    "    plt.bar(words, frequencies, color=colors[i])\n",
    "    plt.xlabel('Words')\n",
    "    plt.ylabel('Frequency')\n",
    "    plt.title(f'Top 20 Frequent Words - Label: {label}')\n",
    "    plt.xticks(rotation=90)\n",
    "    plt.show()\n",
    "    i = i+1"
   ]
  },
  {
   "cell_type": "code",
   "execution_count": 271,
   "id": "7dbd53b9",
   "metadata": {},
   "outputs": [
    {
     "data": {
      "image/png": "[encoded data removed]",
      "text/plain": [
       "<Figure size 432x288 with 1 Axes>"
      ]
     },
     "metadata": {
      "needs_background": "light"
     },
     "output_type": "display_data"
    }
   ],
   "source": [
    "#Visualize distribution of datas \n",
    "\n",
    "import numpy as np\n",
    "\n",
    "y=data_train_valid['label']\n",
    "class_counts = np.bincount(y)\n",
    "plt.bar(range(len(class_counts)), class_counts)\n",
    "class_labels = ['Fake', 'Real']\n",
    "plt.xticks(range(len(class_counts)), class_labels)\n",
    "plt.title('Distribution of Classifications')\n",
    "plt.xlabel('Class')\n",
    "plt.ylabel('Count')\n",
    "plt.show()"
   ]
  },
  {
   "cell_type": "markdown",
   "id": "d687b1fb",
   "metadata": {},
   "source": [
    "Feature engineering"
   ]
  },
  {
   "cell_type": "code",
   "execution_count": 272,
   "id": "b3e84986",
   "metadata": {},
   "outputs": [],
   "source": [
    "from sklearn.feature_extraction.text import TfidfVectorizer\n",
    "from tensorflow.keras.preprocessing.sequence import pad_sequences\n",
    "\n",
    "def feature_engineering(X_train, X_test):\n",
    "    vectorizer = TfidfVectorizer()\n",
    "    X_train_valid_vectorized = vectorizer.fit_transform(X_train_valid)\n",
    "    X_test_vectorized = vectorizer.transform(X_test)\n",
    "    \n",
    "    vocab_size = len(vectorizer.vocabulary_) + 1  # Vocabulary size for word embedding\n",
    "    \n",
    "    # Prepare the input sequences for the LSTM model\n",
    "    X_train_valid_sequences = pad_sequences(vectorizer.transform(X_train_valid).toarray(),\n",
    "                                            maxlen=100)\n",
    "    \n",
    "    X_test_sequences = pad_sequences(vectorizer.transform(X_test).toarray(),\n",
    "                                     maxlen=100)\n",
    "    return X_train_valid_vectorized, X_test_vectorized, vocab_size, X_train_valid_sequences, X_test_sequences\n"
   ]
  },
  {
   "cell_type": "code",
   "execution_count": 273,
   "id": "e34833ca",
   "metadata": {},
   "outputs": [],
   "source": [
    "# Combine the training and validation datasets for training\n",
    "data_train_valid = pd.concat([data_train, data_valid])\n",
    "X_train_valid = data_train_valid['sentence']\n",
    "y_train_valid = data_train_valid['label']\n",
    "X_test = data_test['sentence']\n",
    "y_test = data_test['label']\n",
    "\n",
    "X_train_valid_vectorized, X_test_vectorized,vocab_size, X_train_valid_sequences, X_test_sequences =feature_engineering(X_train_valid, X_test)\n"
   ]
  },
  {
   "cell_type": "markdown",
   "id": "bdfb5292",
   "metadata": {},
   "source": [
    "SMOT"
   ]
  },
  {
   "cell_type": "code",
   "execution_count": 274,
   "id": "fa54322e",
   "metadata": {},
   "outputs": [
    {
     "name": "stdout",
     "output_type": "stream",
     "text": [
      "Before SMOTE: Counter({0: 7466, 1: 4058})\n",
      "After SMOTE: Counter({0: 7466, 1: 7466})\n"
     ]
    }
   ],
   "source": [
    "from imblearn.over_sampling import SMOTE\n",
    "from collections import Counter\n",
    "\n",
    "X = X_train_valid_vectorized\n",
    "y = y_train_valid\n",
    "smote = SMOTE()\n",
    "X_train_valid_resampled, y_train_valid_resampled = smote.fit_resample(X, y)\n",
    "\n",
    "#Convert resampled data to sequence\n",
    "X_train_valid_resampled_sequences = pad_sequences(X_train_valid_resampled.toarray(),\n",
    "                                                  maxlen=100)\n",
    "\n",
    "print(\"Before SMOTE:\", Counter(y))\n",
    "print(\"After SMOTE:\", Counter(y_train_valid_resampled))"
   ]
  },
  {
   "cell_type": "code",
   "execution_count": 275,
   "id": "47ba021d",
   "metadata": {
    "scrolled": true
   },
   "outputs": [
    {
     "name": "stdout",
     "output_type": "stream",
     "text": [
      "14932\n"
     ]
    }
   ],
   "source": [
    "print(len([element for row in X_train_valid_resampled for element in row]))"
   ]
  },
  {
   "cell_type": "code",
   "execution_count": 190,
   "id": "ad4c38ca",
   "metadata": {
    "scrolled": true
   },
   "outputs": [
    {
     "data": {
      "image/png": "[encoded data removed]",
      "text/plain": [
       "<Figure size 720x504 with 1 Axes>"
      ]
     },
     "metadata": {
      "needs_background": "light"
     },
     "output_type": "display_data"
    },
    {
     "data": {
      "image/png": "[encoded data removed]",
      "text/plain": [
       "<Figure size 720x504 with 1 Axes>"
      ]
     },
     "metadata": {
      "needs_background": "light"
     },
     "output_type": "display_data"
    }
   ],
   "source": [
    "#Analyzing length of sentences in training data to decide on MAX_LENGTH variable, which is required for mlp and deep_leaner\n",
    "\n",
    "sent_len = []\n",
    "for sent in data_train['sentence']:\n",
    "  sent_len.append(len(sent))\n",
    "\n",
    "import matplotlib.pyplot as plt\n",
    "\n",
    "fig = plt.figure(figsize =(10, 7))\n",
    "plt.boxplot(sent_len)\n",
    "plt.show()\n",
    "\n",
    "sent_len = [i for i in sent_len if i<=500] #Excluding the outliers\n",
    "fig2 = plt.figure(figsize =(10, 7))\n",
    "plt.hist(sent_len, 5)\n",
    "plt.show()"
   ]
  },
  {
   "cell_type": "markdown",
   "id": "14713685",
   "metadata": {},
   "source": [
    "First plot:The x-axis represents the sentence length, while the y-axis represents the distribution of lengths.\n",
    "\n",
    "Second Histogram: It shows a histogram of the sentence lengths after excluding any outliers greater than 500 characters From the above histogram. The x-axis represents the range of sentence lengths, divided into bins (in this case, 5 bins), and the y-axis represents the frequency or count of sentences falling within each bin.The histogram provides insight into the distribution of sentence lengths and highlights any patterns or concentration of lengths within the dataset.\n",
    "\n",
    "we can see that, majority of the sentences are in the range of 100-150 and the maximum is near 300."
   ]
  },
  {
   "cell_type": "markdown",
   "id": "65f2b8be",
   "metadata": {},
   "source": [
    "Ensemble Model"
   ]
  },
  {
   "cell_type": "markdown",
   "id": "d8da7850",
   "metadata": {},
   "source": [
    "1- SVM"
   ]
  },
  {
   "cell_type": "code",
   "execution_count": 18,
   "id": "698b04e3",
   "metadata": {},
   "outputs": [],
   "source": [
    "from sklearn.svm import SVC\n",
    "from sklearn.model_selection import GridSearchCV\n",
    "import time\n",
    "\n",
    "def train_svm_gridseach(X_train_valid_vectorized, y_train_valid, X_test_vectorized):\n",
    "    start_time = time.time()\n",
    "\n",
    "    param_grid = {\n",
    "        'C': [0.1, 1.0, 10.0],  # Regularization parameter\n",
    "        'kernel': ['linear', 'rbf'],  # Kernel type\n",
    "        'gamma': ['scale', 'auto']  # Kernel coefficient for 'rbf'\n",
    "    }\n",
    "\n",
    "    svm_model = SVC()\n",
    "\n",
    "    # Define the Grid Search with cross-validation\n",
    "    grid_search = GridSearchCV(svm_model, param_grid, cv=5, scoring='f1_micro')\n",
    "    grid_search.fit(X_train_valid_vectorized, y_train_valid)\n",
    "\n",
    "    best_params = grid_search.best_params_\n",
    "    best_model = grid_search.best_estimator_\n",
    "\n",
    "    print(\"Best parameters of SVM:\", best_params)\n",
    "    \n",
    "    svm_train_valid_predictions = grid_search.predict(X_train_valid_vectorized)\n",
    "    svm_predictions = grid_search.predict(X_test_vectorized)\n",
    "\n",
    "    end_time = time.time()\n",
    "    execution_time = end_time - start_time\n",
    "    print(\"Execution time of SVM: {:.2f} seconds\".format(execution_time))\n",
    "    return svm_predictions,svm_train_valid_predictions"
   ]
  },
  {
   "cell_type": "code",
   "execution_count": 22,
   "id": "09f9f145",
   "metadata": {
    "scrolled": true
   },
   "outputs": [
    {
     "name": "stdout",
     "output_type": "stream",
     "text": [
      "Best parameters of SVM: {'C': 10.0, 'gamma': 'scale', 'kernel': 'rbf'}\n",
      "Execution time of SVM: 3596.25 seconds\n"
     ]
    }
   ],
   "source": [
    "svm_predictions, svm_train_valid_predictions =train_svm_gridseach(X_train_valid_resampled,\n",
    "                                                                  y_train_valid_resampled, X_test_resampled)"
   ]
  },
  {
   "cell_type": "code",
   "execution_count": 300,
   "id": "6a539f4a",
   "metadata": {},
   "outputs": [],
   "source": [
    "from sklearn.svm import SVC\n",
    "import time\n",
    "\n",
    "def train_svm():\n",
    "    start_time = time.time()\n",
    "\n",
    "    svm_model = SVC(C=10, gamma='scale', kernel='poly')\n",
    "    svm_model.fit(X_train_valid_resampled, y_train_valid_resampled)\n",
    "    svm_train_valid_predictions = svm_model.predict(X_train_valid_resampled)\n",
    "    svm_predictions = svm_model.predict(X_test_vectorized)\n",
    "    \n",
    "    end_time = time.time()\n",
    "    execution_time = end_time - start_time\n",
    "    print(\"Execution time of SVM: {:.2f} seconds\".format(execution_time))\n",
    "    return svm_predictions, svm_train_valid_predictions\n"
   ]
  },
  {
   "cell_type": "code",
   "execution_count": 301,
   "id": "b1ff1aef",
   "metadata": {
    "scrolled": false
   },
   "outputs": [
    {
     "name": "stdout",
     "output_type": "stream",
     "text": [
      "Execution time of SVM: 163.57 seconds\n"
     ]
    }
   ],
   "source": [
    "svm_predictions, svm_train_valid_predictions =train_svm()\n"
   ]
  },
  {
   "cell_type": "code",
   "execution_count": 302,
   "id": "7b52685d",
   "metadata": {},
   "outputs": [
    {
     "name": "stdout",
     "output_type": "stream",
     "text": [
      "Model4 - SVM - accuracy: 0.4889975550122249\n",
      "Model4 - SVM - Precision: 0.4811715481171548\n",
      "Model4 - SVM - Recall: 0.512249443207127\n",
      "Model4 - SVM - F-score: 0.4962243797195253\n"
     ]
    }
   ],
   "source": [
    "from sklearn.metrics import precision_recall_fscore_support\n",
    "accuracy = sum(svm_predictions == y_test) / len(y_test_resampled)\n",
    "\n",
    "precision, recall, fscore, support = precision_recall_fscore_support(y_test,\n",
    "                                                                     svm_predictions, average='binary')\n",
    "\n",
    "print(\"Model4 - SVM - accuracy:\", accuracy)\n",
    "print(\"Model4 - SVM - Precision:\", precision)\n",
    "print(\"Model4 - SVM - Recall:\", recall)\n",
    "print(\"Model4 - SVM - F-score:\", fscore)"
   ]
  },
  {
   "cell_type": "code",
   "execution_count": 303,
   "id": "e03c5189",
   "metadata": {},
   "outputs": [
    {
     "data": {
      "image/png": "[encoded data removed]",
      "text/plain": [
       "<Figure size 576x432 with 1 Axes>"
      ]
     },
     "metadata": {
      "needs_background": "light"
     },
     "output_type": "display_data"
    }
   ],
   "source": [
    "import matplotlib.pyplot as plt\n",
    "import seaborn as sns\n",
    "from sklearn.metrics import confusion_matrix\n",
    "\n",
    "cm = confusion_matrix(y_test, svm_predictions)\n",
    "\n",
    "plt.figure(figsize=(8, 6))\n",
    "sns.heatmap(cm, annot=True, cmap='Blues', fmt='g', cbar=False)\n",
    "plt.xlabel('Predicted')\n",
    "plt.ylabel('True')\n",
    "plt.title('Confusion Matrix')\n",
    "plt.show()"
   ]
  },
  {
   "cell_type": "code",
   "execution_count": 290,
   "id": "eb0df3f2",
   "metadata": {},
   "outputs": [
    {
     "data": {
      "image/png": "[encoded data removed]",
      "text/plain": [
       "<Figure size 432x288 with 1 Axes>"
      ]
     },
     "metadata": {
      "needs_background": "light"
     },
     "output_type": "display_data"
    }
   ],
   "source": [
    "from sklearn.metrics import roc_curve, roc_auc_score\n",
    "import matplotlib.pyplot as plt\n",
    "\n",
    "# Compute the true positive rate (tpr) and false positive rate (fpr) using roc_curve\n",
    "svm_fpr, svm_tpr, svm_thresholds = roc_curve(y_test, svm_predictions)\n",
    "svm_roc_auc = auc(svm_fpr, svm_tpr)\n",
    "\n",
    "plt.figure()\n",
    "plt.plot(svm_fpr, svm_tpr, color='darkorange', lw=2, label='ROC curve (area = %0.2f)' % svm_roc_auc)\n",
    "plt.plot([0, 1], [0, 1], color='navy', lw=2, linestyle='--')\n",
    "plt.xlim([0.0, 1.0])\n",
    "plt.ylim([0.0, 1.05])\n",
    "plt.xlabel('False Positive Rate')\n",
    "plt.ylabel('True Positive Rate')\n",
    "plt.title('Receiver Operating Characteristic (ROC) -SVM')\n",
    "plt.legend(loc=\"lower right\")\n",
    "plt.show()"
   ]
  },
  {
   "cell_type": "markdown",
   "id": "fee025c7",
   "metadata": {},
   "source": [
    "2-LSTM"
   ]
  },
  {
   "cell_type": "code",
   "execution_count": 62,
   "id": "48702d47",
   "metadata": {},
   "outputs": [],
   "source": [
    "from keras.models import Sequential\n",
    "from sklearn.model_selection import GridSearchCV\n",
    "from keras.layers import LSTM, Dense, Embedding\n",
    "from tensorflow.keras.preprocessing.sequence import pad_sequences\n",
    "import time\n",
    "\n",
    "def train_lstm_gridsearch():\n",
    "    start_time = time.time()\n",
    "\n",
    "    param_grid = {\n",
    "        'embedding_dim': [100, 150, 200],\n",
    "        'lstm_units': [32, 64, 128],\n",
    "        'batch_size': [16, 32, 64]\n",
    "    }\n",
    "    \n",
    "    lstm_model = Sequential()    \n",
    "    lstm_model.add(Embedding(vocab_size, 150, input_length=100))\n",
    "    lstm_model.add(LSTM(64))\n",
    "    lstm_model.add(Dense(1, activation='relu'))\n",
    "    lstm_model.compile(loss='binary_crossentropy', optimizer='adam', metrics=['accuracy'])\n",
    "    \n",
    "    lstm_model.fit(X_train_valid_resampled_sequences, y_train_valid_resampled, epochs=10, batch_size=32)\n",
    "    lstm_predictions = (lstm_model.predict(X_test_sequences) > 0.25).astype(int).flatten()\n",
    "\n",
    "    end_time = time.time()\n",
    "    execution_time = end_time - start_time\n",
    "    print(\"Execution time of LSTM: {:.2f} seconds\".format(execution_time))\n",
    "\n",
    "    return lstm_predictions, lstm_train_valid_predictions, "
   ]
  },
  {
   "cell_type": "code",
   "execution_count": 67,
   "id": "08330bc2",
   "metadata": {
    "scrolled": false
   },
   "outputs": [],
   "source": [
    "lstm_predictions_search, lstm_train_valid_predictions = train_lstm_gridsearch()"
   ]
  },
  {
   "cell_type": "code",
   "execution_count": 64,
   "id": "17bed3cc",
   "metadata": {},
   "outputs": [],
   "source": [
    "from keras.models import Sequential\n",
    "from keras.layers import LSTM, Dense, Embedding, Dropout\n",
    "from tensorflow.keras.preprocessing.sequence import pad_sequences\n",
    "import time\n",
    "import keras\n",
    "\n",
    "def train_lstm():\n",
    "    start_time = time.time()\n",
    "    loss_values=[]\n",
    "  \n",
    "    lstm_model = Sequential()\n",
    "    lstm_model.add(Embedding(vocab_size, 150, input_length=100))\n",
    "    lstm_model.add(LSTM(128,activation='relu',return_sequences=True))\n",
    "    lstm_model.add(Dropout(0.2))\n",
    "    lstm_model.add(LSTM(128,activation='relu'))\n",
    "    lstm_model.add(Dropout(0.2))\n",
    "    lstm_model.add(Dense(1, activation='sigmoid'))\n",
    "    lstm_model.compile(loss='binary_crossentropy', optimizer='adam', metrics=['accuracy'])\n",
    "\n",
    "    history = lstm_model.fit(X_train_valid_resampled_sequences, y_train_valid_resampled, batch_size=128,\n",
    "                             epochs=50, validation_data=(X_test_sequences, y_test))\n",
    "\n",
    "    lstm_train_valid_predictions = (lstm_model.predict(X_train_valid_resampled_sequences) > 0.3).astype(int).flatten()\n",
    "    lstm_predictions = (lstm_model.predict(X_test_sequences) > 0.3).astype(int).flatten()\n",
    "    end_time = time.time()\n",
    "    execution_time = end_time - start_time\n",
    "    print(\"Execution time of LSTM: {:.2f} seconds\".format(execution_time))\n",
    "    return lstm_predictions,lstm_train_valid_predictions, history\n",
    "\n",
    "class LossHistory(keras.callbacks.Callback):\n",
    "    def __init__(self, loss_values):\n",
    "        self.loss_values = loss_values\n",
    "\n",
    "    def on_epoch_end(self, epoch, logs=None):\n",
    "        self.loss_values.append(logs['loss'])"
   ]
  },
  {
   "cell_type": "code",
   "execution_count": 68,
   "id": "501b1e3b",
   "metadata": {
    "scrolled": false
   },
   "outputs": [
    {
     "name": "stdout",
     "output_type": "stream",
     "text": [
      "Epoch 1/20\n",
      "234/234 [==============================] - 71s 288ms/step - loss: 0.6933 - accuracy: 0.4979 - val_loss: 0.6924 - val_accuracy: 0.6456\n",
      "Epoch 2/20\n",
      "234/234 [==============================] - 73s 311ms/step - loss: 0.6932 - accuracy: 0.4982 - val_loss: 0.6943 - val_accuracy: 0.3544\n",
      "Epoch 3/20\n",
      "234/234 [==============================] - 69s 297ms/step - loss: 0.6932 - accuracy: 0.4971 - val_loss: 0.6929 - val_accuracy: 0.6456\n",
      "Epoch 4/20\n",
      "234/234 [==============================] - 68s 289ms/step - loss: 0.6932 - accuracy: 0.4973 - val_loss: 0.6930 - val_accuracy: 0.6456\n",
      "Epoch 5/20\n",
      "234/234 [==============================] - 69s 294ms/step - loss: 0.6932 - accuracy: 0.4963 - val_loss: 0.6932 - val_accuracy: 0.3544\n",
      "Epoch 6/20\n",
      "234/234 [==============================] - 70s 298ms/step - loss: 0.6932 - accuracy: 0.4992 - val_loss: 0.6936 - val_accuracy: 0.3544\n",
      "Epoch 7/20\n",
      "234/234 [==============================] - 70s 299ms/step - loss: 0.6932 - accuracy: 0.4956 - val_loss: 0.6934 - val_accuracy: 0.3544\n",
      "Epoch 8/20\n",
      "234/234 [==============================] - 71s 302ms/step - loss: 0.6932 - accuracy: 0.4959 - val_loss: 0.6928 - val_accuracy: 0.6456\n",
      "Epoch 9/20\n",
      "234/234 [==============================] - 73s 311ms/step - loss: 0.6932 - accuracy: 0.4981 - val_loss: 0.6932 - val_accuracy: 0.3544\n",
      "Epoch 10/20\n",
      "234/234 [==============================] - 74s 316ms/step - loss: 0.6932 - accuracy: 0.4967 - val_loss: 0.6926 - val_accuracy: 0.6456\n",
      "Epoch 11/20\n",
      "234/234 [==============================] - 77s 329ms/step - loss: 0.6932 - accuracy: 0.5009 - val_loss: 0.6933 - val_accuracy: 0.3544\n",
      "Epoch 12/20\n",
      "234/234 [==============================] - 81s 345ms/step - loss: 0.6932 - accuracy: 0.4972 - val_loss: 0.6933 - val_accuracy: 0.3544\n",
      "Epoch 13/20\n",
      "234/234 [==============================] - 73s 311ms/step - loss: 0.6932 - accuracy: 0.4898 - val_loss: 0.6930 - val_accuracy: 0.6456\n",
      "Epoch 14/20\n",
      "234/234 [==============================] - 70s 300ms/step - loss: 0.6932 - accuracy: 0.4952 - val_loss: 0.6930 - val_accuracy: 0.6456\n",
      "Epoch 15/20\n",
      "234/234 [==============================] - 72s 309ms/step - loss: 0.6932 - accuracy: 0.4956 - val_loss: 0.6929 - val_accuracy: 0.6456\n",
      "Epoch 16/20\n",
      "234/234 [==============================] - 78s 333ms/step - loss: 0.6932 - accuracy: 0.4993 - val_loss: 0.6933 - val_accuracy: 0.3544\n",
      "Epoch 17/20\n",
      "234/234 [==============================] - 77s 329ms/step - loss: 0.6932 - accuracy: 0.4975 - val_loss: 0.6928 - val_accuracy: 0.6456\n",
      "Epoch 18/20\n",
      "234/234 [==============================] - 76s 324ms/step - loss: 0.6932 - accuracy: 0.4960 - val_loss: 0.6928 - val_accuracy: 0.6456\n",
      "Epoch 19/20\n",
      "234/234 [==============================] - 71s 304ms/step - loss: 0.6932 - accuracy: 0.4983 - val_loss: 0.6928 - val_accuracy: 0.6456\n",
      "Epoch 20/20\n",
      "234/234 [==============================] - 71s 303ms/step - loss: 0.6932 - accuracy: 0.4997 - val_loss: 0.6935 - val_accuracy: 0.3544\n",
      "467/467 [==============================] - 27s 57ms/step\n",
      "40/40 [==============================] - 2s 57ms/step\n",
      "Execution time of LSTM: 1482.22 seconds\n",
      "[1 1 1 ... 1 1 1]\n"
     ]
    }
   ],
   "source": [
    "lstm_predictions, lstm_train_valid_predictions, history = train_lstm()\n",
    "print(lstm_predictions)"
   ]
  },
  {
   "cell_type": "code",
   "execution_count": 70,
   "id": "d4a767d3",
   "metadata": {},
   "outputs": [
    {
     "name": "stdout",
     "output_type": "stream",
     "text": [
      "Model4 - LSTM - accuracy: 0.35438042620363064\n",
      "Model4 - LSTM - Precision: 0.35438042620363064\n",
      "Model4 - LSTM - Recall: 1.0\n",
      "Model4 - LSTM - F-score: 0.5233100233100234\n"
     ]
    }
   ],
   "source": [
    "from sklearn.metrics import precision_recall_fscore_support\n",
    "accuracy = sum(lstm_predictions == y_test) / len(y_test)\n",
    "\n",
    "precision, recall, fscore, support = precision_recall_fscore_support(y_test, lstm_predictions, average='binary')\n",
    "\n",
    "print(\"Model4 - LSTM - accuracy:\", accuracy)\n",
    "print(\"Model4 - LSTM - Precision:\", precision)\n",
    "print(\"Model4 - LSTM - Recall:\", recall)\n",
    "print(\"Model4 - LSTM - F-score:\", fscore)"
   ]
  },
  {
   "cell_type": "code",
   "execution_count": 71,
   "id": "a50c08a8",
   "metadata": {
    "scrolled": true
   },
   "outputs": [
    {
     "data": {
      "image/png": "[encoded data removed]",
      "text/plain": [
       "<Figure size 432x288 with 1 Axes>"
      ]
     },
     "metadata": {
      "needs_background": "light"
     },
     "output_type": "display_data"
    }
   ],
   "source": [
    "import numpy as np\n",
    "import matplotlib.pyplot as plt\n",
    "\n",
    "train_loss = history.history['loss']\n",
    "test_loss = history.history['val_loss']\n",
    "\n",
    "epochs = range(1, len(train_loss) + 1)\n",
    "plt.plot(epochs, train_loss, 'b', label='Training loss')\n",
    "plt.plot(epochs, test_loss, 'r', label='Test loss')\n",
    "\n",
    "plt.xlabel('Epochs')\n",
    "plt.ylabel('Loss')\n",
    "plt.title('Model Loss')\n",
    "plt.legend()\n",
    "plt.show()"
   ]
  },
  {
   "cell_type": "code",
   "execution_count": 72,
   "id": "69be08bf",
   "metadata": {},
   "outputs": [
    {
     "data": {
      "image/png": "[encoded data removed]",
      "text/plain": [
       "<Figure size 576x432 with 1 Axes>"
      ]
     },
     "metadata": {
      "needs_background": "light"
     },
     "output_type": "display_data"
    }
   ],
   "source": [
    "import matplotlib.pyplot as plt\n",
    "import seaborn as sns\n",
    "from sklearn.metrics import confusion_matrix\n",
    "\n",
    "cm = confusion_matrix(y_test, lstm_predictions)\n",
    "\n",
    "plt.figure(figsize=(8, 6))\n",
    "sns.heatmap(cm, annot=True, cmap='Blues', fmt='g', cbar=False)\n",
    "plt.xlabel('Predicted')\n",
    "plt.ylabel('True')\n",
    "plt.title('Confusion Matrix')\n",
    "plt.show()"
   ]
  },
  {
   "cell_type": "markdown",
   "id": "223fdeea",
   "metadata": {},
   "source": [
    "3- Passive Aggressive"
   ]
  },
  {
   "cell_type": "code",
   "execution_count": 126,
   "id": "6b1c4b3e",
   "metadata": {},
   "outputs": [],
   "source": [
    "from sklearn.linear_model import PassiveAggressiveClassifier\n",
    "import time\n",
    "\n",
    "def train_pa_gridshearch():\n",
    "    start_time = time.time()\n",
    "    param_grid = {\n",
    "    'C': [0.1,0.5,],              # Regularization parameter\n",
    "    'fit_intercept': [True, False],\n",
    "    'max_iter': [500,1000],          # Maximum number of iterations\n",
    "    'tol': [1e-6, 1e-7]              # Tolerance for stopping criterion\n",
    "}\n",
    "   # Create a PassiveAggressiveClassifier\n",
    "    pa = PassiveAggressiveClassifier()\n",
    "\n",
    "    grid_search = GridSearchCV(pa, param_grid, cv=5, scoring='accuracy')\n",
    "    grid_search.fit(X_train_valid_resampled, y_train_valid_resampled)\n",
    "\n",
    "    best_params = grid_search.best_params_\n",
    "    best_score = grid_search.best_score_\n",
    "\n",
    "    print(\"Best Parameters:\", best_params)\n",
    "    print(\"Best Score:\", best_score)\n",
    "    "
   ]
  },
  {
   "cell_type": "code",
   "execution_count": 127,
   "id": "36e3b029",
   "metadata": {},
   "outputs": [
    {
     "name": "stdout",
     "output_type": "stream",
     "text": [
      "Best Parameters: {'C': 0.1, 'fit_intercept': True, 'max_iter': 1000, 'tol': 1e-07}\n",
      "Best Score: 0.7230178507401239\n"
     ]
    }
   ],
   "source": [
    "train_pa_gridshearch()"
   ]
  },
  {
   "cell_type": "code",
   "execution_count": 139,
   "id": "786f6d4e",
   "metadata": {},
   "outputs": [],
   "source": [
    "from sklearn.linear_model import PassiveAggressiveClassifier\n",
    "import time\n",
    "\n",
    "def train_pa():\n",
    "    start_time = time.time()\n",
    "    \n",
    "    pa_model = PassiveAggressiveClassifier(C = 0.5, random_state = 42, max_iter=1000)\n",
    "    pa_model.fit(X_train_valid_resampled, y_train_valid_resampled)\n",
    "    pa_train_valid_predictions = pa_model.predict(X_train_valid_resampled)\n",
    "    pa_predictions = pa_model.predict(X_test_vectorized)\n",
    "    y_scores = pa_model.decision_function(X_test_vectorized)\n",
    "    \n",
    "    end_time = time.time()\n",
    "    execution_time = end_time - start_time\n",
    "    print(\"Execution time of PA: {:.2f} seconds\".format(execution_time))\n",
    "    return pa_predictions,pa_train_valid_predictions,y_scores"
   ]
  },
  {
   "cell_type": "code",
   "execution_count": 140,
   "id": "4a34546b",
   "metadata": {
    "scrolled": false
   },
   "outputs": [
    {
     "name": "stdout",
     "output_type": "stream",
     "text": [
      "Execution time of PA: 0.26 seconds\n"
     ]
    }
   ],
   "source": [
    "pa_predictions,pa_train_valid_predictions,pa_scores =train_pa()"
   ]
  },
  {
   "cell_type": "code",
   "execution_count": 141,
   "id": "afe5a6f0",
   "metadata": {
    "scrolled": true
   },
   "outputs": [
    {
     "name": "stdout",
     "output_type": "stream",
     "text": [
      "Model4 - PA - accuracy: 0.5832675611681136\n",
      "Model4 - PA - Precision: 0.4188911704312115\n",
      "Model4 - PA - Recall: 0.45434298440979953\n",
      "Model4 - PA - F-score: 0.4358974358974359\n"
     ]
    }
   ],
   "source": [
    "from sklearn.metrics import precision_recall_fscore_support\n",
    "accuracy = sum(pa_predictions == y_test) / len(y_test)\n",
    "\n",
    "precision, recall, fscore, support = precision_recall_fscore_support(y_test, pa_predictions, average='binary')\n",
    "\n",
    "print(\"Model4 - PA - accuracy:\", accuracy)\n",
    "print(\"Model4 - PA - Precision:\", precision)\n",
    "print(\"Model4 - PA - Recall:\", recall)\n",
    "print(\"Model4 - PA - F-score:\", fscore)"
   ]
  },
  {
   "cell_type": "code",
   "execution_count": 84,
   "id": "12626cc0",
   "metadata": {},
   "outputs": [
    {
     "data": {
      "image/png": "[encoded data removed]",
      "text/plain": [
       "<Figure size 576x432 with 1 Axes>"
      ]
     },
     "metadata": {
      "needs_background": "light"
     },
     "output_type": "display_data"
    }
   ],
   "source": [
    "import matplotlib.pyplot as plt\n",
    "import seaborn as sns\n",
    "from sklearn.metrics import confusion_matrix\n",
    "\n",
    "cm = confusion_matrix(y_test, pa_predictions)\n",
    "\n",
    "plt.figure(figsize=(8, 6))\n",
    "sns.heatmap(cm, annot=True, cmap='Blues', fmt='g', cbar=False)\n",
    "plt.xlabel('Predicted')\n",
    "plt.ylabel('True')\n",
    "plt.title('Confusion Matrix')\n",
    "plt.show()"
   ]
  },
  {
   "cell_type": "code",
   "execution_count": 249,
   "id": "7cd2d7cc",
   "metadata": {
    "scrolled": true
   },
   "outputs": [
    {
     "data": {
      "image/png": "[encoded data removed]",
      "text/plain": [
       "<Figure size 432x288 with 1 Axes>"
      ]
     },
     "metadata": {
      "needs_background": "light"
     },
     "output_type": "display_data"
    }
   ],
   "source": [
    "from sklearn.metrics import roc_curve, roc_auc_score\n",
    "import matplotlib.pyplot as plt\n",
    "\n",
    "pa_fpr, pa_tpr, pa_thresholds = roc_curve(y_test, pa_scores)\n",
    "pa_roc_auc = auc(pa_fpr, pa_tpr)\n",
    "\n",
    "# Plot ROC curve\n",
    "plt.figure()\n",
    "plt.plot(pa_fpr, pa_tpr, color='darkorange', lw=2, label='ROC curve (area = %0.2f)' % pa_roc_auc)\n",
    "plt.plot([0, 1], [0, 1], color='navy', lw=2, linestyle='--')\n",
    "plt.xlim([0.0, 1.0])\n",
    "plt.ylim([0.0, 1.05])\n",
    "plt.xlabel('False Positive Rate')\n",
    "plt.ylabel('True Positive Rate')\n",
    "plt.title('Receiver Operating Characteristic (ROC) -PA')\n",
    "plt.legend(loc=\"lower right\")\n",
    "plt.show()"
   ]
  },
  {
   "cell_type": "markdown",
   "id": "3f0f621a",
   "metadata": {},
   "source": [
    "XGBoost"
   ]
  },
  {
   "cell_type": "code",
   "execution_count": 250,
   "id": "d47b6591",
   "metadata": {},
   "outputs": [],
   "source": [
    "import xgboost as xgb\n",
    "from sklearn.model_selection import train_test_split\n",
    "from sklearn.metrics import accuracy_score, roc_curve, auc\n",
    "\n",
    "def train_xgboost():\n",
    "    start_time = time.time()\n",
    "    \n",
    "    dtrain = xgb.DMatrix(X_train_valid_resampled, label=y_train_valid_resampled)\n",
    "    dtest = xgb.DMatrix(X_test_vectorized, label=y_test)\n",
    "    \n",
    "    params = {\n",
    "    'objective': 'binary:logistic',  # or 'multi:softmax' for multi-class classification\n",
    "    'eval_metric': 'logloss',  # or other appropriate evaluation metric\n",
    "    'eta': 0.1,  # learning rate\n",
    "    'max_depth': 30,  # maximum depth of a tree\n",
    "    'subsample': 0.2,  # subsample ratio of the training instances\n",
    "    'colsample_bytree': 0.8  # subsample ratio of columns when constructing each tree\n",
    "    }\n",
    "    \n",
    "    num_rounds = 150  # number of boosting rounds (iterations)     \n",
    "    model = xgb.train(params, dtrain, num_rounds)\n",
    "    y_pred = model.predict(dtest)\n",
    "    y_train_valid_predictions = model.predict(dtrain)\n",
    "    y_pred_binary = [1 if p >= 0.4 else 0 for p in y_pred]\n",
    "    xgb_train_valid_predictions = [1 if p >= 0.4 else 0 for p in y_train_valid_predictions]\n",
    "    \n",
    "    end_time = time.time()\n",
    "    execution_time = end_time - start_time\n",
    "    print(\"Execution time of PA: {:.2f} seconds\".format(execution_time))\n",
    "    \n",
    "    return y_pred_binary, xgb_train_valid_predictions, y_pred"
   ]
  },
  {
   "cell_type": "code",
   "execution_count": 251,
   "id": "27203d1d",
   "metadata": {
    "scrolled": false
   },
   "outputs": [
    {
     "name": "stdout",
     "output_type": "stream",
     "text": [
      "Execution time of PA: 71.31 seconds\n"
     ]
    }
   ],
   "source": [
    "xgb_predictions, xgb_train_valid_predictions, xgb_pred = train_xgboost()"
   ]
  },
  {
   "cell_type": "code",
   "execution_count": 197,
   "id": "2b0a2f85",
   "metadata": {},
   "outputs": [
    {
     "name": "stdout",
     "output_type": "stream",
     "text": [
      "Model4 - XGBoost - accuracy: 0.5982636148382005\n",
      "Model4 - XGBoost - Precision: 0.44525547445255476\n",
      "Model4 - XGBoost - Recall: 0.5434298440979956\n",
      "Model4 - XGBoost - F-score: 0.48946840521564694\n"
     ]
    }
   ],
   "source": [
    "from sklearn.metrics import precision_recall_fscore_support\n",
    "accuracy = sum(xgb_predictions == y_test) / len(y_test)\n",
    "\n",
    "precision, recall, fscore, support = precision_recall_fscore_support(y_test, xgb_predictions, average='binary')\n",
    "\n",
    "print(\"Model4 - XGBoost - accuracy:\", accuracy)\n",
    "print(\"Model4 - XGBoost - Precision:\", precision)\n",
    "print(\"Model4 - XGBoost - Recall:\", recall)\n",
    "print(\"Model4 - XGBoost - F-score:\", fscore)"
   ]
  },
  {
   "cell_type": "code",
   "execution_count": 217,
   "id": "d15a866e",
   "metadata": {
    "scrolled": false
   },
   "outputs": [
    {
     "data": {
      "image/png": "[encoded data removed]",
      "text/plain": [
       "<Figure size 576x432 with 1 Axes>"
      ]
     },
     "metadata": {
      "needs_background": "light"
     },
     "output_type": "display_data"
    }
   ],
   "source": [
    "import matplotlib.pyplot as plt\n",
    "import seaborn as sns\n",
    "from sklearn.metrics import confusion_matrix\n",
    "\n",
    "cm = confusion_matrix(y_test, xgb_predictions)\n",
    "plt.figure(figsize=(8, 6))\n",
    "sns.heatmap(cm, annot=True, cmap='Blues', fmt='g', cbar=False)\n",
    "plt.xlabel('Predicted')\n",
    "plt.ylabel('True')\n",
    "plt.title('Confusion Matrix')\n",
    "plt.show()"
   ]
  },
  {
   "cell_type": "code",
   "execution_count": 248,
   "id": "f8b38964",
   "metadata": {},
   "outputs": [
    {
     "data": {
      "image/png": "[encoded data removed]",
      "text/plain": [
       "<Figure size 432x288 with 1 Axes>"
      ]
     },
     "metadata": {
      "needs_background": "light"
     },
     "output_type": "display_data"
    }
   ],
   "source": [
    "import matplotlib.pyplot as plt\n",
    "\n",
    "xgb_fpr, xgb_tpr, xgb_thresholds = roc_curve(y_test, xgb_pred)\n",
    "xgb_roc_auc = auc(xgb_fpr,xgb_tpr)\n",
    "\n",
    "# Plot ROC curve\n",
    "plt.figure()\n",
    "plt.plot(xgb_fpr, xgb_tpr, color='darkorange', lw=2, label='ROC curve (area = %0.2f)' % xgb_roc_auc)\n",
    "plt.plot([0, 1], [0, 1], color='navy', lw=2, linestyle='--')\n",
    "plt.xlim([0.0, 1.0])\n",
    "plt.ylim([0.0, 1.05])\n",
    "plt.xlabel('False Positive Rate')\n",
    "plt.ylabel('True Positive Rate')\n",
    "plt.title('Receiver Operating Characteristic (ROC) - XGBoost')\n",
    "plt.legend(loc=\"lower right\")\n",
    "plt.show()"
   ]
  },
  {
   "cell_type": "markdown",
   "id": "593cf11f",
   "metadata": {},
   "source": [
    "Evaluate Ensemblely!"
   ]
  },
  {
   "cell_type": "code",
   "execution_count": 237,
   "id": "3384ffd4",
   "metadata": {},
   "outputs": [
    {
     "data": {
      "image/png": "[encoded data removed]",
      "text/plain": [
       "<Figure size 432x288 with 1 Axes>"
      ]
     },
     "metadata": {
      "needs_background": "light"
     },
     "output_type": "display_data"
    }
   ],
   "source": [
    "import numpy as np  \n",
    "import matplotlib.pyplot as plt  \n",
    "  \n",
    "metrics = ['Accuracy','Precision','Recall','F-score'] \n",
    "svm = [0.50,0.53,0.22,0.32] \n",
    "lstm = [0.35,0.35,1.0,0.52] \n",
    "pa=[0.58,0.42,0.45,0.43]\n",
    "xgb=[0.59,0.44,0.54,0.48]\n",
    "\n",
    "bar_width = 0.2 \n",
    "index = np.arange(len(metrics))\n",
    "plt.bar(index, svm, bar_width, label='SVM')\n",
    "plt.bar(index + bar_width, lstm, bar_width, label='LSTM')\n",
    "plt.bar(index + 2*bar_width, pa, bar_width, label='PA')\n",
    "plt.bar(index + 3*bar_width, xgb, bar_width, label='XGB')\n",
    "\n",
    "plt.xlabel('Metrics')\n",
    "plt.ylabel('Values')\n",
    "plt.title('Classifier Metrics Comparison')\n",
    "\n",
    "plt.xticks(index + bar_width, metrics)\n",
    "plt.legend()\n",
    "plt.show()\n",
    "        "
   ]
  },
  {
   "cell_type": "code",
   "execution_count": 238,
   "id": "5346ac90",
   "metadata": {},
   "outputs": [],
   "source": [
    "import numpy as np\n",
    "def ensemble_prediction():\n",
    "    \n",
    "    votes = np.array([list(row) for row in zip(svm_predictions, lstm_predictions ,xgb_predictions, pa_predictions)])\n",
    "    column_sums = np.sum(votes, axis=1)\n",
    "    averages_vote = []\n",
    "    for column_sum in column_sums:\n",
    "        average = column_sum / 4\n",
    "        averages_vote.append(average.round())\n",
    "    return averages_vote"
   ]
  },
  {
   "cell_type": "code",
   "execution_count": 239,
   "id": "d657fd4b",
   "metadata": {
    "scrolled": true
   },
   "outputs": [
    {
     "name": "stdout",
     "output_type": "stream",
     "text": [
      "Model4 - accuracy: 0.6369376479873717\n",
      "Model4 - Precision: 0.4836795252225519\n",
      "Model4 - Recall: 0.36302895322939865\n",
      "Model4 - F-score: 0.41475826972010177\n"
     ]
    }
   ],
   "source": [
    "from sklearn.metrics import precision_recall_fscore_support\n",
    "# Ensemble predictions by majority voting\n",
    "y_pred_ensemble = ensemble_prediction()\n",
    "\n",
    "accuracy = sum(y_pred_ensemble == y_test) / len(y_test)\n",
    "\n",
    "precision, recall, fscore, support = precision_recall_fscore_support(y_test, y_pred_ensemble, average='binary')\n",
    "print(\"Model4 - accuracy:\", accuracy)\n",
    "print(\"Model4 - Precision:\", precision)\n",
    "print(\"Model4 - Recall:\", recall)\n",
    "print(\"Model4 - F-score:\", fscore)"
   ]
  },
  {
   "cell_type": "code",
   "execution_count": 240,
   "id": "964e3603",
   "metadata": {},
   "outputs": [
    {
     "data": {
      "image/png": "[encoded data removed]",
      "text/plain": [
       "<Figure size 432x288 with 1 Axes>"
      ]
     },
     "metadata": {
      "needs_background": "light"
     },
     "output_type": "display_data"
    }
   ],
   "source": [
    "#Visualizing distribution of predeiction of ensemble clas\n",
    "class_counts = np.bincount(y_pred_ensemble)\n",
    "plt.bar(range(len(class_counts)), class_counts)\n",
    "class_labels = ['Fake', 'Real']\n",
    "plt.xticks(range(len(class_counts)), class_labels)\n",
    "plt.title('Distribution of Classifications')\n",
    "plt.xlabel('Class')\n",
    "plt.ylabel('Count')\n",
    "plt.show()"
   ]
  },
  {
   "cell_type": "markdown",
   "id": "3869b349",
   "metadata": {},
   "source": [
    "MLP Classifier 2"
   ]
  },
  {
   "cell_type": "code",
   "execution_count": 253,
   "id": "ef399c02",
   "metadata": {},
   "outputs": [],
   "source": [
    "xgb_train_valid_predictions = np.array(xgb_train_valid_predictions)\n",
    "xgb_predictions= np.array(xgb_predictions)\n",
    "\n",
    "stacked_X_train = np.hstack((X_train_valid_resampled.toarray(), \n",
    "                             svm_train_valid_predictions.reshape((-1, 1)),\n",
    "                             xgb_train_valid_predictions.reshape((-1, 1)),\n",
    "                             lstm_train_valid_predictions.reshape((-1, 1)),\n",
    "                             pa_train_valid_predictions.reshape((-1, 1))))\n",
    "stacked_X_test = np.hstack((X_test_vectorized.toarray(), \n",
    "                            svm_predictions.reshape((-1, 1)),\n",
    "                            xgb_predictions.reshape((-1, 1)),\n",
    "                            lstm_predictions.reshape((-1, 1)),\n",
    "                            pa_predictions.reshape((-1, 1))))\n"
   ]
  },
  {
   "cell_type": "code",
   "execution_count": 254,
   "id": "7967a492",
   "metadata": {},
   "outputs": [],
   "source": [
    "from sklearn.neural_network import MLPClassifier\n",
    "import time\n",
    "\n",
    "def build_mlp():\n",
    "    start_time = time.time()\n",
    "    \n",
    "    mlp_classifier = MLPClassifier()\n",
    "    mlp_classifier.fit(stacked_X_train, y_train_valid_resampled)\n",
    "\n",
    "    mlp_predictions = mlp_classifier.predict(stacked_X_test)\n",
    "    \n",
    "    end_time = time.time()\n",
    "    execution_time = end_time - start_time\n",
    "    print(\"Execution time of MLP: {:.2f} seconds\".format(execution_time))\n",
    "    return mlp_predictions"
   ]
  },
  {
   "cell_type": "code",
   "execution_count": 214,
   "id": "cf4067f0",
   "metadata": {
    "scrolled": true
   },
   "outputs": [
    {
     "name": "stdout",
     "output_type": "stream",
     "text": [
      "Execution time of MLP: 292.26 seconds\n"
     ]
    }
   ],
   "source": [
    "mlp_predictions = build_mlp()"
   ]
  },
  {
   "cell_type": "code",
   "execution_count": 256,
   "id": "70b8e199",
   "metadata": {
    "scrolled": false
   },
   "outputs": [
    {
     "name": "stdout",
     "output_type": "stream",
     "text": [
      "              precision    recall  f1-score   support\n",
      "\n",
      "           0       0.68      0.78      0.73       818\n",
      "           1       0.45      0.32      0.37       449\n",
      "\n",
      "    accuracy                           0.62      1267\n",
      "   macro avg       0.56      0.55      0.55      1267\n",
      "weighted avg       0.60      0.62      0.60      1267\n",
      "\n",
      "Model4 - MLP F-score: 0.6203630623520127\n",
      "Model4 - MLP Accuracy: 0.6203630623520127\n"
     ]
    }
   ],
   "source": [
    "from sklearn.metrics import accuracy_score,f1_score, classification_report\n",
    "\n",
    "f_score = f1_score(y_test, mlp_predictions, average='micro')\n",
    "accuracy = accuracy_score(y_test, mlp_predictions)\n",
    "print(classification_report(y_test, mlp_predictions))\n",
    "print(\"Model4 - MLP F-score:\", f_score)\n",
    "print(\"Model4 - MLP Accuracy:\", accuracy)"
   ]
  }
 ],
 "metadata": {
  "kernelspec": {
   "display_name": "Python 3 (ipykernel)",
   "language": "python",
   "name": "python3"
  },
  "language_info": {
   "codemirror_mode": {
    "name": "ipython",
    "version": 3
   },
   "file_extension": ".py",
   "mimetype": "text/x-python",
   "name": "python",
   "nbconvert_exporter": "python",
   "pygments_lexer": "ipython3",
   "version": "3.9.5"
  }
 },
 "nbformat": 4,
 "nbformat_minor": 5
}
