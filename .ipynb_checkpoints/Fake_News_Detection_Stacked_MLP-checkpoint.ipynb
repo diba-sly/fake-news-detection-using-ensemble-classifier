{
 "cells": [
  {
   "cell_type": "markdown",
   "id": "74fae1da",
   "metadata": {},
   "source": [
    "MLP Classifier"
   ]
  },
  {
   "cell_type": "code",
   "execution_count": 1,
   "id": "4b022809",
   "metadata": {},
   "outputs": [],
   "source": [
    "from sklearn.neural_network import MLPClassifier\n",
    "import time\n",
    "from sklearn.metrics import f1_score, accuracy_score, classification_report\n",
    "from keras.models import Sequential\n",
    "from keras.layers import Dense, Embedding, Flatten\n",
    "import numpy as np\n",
    "from tensorflow.keras.layers import *"
   ]
  },
  {
   "cell_type": "code",
   "execution_count": 2,
   "id": "2e5d7384",
   "metadata": {},
   "outputs": [],
   "source": [
    "def build_mlp(X_train, y_train, X_test):\n",
    "    start_time = time.time()\n",
    "    \n",
    "    mlp_classifier = MLPClassifier()\n",
    "    mlp_classifier.fit(X_train, y_train)\n",
    "\n",
    "    mlp_predictions = mlp_classifier.predict(X_test)\n",
    "    \n",
    "    end_time = time.time()\n",
    "    execution_time = end_time - start_time\n",
    "    print(\"Execution time of MLP: {:.2f} seconds\".format(execution_time))\n",
    "    return mlp_predictions"
   ]
  },
  {
   "cell_type": "code",
   "execution_count": 3,
   "id": "d63c3ed8",
   "metadata": {},
   "outputs": [],
   "source": [
    "def mlp_metrics(mlp_predictions, y_test):\n",
    "    f_score = f1_score(y_test, mlp_predictions, average='micro')\n",
    "    accuracy = accuracy_score(y_test, mlp_predictions)\n",
    "    print(classification_report(y_test, mlp_predictions))\n",
    "    print(\"MLP F-score:\", f_score)\n",
    "    print(\"MLP Accuracy:\", accuracy)\n",
    "    return f_score, accuracy"
   ]
  },
  {
   "cell_type": "code",
   "execution_count": 4,
   "id": "e654b2f7",
   "metadata": {},
   "outputs": [],
   "source": [
    "def build_mlp_with_embedding(X_train, y_train, X_test, embedding_matrix, vocab_size,embed_dim=150,input_length=304):    \n",
    "    model = Sequential()\n",
    "    \n",
    "    # Create and set the weights for the embedding layer\n",
    "    embedding_layer = Embedding(vocab_size, embed_dim, input_length=input_length, \n",
    "                                 weights=[embedding_matrix], trainable=False)\n",
    "    \n",
    "    model.add(embedding_layer)\n",
    "    model.add(Dropout(0.1))\n",
    "    model.add(Flatten())\n",
    "    model.add(Dropout(0.1))\n",
    "    model.add(Dense(128, activation='relu'))\n",
    "    model.add(Dense(1, activation='sigmoid'))\n",
    "    \n",
    "    model.compile(optimizer='adam', loss='binary_crossentropy', metrics=['accuracy'])\n",
    "    \n",
    "    model.fit(X_train, y_train, epochs=5, batch_size=64)\n",
    "    \n",
    "    mlp_predictions = model.predict(X_test)\n",
    "    \n",
    "    return mlp_predictions"
   ]
  },
  {
   "cell_type": "code",
   "execution_count": null,
   "id": "7688ad80",
   "metadata": {},
   "outputs": [],
   "source": []
  }
 ],
 "metadata": {
  "kernelspec": {
   "display_name": "Python 3 (ipykernel)",
   "language": "python",
   "name": "python3"
  },
  "language_info": {
   "codemirror_mode": {
    "name": "ipython",
    "version": 3
   },
   "file_extension": ".py",
   "mimetype": "text/x-python",
   "name": "python",
   "nbconvert_exporter": "python",
   "pygments_lexer": "ipython3",
   "version": "3.9.5"
  }
 },
 "nbformat": 4,
 "nbformat_minor": 5
}
