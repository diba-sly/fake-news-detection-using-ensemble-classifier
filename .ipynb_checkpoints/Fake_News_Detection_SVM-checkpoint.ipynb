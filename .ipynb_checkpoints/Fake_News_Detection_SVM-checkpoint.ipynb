{
 "cells": [
  {
   "cell_type": "markdown",
   "id": "68935ce8",
   "metadata": {},
   "source": [
    "SVM classifier"
   ]
  },
  {
   "cell_type": "code",
   "execution_count": null,
   "id": "472daa0c",
   "metadata": {},
   "outputs": [],
   "source": [
    "from sklearn.svm import SVC\n",
    "from sklearn.model_selection import GridSearchCV\n",
    "import time\n",
    "from sklearn.metrics import precision_recall_fscore_support,make_scorer, f1_score\n",
    "import matplotlib.pyplot as plt\n",
    "import seaborn as sns\n",
    "from sklearn.metrics import confusion_matrix, auc, roc_curve, roc_auc_score\n",
    "import matplotlib.pyplot as plt\n",
    "from sklearn.model_selection import cross_val_score, StratifiedKFold\n",
    "import numpy as np"
   ]
  },
  {
   "cell_type": "code",
   "execution_count": 5,
   "id": "d858bdbd",
   "metadata": {},
   "outputs": [],
   "source": [
    "def train_svm(x_train, y_train, x_test, c=10, gamma='scale', kernal='sigmoid'):\n",
    "    start_time = time.time()\n",
    "\n",
    "    svm_model = SVC(C=c, gamma=gamma, kernel=kernal)\n",
    "    svm_model.fit(x_train, y_train)\n",
    "    svm_train_valid_predictions = svm_model.predict(x_train)\n",
    "    svm_predictions = svm_model.predict(x_test)\n",
    "    \n",
    "    end_time = time.time()\n",
    "    execution_time = end_time - start_time\n",
    "    print(\"Execution time of SVM: {:.2f} seconds\".format(execution_time))\n",
    "    return svm_predictions, svm_train_valid_predictions"
   ]
  },
  {
   "cell_type": "code",
   "execution_count": 22,
   "id": "5306ea16",
   "metadata": {},
   "outputs": [],
   "source": [
    "def svm_gridseach(X_train, y_train, X_test):\n",
    "    start_time = time.time()\n",
    "\n",
    "    param_grid = {\n",
    "        'C': [1.0, 10.0],  # Regularization parameter\n",
    "        'kernel': ['poly', 'rbf'],  # Kernel type\n",
    "        'gamma': ['scale', 'auto']  # Kernel coefficient for 'rbf'\n",
    "    }\n",
    "\n",
    "    svm_model = SVC()\n",
    "\n",
    "    # Define the Grid Search with cross-validation\n",
    "    grid_search = GridSearchCV(svm_model, param_grid, cv=5, scoring='f1_micro')\n",
    "    grid_search.fit(X_train, y_train)\n",
    "\n",
    "    best_params = grid_search.best_params_\n",
    "    best_model = grid_search.best_estimator_\n",
    "\n",
    "    print(\"Best parameters of SVM:\", best_params)\n",
    "    \n",
    "    svm_train_valid_predictions = grid_search.predict(X_train)\n",
    "    svm_predictions = grid_search.predict(X_test)\n",
    "\n",
    "    end_time = time.time()\n",
    "    execution_time = end_time - start_time\n",
    "    print(\"Execution time of SVM: {:.2f} seconds\".format(execution_time))\n",
    "    return svm_predictions,svm_train_valid_predictions"
   ]
  },
  {
   "cell_type": "code",
   "execution_count": 23,
   "id": "62bf41a9",
   "metadata": {},
   "outputs": [],
   "source": [
    "def svm_metrics(svm_predictions, y_test):\n",
    "    accuracy = sum(svm_predictions == y_test) / len(y_test)\n",
    "    precision, recall, fscore, support = precision_recall_fscore_support(y_test,\n",
    "                                                                         svm_predictions, average='binary')\n",
    "    print(\"SVM - accuracy:\", accuracy)\n",
    "    print(\"SVM - Precision:\", precision)\n",
    "    print(\"SVM - Recall:\", recall)\n",
    "    print(\"SVM - F-score:\", fscore)\n",
    "    return accuracy, precision, recall, fscore"
   ]
  },
  {
   "cell_type": "code",
   "execution_count": 24,
   "id": "ddc27c8c",
   "metadata": {},
   "outputs": [],
   "source": [
    "def svm_confusion_matrix_plot(svm_predictions, y_test):\n",
    "    cm = confusion_matrix(y_test, svm_predictions)\n",
    "    plt.figure(figsize=(8, 6))\n",
    "    sns.heatmap(cm, annot=True, cmap='Blues', fmt='g', cbar=False)\n",
    "    plt.xlabel('Predicted')\n",
    "    plt.ylabel('True')\n",
    "    plt.title('Confusion Matrix - SVM')\n",
    "    plt.show()"
   ]
  },
  {
   "cell_type": "code",
   "execution_count": 25,
   "id": "e90d4a6a",
   "metadata": {},
   "outputs": [],
   "source": [
    "def svm_roc_plot(svm_predictions, y_test):\n",
    "    # Compute the true positive rate (tpr) and false positive rate (fpr) using roc_curve\n",
    "    svm_fpr, svm_tpr, svm_thresholds = roc_curve(y_test, svm_predictions)\n",
    "    svm_roc_auc = auc(svm_fpr, svm_tpr)\n",
    "\n",
    "    plt.figure()\n",
    "    plt.plot(svm_fpr, svm_tpr, color='darkorange', lw=2, label='ROC curve (area = %0.2f)' % svm_roc_auc)\n",
    "    plt.plot([0, 1], [0, 1], color='navy', lw=2, linestyle='--')\n",
    "    plt.xlim([0.0, 1.0])\n",
    "    plt.ylim([0.0, 1.05])\n",
    "    plt.xlabel('False Positive Rate')\n",
    "    plt.ylabel('True Positive Rate')\n",
    "    plt.title('Receiver Operating Characteristic (ROC) -SVM')\n",
    "    plt.legend(loc=\"lower right\")\n",
    "    plt.show()"
   ]
  },
  {
   "cell_type": "code",
   "execution_count": 4,
   "id": "0d532823",
   "metadata": {},
   "outputs": [],
   "source": [
    "def cross_validate_svm(X, y, svm_params, cv_splits=5):\n",
    "    \n",
    "    # Define SVM parameters\n",
    "#     svm_params = {'C': 10, 'kernel': 'sigmoid', 'gamma': 'scale'}\n",
    "\n",
    "    svm_model = SVC(**svm_params)\n",
    "    \n",
    "    f1_scorer = make_scorer(f1_score, average='micro')\n",
    "    cv_scores = cross_val_score(svm_model, X, y, cv=cv_splits, scoring=f1_scorer)\n",
    "    \n",
    "    average_f1_score = np.mean(cv_scores)\n",
    "    print(\"Cross Validation F1 Scores:\", cv_scores)\n",
    "    print(\"Average F1 Score:\", average_f1_score)\n",
    "        \n",
    "    plt.figure(figsize=(8, 6))\n",
    "    plt.bar(np.arange(1, cv_splits + 1), cv_scores, color='skyblue')\n",
    "    plt.xlabel('Cross Validation Split')\n",
    "    plt.ylabel('F1 Score Score')\n",
    "    plt.title('Cross Validation Scores for SVM')\n",
    "    plt.ylim(0, 1)\n",
    "    plt.show()\n",
    "    \n",
    "    return cv_scores, average_f1_score"
   ]
  },
  {
   "cell_type": "code",
   "execution_count": null,
   "id": "a596d0d8",
   "metadata": {},
   "outputs": [],
   "source": []
  }
 ],
 "metadata": {
  "kernelspec": {
   "display_name": "Python 3 (ipykernel)",
   "language": "python",
   "name": "python3"
  },
  "language_info": {
   "codemirror_mode": {
    "name": "ipython",
    "version": 3
   },
   "file_extension": ".py",
   "mimetype": "text/x-python",
   "name": "python",
   "nbconvert_exporter": "python",
   "pygments_lexer": "ipython3",
   "version": "3.9.5"
  }
 },
 "nbformat": 4,
 "nbformat_minor": 5
}
