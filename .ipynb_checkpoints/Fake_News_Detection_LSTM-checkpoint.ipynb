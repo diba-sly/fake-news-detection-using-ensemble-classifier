{
 "cells": [
  {
   "cell_type": "markdown",
   "id": "a53a6bef",
   "metadata": {},
   "source": [
    "LSTM classifier"
   ]
  },
  {
   "cell_type": "code",
   "execution_count": 38,
   "id": "611f137c",
   "metadata": {},
   "outputs": [],
   "source": [
    "import re\n",
    "from tensorflow.keras.preprocessing.sequence import pad_sequences\n",
    "from tensorflow.keras.layers import *\n",
    "from tensorflow.keras.models import Sequential\n",
    "import pandas as pd\n",
    "import numpy as np\n",
    "from sklearn.metrics import precision_recall_fscore_support, confusion_matrix, roc_curve, roc_auc_score\n",
    "import matplotlib.pyplot as plt\n",
    "import time\n",
    "import seaborn as sns"
   ]
  },
  {
   "cell_type": "code",
   "execution_count": 29,
   "id": "546c340c",
   "metadata": {},
   "outputs": [],
   "source": [
    "def pad_sequence_data(X_train,X_valid,X_test,MAX_SEQUENCE_LENGTH=300,EMBEDDING_DIM=150):\n",
    "    X_train = pad_sequences(X_train, maxlen=MAX_SEQUENCE_LENGTH)\n",
    "    X_valid = pad_sequences(X_valid, maxlen=MAX_SEQUENCE_LENGTH)\n",
    "    X_test = pad_sequences(X_test, maxlen=MAX_SEQUENCE_LENGTH)\n",
    "    return X_train,X_valid,X_test"
   ]
  },
  {
   "cell_type": "code",
   "execution_count": 36,
   "id": "45025540",
   "metadata": {},
   "outputs": [],
   "source": [
    "def train_lstm(vocab_size, embedding_matrix, X_train, y_train, epoches=10,batch_size=128,MAX_SEQUENCE_LENGTH=300,EMBEDDING_DIM=150):\n",
    "    start_time = time.time()\n",
    "    \n",
    "    model = Sequential()\n",
    "    model.add(Input(shape=(MAX_SEQUENCE_LENGTH,)))\n",
    "    model.add(Embedding(vocab_size, EMBEDDING_DIM, weights = [embedding_matrix],\n",
    "                        input_length = MAX_SEQUENCE_LENGTH, trainable=False, name = 'embeddings'))\n",
    "    model.add(LSTM(128, return_sequences=True,name='lstm_layer1'))\n",
    "    model.add(LSTM(64, return_sequences=True,name='lstm_layer2'))\n",
    "    model.add(GlobalMaxPool1D())\n",
    "    #model.add(Dropout(0.1))\n",
    "    model.add(Dense(50, activation=\"relu\"))\n",
    "    model.add(Dense(1, activation=\"sigmoid\"))\n",
    "    \n",
    "    model.compile(optimizer='adam', loss='binary_crossentropy', metrics = ['accuracy'])\n",
    "\n",
    "    model.summary()\n",
    "    \n",
    "    history = model.fit(X_train, y_train, epochs = epoches, batch_size=batch_size, validation_split=0.2)\n",
    "\n",
    "    end_time = time.time()\n",
    "    execution_time = end_time - start_time\n",
    "    print(\"Execution time of LSTM: {:.2f} seconds\".format(execution_time))\n",
    "\n",
    "    return model, history"
   ]
  },
  {
   "cell_type": "code",
   "execution_count": 1,
   "id": "7c055ad6",
   "metadata": {},
   "outputs": [],
   "source": [
    "def predict_lstm(lstm_model, X_train, X_test, threshold=0.4):\n",
    "    lstm_scores=lstm_model.predict(X_test)\n",
    "    lstm_train_scores=lstm_model.predict(X_train)\n",
    "    \n",
    "    lstm_train_predictions = (lstm_train_scores > threshold).astype(int).flatten()\n",
    "    lstm_predictions = (lstm_scores > threshold).astype(int).flatten()\n",
    "    return lstm_train_predictions, lstm_predictions, lstm_train_scores, lstm_scores"
   ]
  },
  {
   "cell_type": "code",
   "execution_count": 32,
   "id": "e5173442",
   "metadata": {},
   "outputs": [],
   "source": [
    "def lstm_metrics(lstm_predictions, y_test):\n",
    "    accuracy = sum(lstm_predictions == y_test) / len(y_test)\n",
    "\n",
    "    precision, recall, fscore, support = precision_recall_fscore_support(y_test, lstm_predictions, average='binary')\n",
    "\n",
    "    print(\"LSTM - Accuracy:\", accuracy)\n",
    "    print(\"LSTM - Precision:\", precision)\n",
    "    print(\"LSTM - Recall:\", recall)\n",
    "    print(\"LSTM - F-score:\", fscore)\n",
    "    return accuracy, precision, recall, fscore"
   ]
  },
  {
   "cell_type": "code",
   "execution_count": 33,
   "id": "ec64f7f7",
   "metadata": {},
   "outputs": [],
   "source": [
    "def lstm_loss_plot(history):\n",
    "    loss = history.history['loss']\n",
    "    val_loss = history.history['val_loss']\n",
    "    epochs = range(1, len(loss)+1)\n",
    "    plt.plot(epochs, loss, label='Training loss')\n",
    "    plt.plot(epochs, val_loss, label='Validation loss')\n",
    "    plt.title('Training and validation loss in LSTM')\n",
    "    plt.xlabel('Epochs')\n",
    "    plt.ylabel('Loss')\n",
    "    plt.legend()\n",
    "    plt.show();"
   ]
  },
  {
   "cell_type": "code",
   "execution_count": 34,
   "id": "43923e82",
   "metadata": {},
   "outputs": [],
   "source": [
    "def lstm_confusion_matrix_plot(lstm_predictions, y_test):\n",
    "    cm = confusion_matrix(y_test, lstm_predictions)\n",
    "    plt.figure(figsize=(8, 6))\n",
    "    sns.heatmap(cm, annot=True, cmap='Blues', fmt='g', cbar=False)\n",
    "    plt.xlabel('Predicted')\n",
    "    plt.ylabel('True')\n",
    "    plt.title('Confusion Matrix - LSTM')\n",
    "    plt.show()"
   ]
  },
  {
   "cell_type": "code",
   "execution_count": 35,
   "id": "8b210d43",
   "metadata": {},
   "outputs": [],
   "source": [
    "def lstm_roc_plot(lstm_predictions, y_test):\n",
    "    # Compute the true positive rate (tpr) and false positive rate (fpr) using roc_curve\n",
    "    lstm_fpr, lstm_tpr, lstm_thresholds = roc_curve(y_test, lstm_predictions)\n",
    "    lstm_roc_auc = auc(lstm_fpr, lstm_tpr)\n",
    "\n",
    "    # Plot ROC curve\n",
    "    plt.figure()\n",
    "    plt.plot(lstm_fpr, lstm_tpr, color='darkorange', lw=2, label='ROC curve (area = %0.2f)' % lstm_roc_auc)\n",
    "    plt.plot([0, 1], [0, 1], color='navy', lw=2, linestyle='--')\n",
    "    plt.xlim([0.0, 1.0])\n",
    "    plt.ylim([0.0, 1.05])\n",
    "    plt.xlabel('False Positive Rate')\n",
    "    plt.ylabel('True Positive Rate')\n",
    "    plt.title('Receiver Operating Characteristic (ROC) -LSTM')\n",
    "    plt.legend(loc=\"lower right\")\n",
    "    plt.show()"
   ]
  }
 ],
 "metadata": {
  "kernelspec": {
   "display_name": "Python 3 (ipykernel)",
   "language": "python",
   "name": "python3"
  },
  "language_info": {
   "codemirror_mode": {
    "name": "ipython",
    "version": 3
   },
   "file_extension": ".py",
   "mimetype": "text/x-python",
   "name": "python",
   "nbconvert_exporter": "python",
   "pygments_lexer": "ipython3",
   "version": "3.9.5"
  }
 },
 "nbformat": 4,
 "nbformat_minor": 5
}
