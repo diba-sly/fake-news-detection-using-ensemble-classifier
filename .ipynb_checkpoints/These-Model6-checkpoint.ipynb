{
 "cells": [
  {
   "cell_type": "markdown",
   "id": "b59b44b6",
   "metadata": {},
   "source": [
    "### Model6 settings:\n",
    "\n",
    "We drop 'half-true' datas and combine classes to 2 classes.\n",
    "\n",
    "Then we have full preproccesing on data.\n",
    "\n",
    "Then we tokenized and used Word2Vec on data.\n",
    "\n",
    "Stacking is by binary prediction of models."
   ]
  },
  {
   "cell_type": "code",
   "execution_count": 1,
   "id": "fd36c05c",
   "metadata": {},
   "outputs": [],
   "source": [
    "import pandas as pd\n",
    "import numpy as np  \n",
    "import matplotlib.pyplot as plt \n",
    "from sklearn.metrics import precision_recall_fscore_support\n",
    "import Scripts.Data_Read_Prepare as Data_Prepare\n",
    "import Scripts.Fake_News_Detection_SVM as SVM_classifier\n",
    "import Scripts.Fake_News_Detection_PA as PA_classifier\n",
    "import Scripts.Fake_News_Detection_XGBoost as XGBoost_classifier\n",
    "import Scripts.Fake_News_Detection_LSTM as LSTM_classifier\n",
    "import Scripts.Fake_News_Detection_BiLSTM as BiLSTM_classifier\n",
    "import Scripts.Fake_News_Detection_Stacked_MLP as MLP_classifier"
   ]
  },
  {
   "cell_type": "markdown",
   "id": "67217fef",
   "metadata": {},
   "source": [
    "Loading data from datasets"
   ]
  },
  {
   "cell_type": "code",
   "execution_count": 2,
   "id": "e5e43bb6",
   "metadata": {
    "scrolled": false
   },
   "outputs": [
    {
     "data": {
      "text/html": [
       "<div>\n",
       "<style scoped>\n",
       "    .dataframe tbody tr th:only-of-type {\n",
       "        vertical-align: middle;\n",
       "    }\n",
       "\n",
       "    .dataframe tbody tr th {\n",
       "        vertical-align: top;\n",
       "    }\n",
       "\n",
       "    .dataframe thead th {\n",
       "        text-align: right;\n",
       "    }\n",
       "</style>\n",
       "<table border=\"1\" class=\"dataframe\">\n",
       "  <thead>\n",
       "    <tr style=\"text-align: right;\">\n",
       "      <th></th>\n",
       "      <th>0</th>\n",
       "      <th>1</th>\n",
       "      <th>2</th>\n",
       "      <th>3</th>\n",
       "      <th>4</th>\n",
       "      <th>5</th>\n",
       "      <th>6</th>\n",
       "      <th>7</th>\n",
       "      <th>8</th>\n",
       "      <th>9</th>\n",
       "      <th>10</th>\n",
       "      <th>11</th>\n",
       "      <th>12</th>\n",
       "      <th>13</th>\n",
       "    </tr>\n",
       "  </thead>\n",
       "  <tbody>\n",
       "    <tr>\n",
       "      <th>0</th>\n",
       "      <td>2635.json</td>\n",
       "      <td>false</td>\n",
       "      <td>Says the Annies List political group supports ...</td>\n",
       "      <td>abortion</td>\n",
       "      <td>dwayne-bohac</td>\n",
       "      <td>State representative</td>\n",
       "      <td>Texas</td>\n",
       "      <td>republican</td>\n",
       "      <td>0.0</td>\n",
       "      <td>1.0</td>\n",
       "      <td>0.0</td>\n",
       "      <td>0.0</td>\n",
       "      <td>0.0</td>\n",
       "      <td>a mailer</td>\n",
       "    </tr>\n",
       "    <tr>\n",
       "      <th>1</th>\n",
       "      <td>10540.json</td>\n",
       "      <td>half-true</td>\n",
       "      <td>When did the decline of coal start? It started...</td>\n",
       "      <td>energy,history,job-accomplishments</td>\n",
       "      <td>scott-surovell</td>\n",
       "      <td>State delegate</td>\n",
       "      <td>Virginia</td>\n",
       "      <td>democrat</td>\n",
       "      <td>0.0</td>\n",
       "      <td>0.0</td>\n",
       "      <td>1.0</td>\n",
       "      <td>1.0</td>\n",
       "      <td>0.0</td>\n",
       "      <td>a floor speech.</td>\n",
       "    </tr>\n",
       "    <tr>\n",
       "      <th>2</th>\n",
       "      <td>324.json</td>\n",
       "      <td>mostly-true</td>\n",
       "      <td>Hillary Clinton agrees with John McCain \"by vo...</td>\n",
       "      <td>foreign-policy</td>\n",
       "      <td>barack-obama</td>\n",
       "      <td>President</td>\n",
       "      <td>Illinois</td>\n",
       "      <td>democrat</td>\n",
       "      <td>70.0</td>\n",
       "      <td>71.0</td>\n",
       "      <td>160.0</td>\n",
       "      <td>163.0</td>\n",
       "      <td>9.0</td>\n",
       "      <td>Denver</td>\n",
       "    </tr>\n",
       "  </tbody>\n",
       "</table>\n",
       "</div>"
      ],
      "text/plain": [
       "           0            1                                                  2   \\\n",
       "0   2635.json        false  Says the Annies List political group supports ...   \n",
       "1  10540.json    half-true  When did the decline of coal start? It started...   \n",
       "2    324.json  mostly-true  Hillary Clinton agrees with John McCain \"by vo...   \n",
       "\n",
       "                                   3               4                     5   \\\n",
       "0                            abortion    dwayne-bohac  State representative   \n",
       "1  energy,history,job-accomplishments  scott-surovell        State delegate   \n",
       "2                      foreign-policy    barack-obama             President   \n",
       "\n",
       "         6           7     8     9      10     11   12               13  \n",
       "0     Texas  republican   0.0   1.0    0.0    0.0  0.0         a mailer  \n",
       "1  Virginia    democrat   0.0   0.0    1.0    1.0  0.0  a floor speech.  \n",
       "2  Illinois    democrat  70.0  71.0  160.0  163.0  9.0           Denver  "
      ]
     },
     "execution_count": 2,
     "metadata": {},
     "output_type": "execute_result"
    }
   ],
   "source": [
    "data_train, data_valid, data_test = Data_Prepare.read_data()\n",
    "data_train.head(3)"
   ]
  },
  {
   "cell_type": "code",
   "execution_count": 3,
   "id": "739893c8",
   "metadata": {
    "scrolled": false
   },
   "outputs": [
    {
     "data": {
      "text/html": [
       "<div>\n",
       "<style scoped>\n",
       "    .dataframe tbody tr th:only-of-type {\n",
       "        vertical-align: middle;\n",
       "    }\n",
       "\n",
       "    .dataframe tbody tr th {\n",
       "        vertical-align: top;\n",
       "    }\n",
       "\n",
       "    .dataframe thead th {\n",
       "        text-align: right;\n",
       "    }\n",
       "</style>\n",
       "<table border=\"1\" class=\"dataframe\">\n",
       "  <thead>\n",
       "    <tr style=\"text-align: right;\">\n",
       "      <th></th>\n",
       "      <th>label</th>\n",
       "      <th>sentence</th>\n",
       "    </tr>\n",
       "  </thead>\n",
       "  <tbody>\n",
       "    <tr>\n",
       "      <th>0</th>\n",
       "      <td>0</td>\n",
       "      <td>abortion dwayne-bohac State representative a m...</td>\n",
       "    </tr>\n",
       "    <tr>\n",
       "      <th>1</th>\n",
       "      <td>1</td>\n",
       "      <td>foreign-policy barack-obama President Denver H...</td>\n",
       "    </tr>\n",
       "    <tr>\n",
       "      <th>2</th>\n",
       "      <td>0</td>\n",
       "      <td>health-care blog-posting nan a news release He...</td>\n",
       "    </tr>\n",
       "  </tbody>\n",
       "</table>\n",
       "</div>"
      ],
      "text/plain": [
       "   label                                           sentence\n",
       "0      0  abortion dwayne-bohac State representative a m...\n",
       "1      1  foreign-policy barack-obama President Denver H...\n",
       "2      0  health-care blog-posting nan a news release He..."
      ]
     },
     "execution_count": 3,
     "metadata": {},
     "output_type": "execute_result"
    }
   ],
   "source": [
    "data_train = Data_Prepare.combine_classes_drop_half_true(data_train)\n",
    "data_valid = Data_Prepare.combine_classes_drop_half_true(data_valid)\n",
    "data_test = Data_Prepare.combine_classes_drop_half_true(data_test)\n",
    "data_train.head(3)"
   ]
  },
  {
   "cell_type": "markdown",
   "id": "1dc847d3",
   "metadata": {},
   "source": [
    "Preproccesing"
   ]
  },
  {
   "cell_type": "code",
   "execution_count": 4,
   "id": "ce0c1b5f",
   "metadata": {
    "scrolled": true
   },
   "outputs": [
    {
     "name": "stdout",
     "output_type": "stream",
     "text": [
      "data_preprocessing done!\n"
     ]
    }
   ],
   "source": [
    "data_train, data_valid, data_test = Data_Prepare.do_preprocessing(data_train, data_valid, data_test)"
   ]
  },
  {
   "cell_type": "code",
   "execution_count": 5,
   "id": "7c06371b",
   "metadata": {
    "scrolled": false
   },
   "outputs": [
    {
     "data": {
      "text/plain": [
       "0    0.552301\n",
       "1    0.447699\n",
       "Name: label, dtype: float64"
      ]
     },
     "execution_count": 5,
     "metadata": {},
     "output_type": "execute_result"
    }
   ],
   "source": [
    "data_train['label'].value_counts(normalize='true')"
   ]
  },
  {
   "cell_type": "code",
   "execution_count": 14,
   "id": "3c52cb2b",
   "metadata": {},
   "outputs": [],
   "source": [
    "# Combine the training and validation datasets for training\n",
    "data_set_all = pd.concat([data_train, data_valid, data_test])\n",
    "data_train_valid = pd.concat([data_train, data_valid])\n",
    "\n",
    "X_train_valid = data_train_valid['sentence']\n",
    "y_train_valid = data_train_valid['label']\n",
    "X_test = data_test['sentence']\n",
    "y_test = data_test['label']"
   ]
  },
  {
   "cell_type": "code",
   "execution_count": 15,
   "id": "986e328a",
   "metadata": {},
   "outputs": [],
   "source": [
    "# plot_data_length(data_set_all)"
   ]
  },
  {
   "cell_type": "markdown",
   "id": "d687b1fb",
   "metadata": {},
   "source": [
    "Vectorizing"
   ]
  },
  {
   "cell_type": "code",
   "execution_count": 16,
   "id": "61497f29",
   "metadata": {},
   "outputs": [],
   "source": [
    "embedding_matrix,X_train_t_v, y_train_t_v, X_test_t_v, y_test_t_v, vocab_size = Data_Prepare.tokenize_vectorize(data_set_all,\n",
    "                                                                                                                data_train_valid,\n",
    "                                                                                                                data_test,\n",
    "                                                                                                                MAX_SEQUENCE_LENGTH=300\n",
    "                                                                                                                ,EMBEDDING_DIM=1500)"
   ]
  },
  {
   "cell_type": "code",
   "execution_count": 27,
   "id": "580a459f",
   "metadata": {},
   "outputs": [
    {
     "data": {
      "image/png": "[encoded data removed]",
      "text/plain": [
       "<Figure size 432x288 with 1 Axes>"
      ]
     },
     "metadata": {
      "needs_background": "light"
     },
     "output_type": "display_data"
    }
   ],
   "source": [
    "#Visualizing distribution of predeiction of ensemble clas\n",
    "class_counts = np.bincount(y_train_valid)\n",
    "plt.bar(range(len(class_counts)), class_counts)\n",
    "class_labels = ['Fake', 'Real']\n",
    "plt.xticks(range(len(class_counts)), class_labels)\n",
    "plt.title('Distribution of Classifications')\n",
    "plt.xlabel('Class')\n",
    "plt.ylabel('Count')\n",
    "plt.show()"
   ]
  },
  {
   "cell_type": "markdown",
   "id": "d8da7850",
   "metadata": {},
   "source": [
    "## 1- SVM"
   ]
  },
  {
   "cell_type": "code",
   "execution_count": 17,
   "id": "299d21eb",
   "metadata": {
    "scrolled": false
   },
   "outputs": [
    {
     "name": "stdout",
     "output_type": "stream",
     "text": [
      "Execution time of SVM: 31.25 seconds\n"
     ]
    }
   ],
   "source": [
    "svm_predictions, svm_train_valid_predictions =SVM_classifier.train_svm(X_train_t_v, y_train_valid, X_test_t_v)"
   ]
  },
  {
   "cell_type": "code",
   "execution_count": 18,
   "id": "cb9542f1",
   "metadata": {
    "scrolled": true
   },
   "outputs": [
    {
     "name": "stdout",
     "output_type": "stream",
     "text": [
      "SVM - accuracy: 0.48902195608782434\n",
      "SVM - Precision: 0.43737574552683894\n",
      "SVM - Recall: 0.48997772828507796\n",
      "SVM - F-score: 0.46218487394957986\n"
     ]
    },
    {
     "data": {
      "image/png": "[encoded data removed]",
      "text/plain": [
       "<Figure size 576x432 with 1 Axes>"
      ]
     },
     "metadata": {
      "needs_background": "light"
     },
     "output_type": "display_data"
    },
    {
     "data": {
      "image/png": "[encoded data removed]",
      "text/plain": [
       "<Figure size 432x288 with 1 Axes>"
      ]
     },
     "metadata": {
      "needs_background": "light"
     },
     "output_type": "display_data"
    }
   ],
   "source": [
    "svm_accuracy, svm_precision, svm_recall, svm_fscore = SVM_classifier.svm_metrics(svm_predictions, y_test)\n",
    "SVM_classifier.svm_confusion_matrix_plot(svm_predictions, y_test)\n",
    "SVM_classifier.svm_roc_plot(svm_predictions, y_test)"
   ]
  },
  {
   "cell_type": "markdown",
   "id": "223fdeea",
   "metadata": {},
   "source": [
    "## 2-Passive Aggressive"
   ]
  },
  {
   "cell_type": "code",
   "execution_count": 19,
   "id": "91c8b798",
   "metadata": {
    "scrolled": true
   },
   "outputs": [
    {
     "name": "stdout",
     "output_type": "stream",
     "text": [
      "Execution time of PA: 0.33 seconds\n"
     ]
    }
   ],
   "source": [
    "pa_predictions,pa_train_valid_predictions, pa_scores, pa_train_scores = PA_classifier.train_pa(X_train_t_v, y_train_t_v,\n",
    "                                                     X_test_t_v,c = 0.01,iteration=500, tol=1e-7)"
   ]
  },
  {
   "cell_type": "code",
   "execution_count": 20,
   "id": "269d41b0",
   "metadata": {},
   "outputs": [
    {
     "name": "stdout",
     "output_type": "stream",
     "text": [
      "PA - accuracy: 0.48902195608782434\n",
      "PA - Precision: 0.44283121597096187\n",
      "PA - Recall: 0.5434298440979956\n",
      "PA - F-score: 0.488\n"
     ]
    },
    {
     "data": {
      "image/png": "[encoded data removed]",
      "text/plain": [
       "<Figure size 576x432 with 1 Axes>"
      ]
     },
     "metadata": {
      "needs_background": "light"
     },
     "output_type": "display_data"
    },
    {
     "data": {
      "image/png": "[encoded data removed]",
      "text/plain": [
       "<Figure size 432x288 with 1 Axes>"
      ]
     },
     "metadata": {
      "needs_background": "light"
     },
     "output_type": "display_data"
    }
   ],
   "source": [
    "pa_accuracy, pa_precision, pa_recall, pa_fscore = PA_classifier.pa_metrics(pa_predictions, y_test)\n",
    "PA_classifier.pa_confusion_matrix_plot(pa_predictions, y_test)\n",
    "PA_classifier.pa_roc_plot(pa_predictions, y_test)"
   ]
  },
  {
   "cell_type": "markdown",
   "id": "3f0f621a",
   "metadata": {},
   "source": [
    "## 3-XGBoost"
   ]
  },
  {
   "cell_type": "code",
   "execution_count": 21,
   "id": "27203d1d",
   "metadata": {
    "scrolled": false
   },
   "outputs": [
    {
     "name": "stdout",
     "output_type": "stream",
     "text": [
      "Execution time of XGBoost: 13.32 seconds\n"
     ]
    }
   ],
   "source": [
    "params = {\n",
    "    'objective': 'binary:logistic',  # or 'multi:softmax' for multi-class classification\n",
    "    'eval_metric': 'logloss',  # or other appropriate evaluation metric\n",
    "    'eta': 0.01,  # learning rate\n",
    "    'max_depth': 20,  # maximum depth of a tree\n",
    "    'subsample': 0.2,  # subsample ratio of the training instances\n",
    "    'colsample_bytree': 0.8  # subsample ratio of columns when constructing each tree\n",
    "}\n",
    "\n",
    "xgb_predictions, xgb_train_valid_predictions, xgb_scores, xgb_train_scores = XGBoost_classifier.train_xgboost(X_train_t_v,y_train_valid,\n",
    "                                                                                X_test_t_v,y_test,\n",
    "                                                                               params)"
   ]
  },
  {
   "cell_type": "code",
   "execution_count": 22,
   "id": "7d714c63",
   "metadata": {
    "scrolled": false
   },
   "outputs": [
    {
     "name": "stdout",
     "output_type": "stream",
     "text": [
      "XGBoost - accuracy: 0.5069860279441117\n",
      "XGBoost - Precision: 0.46646795827123694\n",
      "XGBoost - Recall: 0.6971046770601337\n",
      "XGBoost - F-score: 0.5589285714285713\n"
     ]
    },
    {
     "data": {
      "image/png": "[encoded data removed]",
      "text/plain": [
       "<Figure size 576x432 with 1 Axes>"
      ]
     },
     "metadata": {
      "needs_background": "light"
     },
     "output_type": "display_data"
    },
    {
     "data": {
      "image/png": "[encoded data removed]",
      "text/plain": [
       "<Figure size 432x288 with 1 Axes>"
      ]
     },
     "metadata": {
      "needs_background": "light"
     },
     "output_type": "display_data"
    }
   ],
   "source": [
    "xgb_accuracy, xgb_precision, xgb_recall, xgb_fscore = XGBoost_classifier.xgb_metrics(xgb_predictions, y_test)\n",
    "XGBoost_classifier.xgb_confusion_matrix_plot(xgb_predictions, y_test)\n",
    "XGBoost_classifier.xgb_roc_plot(xgb_predictions, y_test)"
   ]
  },
  {
   "cell_type": "markdown",
   "id": "fee025c7",
   "metadata": {},
   "source": [
    "## 4-LSTM"
   ]
  },
  {
   "cell_type": "code",
   "execution_count": 23,
   "id": "53ba7a03",
   "metadata": {
    "scrolled": true
   },
   "outputs": [
    {
     "ename": "SyntaxError",
     "evalue": "positional argument follows keyword argument (Temp/ipykernel_21164/772971521.py, line 7)",
     "output_type": "error",
     "traceback": [
      "\u001b[1;36m  File \u001b[1;32m\"C:\\Users\\Diba\\AppData\\Local\\Temp/ipykernel_21164/772971521.py\"\u001b[1;36m, line \u001b[1;32m7\u001b[0m\n\u001b[1;33m    300,1500)\u001b[0m\n\u001b[1;37m            ^\u001b[0m\n\u001b[1;31mSyntaxError\u001b[0m\u001b[1;31m:\u001b[0m positional argument follows keyword argument\n"
     ]
    }
   ],
   "source": [
    "lstm_model, lstm_history = LSTM_classifier.train_lstm(vocab_size,\n",
    "                                                      embedding_matrix,\n",
    "                                                      X_train_t_v,\n",
    "                                                      y_train_t_v,\n",
    "                                                      epoches=10,\n",
    "                                                      batch_size=128,\n",
    "                                                      MAX_SEQUENCE_LENGTH=300,\n",
    "                                                      EMBEDDING_DIM=1500)"
   ]
  },
  {
   "cell_type": "code",
   "execution_count": null,
   "id": "3547514c",
   "metadata": {
    "scrolled": false
   },
   "outputs": [],
   "source": [
    "lstm_train_valid_predictions, lstm_predictions, lstm_train_scores, lstm_scores = LSTM_classifier.predict_lstm(lstm_model,\n",
    "                                                                              X_train_t_v,\n",
    "                                                                              X_test_t_v,\n",
    "                                                                             0.4)"
   ]
  },
  {
   "cell_type": "code",
   "execution_count": null,
   "id": "ad743d8a",
   "metadata": {
    "scrolled": true
   },
   "outputs": [],
   "source": [
    "lstm_accuracy, lstm_precision, lstm_recall, lstm_fscore = LSTM_classifier.lstm_metrics(lstm_predictions, y_test_t_v)\n",
    "LSTM_classifier.lstm_loss_plot(lstm_history)\n",
    "LSTM_classifier.lstm_confusion_matrix_plot(lstm_predictions, y_test_t_v)"
   ]
  },
  {
   "cell_type": "markdown",
   "id": "04986939",
   "metadata": {},
   "source": [
    "## 5-BiLSTM"
   ]
  },
  {
   "cell_type": "code",
   "execution_count": null,
   "id": "f3b39999",
   "metadata": {},
   "outputs": [
    {
     "name": "stdout",
     "output_type": "stream",
     "text": [
      "Model: \"sequential\"\n",
      "_________________________________________________________________\n",
      " Layer (type)                Output Shape              Param #   \n",
      "=================================================================\n",
      " embedding (Embedding)       (None, 300, 1500)         13060500  \n",
      "                                                                 \n",
      " bidirectional (Bidirectiona  (None, 300, 256)         1668096   \n",
      " l)                                                              \n",
      "                                                                 \n",
      " bidirectional_1 (Bidirectio  (None, 128)              164352    \n",
      " nal)                                                            \n",
      "                                                                 \n",
      " dense (Dense)               (None, 32)                4128      \n",
      "                                                                 \n",
      " dense_1 (Dense)             (None, 1)                 33        \n",
      "                                                                 \n",
      "=================================================================\n",
      "Total params: 14,897,109\n",
      "Trainable params: 1,836,609\n",
      "Non-trainable params: 13,060,500\n",
      "_________________________________________________________________\n",
      "Epoch 1/10\n"
     ]
    }
   ],
   "source": [
    "bilstm_model, bilstm_history = BiLSTM_classifier.train_bilstm(vocab_size,\n",
    "                                                              X_train_t_v,\n",
    "                                                              y_train_t_v, 10,128,\n",
    "                                                              MAX_SEQUENCE_LENGTH = 300,\n",
    "                                                              EMBEDDING_DIM = 1500)"
   ]
  },
  {
   "cell_type": "code",
   "execution_count": null,
   "id": "c6b2edeb",
   "metadata": {
    "scrolled": true
   },
   "outputs": [],
   "source": [
    "bilstm_train_predictions, bilstm_predictions, bilstm_train_scores,bilstm_scores = BiLSTM_classifier.predict_bilstm(bilstm_model,\n",
    "                                                                                X_train_t_v, X_test_t_v, 0.3)\n",
    "bilstm_accuracy, bilstm_precision, bilstm_recall, bilstm_fscore=BiLSTM_classifier.bilstm_metrics(bilstm_predictions, y_test_t_v)\n",
    "BiLSTM_classifier.bilstm_loss_plot(bilstm_history)\n",
    "BiLSTM_classifier.bilstm_confusion_matrix_plot(bilstm_predictions, y_test_t_v)\n",
    "# bilstm_roc_plot(bilstm_predictions, y_test_t_v)"
   ]
  },
  {
   "cell_type": "markdown",
   "id": "593cf11f",
   "metadata": {},
   "source": [
    "## Evaluate Ensemblely!"
   ]
  },
  {
   "cell_type": "code",
   "execution_count": 40,
   "id": "3384ffd4",
   "metadata": {
    "scrolled": true
   },
   "outputs": [
    {
     "data": {
      "image/png": "[encoded data removed]",
      "text/plain": [
       "<Figure size 432x288 with 1 Axes>"
      ]
     },
     "metadata": {
      "needs_background": "light"
     },
     "output_type": "display_data"
    }
   ],
   "source": [
    "metrics = ['Accuracy','Precision','Recall','F-score'] \n",
    "svm = [svm_accuracy, svm_precision, svm_recall, svm_fscore] \n",
    "pa=[pa_accuracy, pa_precision, pa_recall, pa_fscore]\n",
    "xgb=[xgb_accuracy, xgb_precision, xgb_recall, xgb_fscore]\n",
    "lstm = [lstm_accuracy, lstm_precision, lstm_recall, lstm_fscore] \n",
    "bilstm = [bilstm_accuracy, bilstm_precision, bilstm_recall, bilstm_fscore] \n",
    "\n",
    "bar_width = 0.15 \n",
    "index = np.arange(len(metrics))\n",
    "plt.bar(index, svm, bar_width, label='SVM')\n",
    "plt.bar(index + bar_width, pa, bar_width, label='PA')\n",
    "plt.bar(index + 2*bar_width, xgb, bar_width, label='XGB')\n",
    "plt.bar(index + 3*bar_width, lstm, bar_width, label='LSTM')\n",
    "plt.bar(index + 4*bar_width, bilstm, bar_width, label='BiLSTM')\n",
    "\n",
    "plt.xlabel('Metrics')\n",
    "plt.ylabel('Values')\n",
    "plt.title('Classifier Metrics Comparison')\n",
    "\n",
    "plt.xticks(index + bar_width, metrics)\n",
    "plt.legend()\n",
    "plt.show()\n",
    "        "
   ]
  },
  {
   "cell_type": "code",
   "execution_count": 41,
   "id": "5346ac90",
   "metadata": {},
   "outputs": [],
   "source": [
    "import numpy as np\n",
    "def ensemble_prediction():   \n",
    "    votes = np.array([list(row) for row in zip(svm_predictions ,xgb_predictions, pa_predictions, lstm_predictions, bilstm_predictions)])\n",
    "    column_sums = np.sum(votes, axis=1)\n",
    "    averages_vote = []\n",
    "    for column_sum in column_sums:\n",
    "        average = column_sum / 5\n",
    "        averages_vote.append(average.round())\n",
    "    return averages_vote"
   ]
  },
  {
   "cell_type": "code",
   "execution_count": 42,
   "id": "d657fd4b",
   "metadata": {
    "scrolled": true
   },
   "outputs": [
    {
     "name": "stdout",
     "output_type": "stream",
     "text": [
      "Model - accuracy: 0.5159680638722555\n",
      "Model - Precision: 0.4765625\n",
      "Model - Recall: 0.8151447661469933\n",
      "Model - F-score: 0.6014790468364831\n"
     ]
    }
   ],
   "source": [
    "y_pred_ensemble = ensemble_prediction()\n",
    "\n",
    "accuracy = sum(y_pred_ensemble == y_test) / len(y_test)\n",
    "\n",
    "precision, recall, fscore, support = precision_recall_fscore_support(y_test, y_pred_ensemble, average='binary')\n",
    "print(\"Model - accuracy:\", accuracy)\n",
    "print(\"Model - Precision:\", precision)\n",
    "print(\"Model - Recall:\", recall)\n",
    "print(\"Model - F-score:\", fscore)"
   ]
  },
  {
   "cell_type": "code",
   "execution_count": 46,
   "id": "964e3603",
   "metadata": {},
   "outputs": [
    {
     "data": {
      "image/png": "[encoded data removed]",
      "text/plain": [
       "<Figure size 432x288 with 1 Axes>"
      ]
     },
     "metadata": {
      "needs_background": "light"
     },
     "output_type": "display_data"
    }
   ],
   "source": [
    "#Visualizing distribution of predeiction of ensemble clas\n",
    "class_counts = np.bincount(y_pred_ensemble)\n",
    "plt.bar(range(len(class_counts)), class_counts)\n",
    "class_labels = ['Fake', 'Real']\n",
    "plt.xticks(range(len(class_counts)), class_labels)\n",
    "plt.title('Distribution of Classifications')\n",
    "plt.xlabel('Class')\n",
    "plt.ylabel('Count')\n",
    "plt.show()"
   ]
  },
  {
   "cell_type": "markdown",
   "id": "3869b349",
   "metadata": {},
   "source": [
    "## MLP Classifier"
   ]
  },
  {
   "cell_type": "code",
   "execution_count": 209,
   "id": "ef399c02",
   "metadata": {},
   "outputs": [],
   "source": [
    "xgb_train_valid_predictions = np.array(xgb_train_valid_predictions)\n",
    "xgb_predictions= np.array(xgb_predictions)\n",
    "\n",
    "stacked_X_train = np.hstack((X_train_t_v, \n",
    "                             svm_train_valid_predictions.reshape((-1, 1)),\n",
    "                             xgb_train_valid_predictions.reshape((-1, 1)),\n",
    "                             lstm_train_valid_predictions.reshape((-1, 1)),\n",
    "#                              bilstm_train_predictions.reshape((-1, 1)),\n",
    "                             pa_train_valid_predictions.reshape((-1, 1))\n",
    "                            ))\n",
    "stacked_X_test = np.hstack((X_test_t_v, \n",
    "                            svm_predictions.reshape((-1, 1)),\n",
    "                            xgb_predictions.reshape((-1, 1)),\n",
    "                            lstm_predictions.reshape((-1, 1)),\n",
    "#                             bilstm_predictions.reshape((-1, 1)),\n",
    "                            pa_predictions.reshape((-1, 1))\n",
    "                           ))\n"
   ]
  },
  {
   "cell_type": "code",
   "execution_count": 64,
   "id": "cf4067f0",
   "metadata": {
    "scrolled": false
   },
   "outputs": [
    {
     "name": "stdout",
     "output_type": "stream",
     "text": [
      "Execution time of MLP: 41.98 seconds\n"
     ]
    }
   ],
   "source": [
    "mlp_predictions = MLP_classifier.build_mlp(stacked_X_train, y_train_valid,stacked_X_test)"
   ]
  },
  {
   "cell_type": "code",
   "execution_count": 65,
   "id": "e410a98c",
   "metadata": {},
   "outputs": [
    {
     "name": "stdout",
     "output_type": "stream",
     "text": [
      "              precision    recall  f1-score   support\n",
      "\n",
      "           0       0.57      0.72      0.63       553\n",
      "           1       0.48      0.32      0.39       449\n",
      "\n",
      "    accuracy                           0.54      1002\n",
      "   macro avg       0.52      0.52      0.51      1002\n",
      "weighted avg       0.53      0.54      0.52      1002\n",
      "\n",
      "MLP F-score: 0.5409181636726547\n",
      "MLP Accuracy: 0.5409181636726547\n"
     ]
    }
   ],
   "source": [
    "from sklearn.metrics import f1_score, accuracy_score, classification_report\n",
    "f_score = f1_score(y_test, mlp_predictions, average='micro')\n",
    "accuracy = accuracy_score(y_test, mlp_predictions)\n",
    "print(classification_report(y_test, mlp_predictions))\n",
    "print(\"MLP F-score:\", f_score)\n",
    "print(\"MLP Accuracy:\", accuracy)"
   ]
  },
  {
   "cell_type": "code",
   "execution_count": 1,
   "id": "b977364e",
   "metadata": {},
   "outputs": [
    {
     "ename": "NameError",
     "evalue": "name 'MLP_classifier' is not defined",
     "output_type": "error",
     "traceback": [
      "\u001b[1;31m---------------------------------------------------------------------------\u001b[0m",
      "\u001b[1;31mNameError\u001b[0m                                 Traceback (most recent call last)",
      "\u001b[1;32m~\\AppData\\Local\\Temp/ipykernel_10452/1511987476.py\u001b[0m in \u001b[0;36m<module>\u001b[1;34m\u001b[0m\n\u001b[1;32m----> 1\u001b[1;33m \u001b[0mMLP_classifier\u001b[0m\u001b[1;33m.\u001b[0m\u001b[0mmlp_metrics\u001b[0m\u001b[1;33m(\u001b[0m\u001b[0mmlp_predictions\u001b[0m\u001b[1;33m,\u001b[0m \u001b[0my_test\u001b[0m\u001b[1;33m)\u001b[0m\u001b[1;33m\u001b[0m\u001b[1;33m\u001b[0m\u001b[0m\n\u001b[0m",
      "\u001b[1;31mNameError\u001b[0m: name 'MLP_classifier' is not defined"
     ]
    }
   ],
   "source": [
    "MLP_classifier.mlp_metrics(mlp_predictions, y_test)"
   ]
  },
  {
   "cell_type": "code",
   "execution_count": 211,
   "id": "1024ee71",
   "metadata": {},
   "outputs": [
    {
     "name": "stdout",
     "output_type": "stream",
     "text": [
      "Epoch 1/5\n",
      "144/144 [==============================] - 19s 129ms/step - loss: 0.6498 - accuracy: 0.6212\n",
      "Epoch 2/5\n",
      "144/144 [==============================] - 18s 127ms/step - loss: 0.6273 - accuracy: 0.6493\n",
      "Epoch 3/5\n",
      "144/144 [==============================] - 18s 128ms/step - loss: 0.6193 - accuracy: 0.6502\n",
      "Epoch 4/5\n",
      "144/144 [==============================] - 18s 127ms/step - loss: 0.6137 - accuracy: 0.6547\n",
      "Epoch 5/5\n",
      "144/144 [==============================] - 18s 127ms/step - loss: 0.6082 - accuracy: 0.6520\n",
      "32/32 [==============================] - 0s 12ms/step\n"
     ]
    }
   ],
   "source": [
    "mlp_predictions2 = MLP_classifier.build_mlp_with_embedding(stacked_X_train, y_train_valid,stacked_X_test,\n",
    "                                            embedding_matrix, vocab_size,\n",
    "                                            embed_dim=150,input_length=304)"
   ]
  },
  {
   "cell_type": "code",
   "execution_count": 217,
   "id": "3021d962",
   "metadata": {
    "scrolled": true
   },
   "outputs": [
    {
     "name": "stdout",
     "output_type": "stream",
     "text": [
      "              precision    recall  f1-score   support\n",
      "\n",
      "           0       0.69      0.54      0.60       553\n",
      "           1       0.55      0.70      0.62       449\n",
      "\n",
      "    accuracy                           0.61      1002\n",
      "   macro avg       0.62      0.62      0.61      1002\n",
      "weighted avg       0.63      0.61      0.61      1002\n",
      "\n",
      "MLP F-score: 0.6107784431137725\n",
      "MLP Accuracy: 0.6107784431137725\n"
     ]
    }
   ],
   "source": [
    "from sklearn.metrics import f1_score, accuracy_score, classification_report\n",
    "# mlp2=[1 if p >= 0.5 else 0 for p in mlp_predictions2]\n",
    "mlp2 = (mlp_predictions2 > 0.5).astype(int).flatten()\n",
    "f_score = f1_score(y_test, mlp2, average='micro')\n",
    "accuracy = accuracy_score(y_test, mlp2)\n",
    "print(classification_report(y_test, mlp2))\n",
    "print(\"MLP F-score:\", f_score)\n",
    "print(\"MLP Accuracy:\", accuracy)"
   ]
  },
  {
   "cell_type": "markdown",
   "id": "95446d37",
   "metadata": {},
   "source": [
    "## XGBoost stacked"
   ]
  },
  {
   "cell_type": "code",
   "execution_count": 207,
   "id": "818cddd7",
   "metadata": {},
   "outputs": [
    {
     "name": "stdout",
     "output_type": "stream",
     "text": [
      "XGBoost - accuracy: 0.6007984031936128\n",
      "XGBoost - Precision: 0.5376344086021505\n",
      "XGBoost - Recall: 0.779510022271715\n",
      "XGBoost - F-score: 0.6363636363636364\n"
     ]
    },
    {
     "data": {
      "image/png": "[encoded data removed]",
      "text/plain": [
       "<Figure size 576x432 with 1 Axes>"
      ]
     },
     "metadata": {
      "needs_background": "light"
     },
     "output_type": "display_data"
    },
    {
     "data": {
      "image/png": "[encoded data removed]",
      "text/plain": [
       "<Figure size 432x288 with 1 Axes>"
      ]
     },
     "metadata": {
      "needs_background": "light"
     },
     "output_type": "display_data"
    }
   ],
   "source": [
    "params = {\n",
    "    'objective': 'binary:logistic',  # or 'multi:softmax' for multi-class classification\n",
    "    'eval_metric': 'logloss',  # or other appropriate evaluation metric\n",
    "    'eta': 0.01,  # learning rate\n",
    "    'max_depth': 5,  # maximum depth of a tree\n",
    "    'subsample': 0.9,  # subsample ratio of the training instances\n",
    "    'colsample_bytree': 0.9  # subsample ratio of columns when constructing each tree\n",
    "}\n",
    "\n",
    "xgb_train_valid_predictions = np.array(xgb_train_valid_predictions)\n",
    "xgb_predictions= np.array(xgb_predictions)\n",
    "stacked_X_train = np.hstack((X_train_t_v, \n",
    "                             svm_train_valid_predictions.reshape((-1, 1)),\n",
    "                             xgb_train_valid_predictions.reshape((-1, 1)),\n",
    "                             lstm_train_valid_predictions.reshape((-1, 1)),\n",
    "#                              bilstm_train_predictions.reshape((-1, 1)),\n",
    "                             pa_train_valid_predictions.reshape((-1, 1))\n",
    "                            ))\n",
    "stacked_X_test = np.hstack((X_test_t_v, \n",
    "                            svm_predictions.reshape((-1, 1)),\n",
    "                            xgb_predictions.reshape((-1, 1)),\n",
    "                            lstm_predictions.reshape((-1, 1)),\n",
    "#                             bilstm_predictions.reshape((-1, 1)),\n",
    "                            pa_predictions.reshape((-1, 1))\n",
    "                           ))\n",
    "\n",
    "xgb_predictions, xgb_train_valid_predictions,y1,y2 = train_xgboost(stacked_X_train,y_train_valid,\n",
    "                                                                                stacked_X_test,y_test,params,\n",
    "                                                                                rounds=50, threshold=0.4)\n",
    "\n",
    "xgb_accuracy, xgb_precision, xgb_recall, xgb_fscore = XGBoost_classifier.xgb_metrics(xgb_predictions, y_test)\n",
    "XGBoost_classifier.xgb_confusion_matrix_plot(xgb_predictions, y_test)\n",
    "XGBoost_classifier.xgb_roc_plot(xgb_predictions, y_test)"
   ]
  },
  {
   "cell_type": "code",
   "execution_count": null,
   "id": "b90d713f",
   "metadata": {},
   "outputs": [],
   "source": []
  }
 ],
 "metadata": {
  "kernelspec": {
   "display_name": "Python 3 (ipykernel)",
   "language": "python",
   "name": "python3"
  },
  "language_info": {
   "codemirror_mode": {
    "name": "ipython",
    "version": 3
   },
   "file_extension": ".py",
   "mimetype": "text/x-python",
   "name": "python",
   "nbconvert_exporter": "python",
   "pygments_lexer": "ipython3",
   "version": "3.9.5"
  }
 },
 "nbformat": 4,
 "nbformat_minor": 5
}
