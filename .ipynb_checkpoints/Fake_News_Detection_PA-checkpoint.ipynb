{
 "cells": [
  {
   "cell_type": "markdown",
   "id": "9af94f40",
   "metadata": {},
   "source": [
    "PA Classifier"
   ]
  },
  {
   "cell_type": "code",
   "execution_count": 23,
   "id": "d0cf4ece",
   "metadata": {},
   "outputs": [],
   "source": [
    "from sklearn.linear_model import PassiveAggressiveClassifier\n",
    "import time\n",
    "from sklearn.metrics import confusion_matrix, auc, roc_curve, roc_auc_score\n",
    "import matplotlib.pyplot as plt\n",
    "from sklearn.metrics import precision_recall_fscore_support\n",
    "import matplotlib.pyplot as plt\n",
    "import seaborn as sns\n",
    "from sklearn.model_selection import GridSearchCV\n",
    "from sklearn.model_selection import cross_val_score, KFold\n",
    "import numpy as np"
   ]
  },
  {
   "cell_type": "code",
   "execution_count": 7,
   "id": "cd1f26ab",
   "metadata": {},
   "outputs": [],
   "source": [
    "def train_pa_gridshearch(X_train,y_train,param_grid,k_folds=5):\n",
    "    start_time = time.time()\n",
    "#     param_grid = {\n",
    "#     'C': [0.01,0.1,],              # Regularization parameter\n",
    "#     'fit_intercept': [True, False],\n",
    "#     'max_iter': [500,1000],          # Maximum number of iterations\n",
    "#     'tol': [1e-7, 1e-9]              # Tolerance for stopping criterion\n",
    "#     }\n",
    "   # Create a PassiveAggressiveClassifier\n",
    "    pa = PassiveAggressiveClassifier()\n",
    "\n",
    "    grid_search = GridSearchCV(pa, param_grid, cv=k_folds, scoring='f1')\n",
    "    grid_search.fit(X_train, y_train)\n",
    "\n",
    "    best_params = grid_search.best_params_\n",
    "    best_score = grid_search.best_score_\n",
    "\n",
    "    print(\"Best Parameters:\", best_params)\n",
    "    print(\"Best Score:\", best_score)\n",
    "    return best_params, best_score"
   ]
  },
  {
   "cell_type": "code",
   "execution_count": 5,
   "id": "20157ec3",
   "metadata": {},
   "outputs": [],
   "source": [
    "def train_pa(X_train,y_train,X_test,c = 0.01,iteration=500, tol=1e-7):\n",
    "    start_time = time.time()\n",
    "    \n",
    "    pa_model = PassiveAggressiveClassifier(C = c, random_state = 42, max_iter=iteration, early_stopping=True, tol=tol)\n",
    "    pa_model.fit(X_train, y_train)\n",
    "    \n",
    "    pa_train_valid_predictions = pa_model.predict(X_train)\n",
    "    pa_predictions = pa_model.predict(X_test)\n",
    "    \n",
    "    y_scores = pa_model.decision_function(X_test)\n",
    "    y_train_scores = pa_model.decision_function(X_train)\n",
    "    \n",
    "    end_time = time.time()\n",
    "    execution_time = end_time - start_time\n",
    "    print(\"Execution time of PA: {:.2f} seconds\".format(execution_time))\n",
    "    return pa_predictions,pa_train_valid_predictions,y_scores,y_train_scores"
   ]
  },
  {
   "cell_type": "code",
   "execution_count": 6,
   "id": "ffba5270",
   "metadata": {},
   "outputs": [],
   "source": [
    "def pa_cross_validation(X_train, y_train,k_folds=5,c = 0.01,iteration=500, tol=1e-7):\n",
    "    # Define the number of folds\n",
    "    \n",
    "    kf = KFold(n_splits=k_folds, shuffle=True, random_state=42)\n",
    "    \n",
    "    # Define your model\n",
    "    pa_model = PassiveAggressiveClassifier(C=c, random_state=42, max_iter=iteration, early_stopping=True, tol=tol)\n",
    "\n",
    "    # Perform cross-validation\n",
    "    cross_val_scores = cross_val_score(pa_model, X_train, y_train, cv=kf, scoring='f1')\n",
    "    print(\"Cross-Validationf1 scores:\", cross_val_scores)\n",
    "    print(\"Mean f1 score:\", np.mean(cross_val_scores))\n",
    "    "
   ]
  },
  {
   "cell_type": "code",
   "execution_count": 11,
   "id": "73fc8198",
   "metadata": {},
   "outputs": [],
   "source": [
    "def pa_metrics(pa_predictions, y_test):\n",
    "    accuracy = sum(pa_predictions == y_test) / len(y_test)\n",
    "    precision, recall, fscore, support = precision_recall_fscore_support(y_test,\n",
    "                                                                         pa_predictions, average='binary')\n",
    "    print(\"PA - accuracy:\", accuracy)\n",
    "    print(\"PA - Precision:\", precision)\n",
    "    print(\"PA - Recall:\", recall)\n",
    "    print(\"PA - F-score:\", fscore)\n",
    "    return accuracy, precision, recall, fscore"
   ]
  },
  {
   "cell_type": "code",
   "execution_count": 12,
   "id": "90691127",
   "metadata": {},
   "outputs": [],
   "source": [
    "def pa_confusion_matrix_plot(pa_predictions, y_test):\n",
    "    cm = confusion_matrix(y_test, pa_predictions)\n",
    "    plt.figure(figsize=(8, 6))\n",
    "    sns.heatmap(cm, annot=True, cmap='Blues', fmt='g', cbar=False)\n",
    "    plt.xlabel('Predicted')\n",
    "    plt.ylabel('True')\n",
    "    plt.title('Confusion Matrix - PA')\n",
    "    plt.show()"
   ]
  },
  {
   "cell_type": "code",
   "execution_count": 14,
   "id": "64e3d096",
   "metadata": {},
   "outputs": [],
   "source": [
    "def pa_roc_plot(pa_predictions, y_test):\n",
    "    # Compute the true positive rate (tpr) and false positive rate (fpr) using roc_curve\n",
    "    pa_fpr, pa_tpr, pa_thresholds = roc_curve(y_test, pa_predictions)\n",
    "    pa_roc_auc = auc(pa_fpr, pa_tpr)\n",
    "\n",
    "    # Plot ROC curve\n",
    "    plt.figure()\n",
    "    plt.plot(pa_fpr, pa_tpr, color='darkorange', lw=2, label='ROC curve (area = %0.2f)' % pa_roc_auc)\n",
    "    plt.plot([0, 1], [0, 1], color='navy', lw=2, linestyle='--')\n",
    "    plt.xlim([0.0, 1.0])\n",
    "    plt.ylim([0.0, 1.05])\n",
    "    plt.xlabel('False Positive Rate')\n",
    "    plt.ylabel('True Positive Rate')\n",
    "    plt.title('Receiver Operating Characteristic (ROC) -PA')\n",
    "    plt.legend(loc=\"lower right\")\n",
    "    plt.show()"
   ]
  },
  {
   "cell_type": "code",
   "execution_count": null,
   "id": "c57ec501",
   "metadata": {},
   "outputs": [],
   "source": []
  }
 ],
 "metadata": {
  "kernelspec": {
   "display_name": "Python 3 (ipykernel)",
   "language": "python",
   "name": "python3"
  },
  "language_info": {
   "codemirror_mode": {
    "name": "ipython",
    "version": 3
   },
   "file_extension": ".py",
   "mimetype": "text/x-python",
   "name": "python",
   "nbconvert_exporter": "python",
   "pygments_lexer": "ipython3",
   "version": "3.9.5"
  }
 },
 "nbformat": 4,
 "nbformat_minor": 5
}
