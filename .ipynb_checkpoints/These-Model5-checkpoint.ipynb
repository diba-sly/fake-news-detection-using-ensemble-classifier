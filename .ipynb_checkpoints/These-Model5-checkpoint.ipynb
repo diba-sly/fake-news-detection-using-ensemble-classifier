{
 "cells": [
  {
   "cell_type": "markdown",
   "id": "67217fef",
   "metadata": {},
   "source": [
    "Loading data from datasets"
   ]
  },
  {
   "cell_type": "code",
   "execution_count": 1,
   "id": "a55898de",
   "metadata": {},
   "outputs": [],
   "source": [
    "import pandas as pd\n",
    "\n",
    "data_train = pd.read_csv(\"sample_data/train.tsv\", sep=\"\\t\", header=None)\n",
    "data_valid = pd.read_csv(\"sample_data/valid.tsv\", sep=\"\\t\", header=None)\n",
    "data_test = pd.read_csv(\"sample_data/test.tsv\", sep=\"\\t\", header=None)"
   ]
  },
  {
   "cell_type": "code",
   "execution_count": 2,
   "id": "cee36212",
   "metadata": {
    "scrolled": true
   },
   "outputs": [
    {
     "data": {
      "text/html": [
       "<div>\n",
       "<style scoped>\n",
       "    .dataframe tbody tr th:only-of-type {\n",
       "        vertical-align: middle;\n",
       "    }\n",
       "\n",
       "    .dataframe tbody tr th {\n",
       "        vertical-align: top;\n",
       "    }\n",
       "\n",
       "    .dataframe thead th {\n",
       "        text-align: right;\n",
       "    }\n",
       "</style>\n",
       "<table border=\"1\" class=\"dataframe\">\n",
       "  <thead>\n",
       "    <tr style=\"text-align: right;\">\n",
       "      <th></th>\n",
       "      <th>0</th>\n",
       "      <th>1</th>\n",
       "      <th>2</th>\n",
       "      <th>3</th>\n",
       "      <th>4</th>\n",
       "      <th>5</th>\n",
       "      <th>6</th>\n",
       "      <th>7</th>\n",
       "      <th>8</th>\n",
       "      <th>9</th>\n",
       "      <th>10</th>\n",
       "      <th>11</th>\n",
       "      <th>12</th>\n",
       "      <th>13</th>\n",
       "    </tr>\n",
       "  </thead>\n",
       "  <tbody>\n",
       "    <tr>\n",
       "      <th>0</th>\n",
       "      <td>2635.json</td>\n",
       "      <td>false</td>\n",
       "      <td>Says the Annies List political group supports ...</td>\n",
       "      <td>abortion</td>\n",
       "      <td>dwayne-bohac</td>\n",
       "      <td>State representative</td>\n",
       "      <td>Texas</td>\n",
       "      <td>republican</td>\n",
       "      <td>0.0</td>\n",
       "      <td>1.0</td>\n",
       "      <td>0.0</td>\n",
       "      <td>0.0</td>\n",
       "      <td>0.0</td>\n",
       "      <td>a mailer</td>\n",
       "    </tr>\n",
       "    <tr>\n",
       "      <th>1</th>\n",
       "      <td>10540.json</td>\n",
       "      <td>half-true</td>\n",
       "      <td>When did the decline of coal start? It started...</td>\n",
       "      <td>energy,history,job-accomplishments</td>\n",
       "      <td>scott-surovell</td>\n",
       "      <td>State delegate</td>\n",
       "      <td>Virginia</td>\n",
       "      <td>democrat</td>\n",
       "      <td>0.0</td>\n",
       "      <td>0.0</td>\n",
       "      <td>1.0</td>\n",
       "      <td>1.0</td>\n",
       "      <td>0.0</td>\n",
       "      <td>a floor speech.</td>\n",
       "    </tr>\n",
       "    <tr>\n",
       "      <th>2</th>\n",
       "      <td>324.json</td>\n",
       "      <td>mostly-true</td>\n",
       "      <td>Hillary Clinton agrees with John McCain \"by vo...</td>\n",
       "      <td>foreign-policy</td>\n",
       "      <td>barack-obama</td>\n",
       "      <td>President</td>\n",
       "      <td>Illinois</td>\n",
       "      <td>democrat</td>\n",
       "      <td>70.0</td>\n",
       "      <td>71.0</td>\n",
       "      <td>160.0</td>\n",
       "      <td>163.0</td>\n",
       "      <td>9.0</td>\n",
       "      <td>Denver</td>\n",
       "    </tr>\n",
       "  </tbody>\n",
       "</table>\n",
       "</div>"
      ],
      "text/plain": [
       "           0            1                                                  2   \\\n",
       "0   2635.json        false  Says the Annies List political group supports ...   \n",
       "1  10540.json    half-true  When did the decline of coal start? It started...   \n",
       "2    324.json  mostly-true  Hillary Clinton agrees with John McCain \"by vo...   \n",
       "\n",
       "                                   3               4                     5   \\\n",
       "0                            abortion    dwayne-bohac  State representative   \n",
       "1  energy,history,job-accomplishments  scott-surovell        State delegate   \n",
       "2                      foreign-policy    barack-obama             President   \n",
       "\n",
       "         6           7     8     9      10     11   12               13  \n",
       "0     Texas  republican   0.0   1.0    0.0    0.0  0.0         a mailer  \n",
       "1  Virginia    democrat   0.0   0.0    1.0    1.0  0.0  a floor speech.  \n",
       "2  Illinois    democrat  70.0  71.0  160.0  163.0  9.0           Denver  "
      ]
     },
     "execution_count": 2,
     "metadata": {},
     "output_type": "execute_result"
    }
   ],
   "source": [
    "#Viewing sample train data before preprocessing\n",
    "data_train.head(3)"
   ]
  },
  {
   "cell_type": "code",
   "execution_count": 3,
   "id": "0fb033dc",
   "metadata": {},
   "outputs": [
    {
     "data": {
      "text/plain": [
       "(10240, 14)"
      ]
     },
     "execution_count": 3,
     "metadata": {},
     "output_type": "execute_result"
    }
   ],
   "source": [
    "#Viewing sample train data counts\n",
    "data_train.shape"
   ]
  },
  {
   "cell_type": "code",
   "execution_count": 4,
   "id": "b10a747f",
   "metadata": {},
   "outputs": [
    {
     "name": "stdout",
     "output_type": "stream",
     "text": [
      "The number of rows with label false is: 1995\n",
      "The number of rows with label pants-fire is: 839\n",
      "The number of rows with label true is: 1676\n",
      "The number of rows with label mostly-true is: 1962\n",
      "The number of rows with label half-true is: 2114\n",
      "The number of rows with label barely-true is: 1654\n"
     ]
    }
   ],
   "source": [
    "#Viewing count of data in seprate of labels\n",
    "# Filter the DataFrame based on the label\n",
    "filtered_data1 = data_train[data_train.iloc[:, 1] ==  'false']\n",
    "filtered_data2 = data_train[data_train.iloc[:, 1]  == \"pants-fire\"]\n",
    "filtered_data3 = data_train[data_train.iloc[:, 1]  == \"true\"]\n",
    "filtered_data4 = data_train[data_train.iloc[:, 1]  == \"mostly-true\"]\n",
    "filtered_data5 = data_train[data_train.iloc[:, 1]  == \"half-true\"]\n",
    "filtered_data6 = data_train[data_train.iloc[:, 1]  == \"barely-true\"]\n",
    "# Display the result\n",
    "print(f\"The number of rows with label false is: {filtered_data1.shape[0]}\")\n",
    "print(f\"The number of rows with label pants-fire is: {filtered_data2.shape[0]}\")\n",
    "print(f\"The number of rows with label true is: {filtered_data3.shape[0]}\")\n",
    "print(f\"The number of rows with label mostly-true is: {filtered_data4.shape[0]}\")\n",
    "print(f\"The number of rows with label half-true is: {filtered_data5.shape[0]}\")\n",
    "print(f\"The number of rows with label barely-true is: {filtered_data6.shape[0]}\")"
   ]
  },
  {
   "cell_type": "markdown",
   "id": "e915e263",
   "metadata": {},
   "source": [
    "convert 6 classes to 2 classes"
   ]
  },
  {
   "cell_type": "code",
   "execution_count": 5,
   "id": "23adf402",
   "metadata": {},
   "outputs": [],
   "source": [
    "def combine_classes(dataset):\n",
    "    #Creating new column called 'label' with 1 for true and mostly-true values, else 0 i.e. 1=real, 0=fake\n",
    "    dataset['label']=[1 if x==\"true\"or x==\"mostly-true\" else 0 for x in dataset[1]]\n",
    "    \n",
    "    #Dealing with empty datapoints for metadata columns - subject, speaker, job, state,affiliation, context\n",
    "    meta = []\n",
    "    for i in range(len(dataset)):\n",
    "      subject = dataset[3][i]\n",
    "      if subject == 0:\n",
    "          subject = 'None'\n",
    "\n",
    "      speaker =  dataset[4][i]\n",
    "      if speaker == 0:\n",
    "          speaker = 'None'\n",
    "\n",
    "      job =  dataset[5][i]\n",
    "      if job == 0:\n",
    "          job = 'None'\n",
    "\n",
    "      state =  dataset[6][i]\n",
    "      if state == 0:\n",
    "          state = 'None'\n",
    "\n",
    "      affiliation =  dataset[7][i]\n",
    "      if affiliation == 0:\n",
    "          affiliation = 'None'\n",
    "\n",
    "      context =  dataset[13][i]\n",
    "      if context == 0 :\n",
    "          context = 'None'\n",
    "\n",
    "      meta.append(str(subject) + ' ' + str(speaker) + ' ' + str(job) + ' ' + str(state) + ' ' + str(affiliation) + ' ' + str(context)) #combining all the meta data columns into a single column\n",
    "  \n",
    "    #Adding cleaned and combined metadata column to the dataset\n",
    "    dataset[14] = meta\n",
    "    dataset[\"sentence\"] = dataset[14].astype('str')+\" \"+dataset[2] #Combining metadata and the text columns into single columns\n",
    "\n",
    "    #Dropping unwanted columns\n",
    "    dataset = dataset.drop(labels=[0,1,2,3,4,5,6,7,8,9,10,11,12,13,14] ,axis=1)\n",
    "    dataset.dropna() #Dropping if there are still any null values\n",
    "    return dataset"
   ]
  },
  {
   "cell_type": "code",
   "execution_count": 6,
   "id": "cab54793",
   "metadata": {
    "scrolled": false
   },
   "outputs": [
    {
     "data": {
      "text/html": [
       "<div>\n",
       "<style scoped>\n",
       "    .dataframe tbody tr th:only-of-type {\n",
       "        vertical-align: middle;\n",
       "    }\n",
       "\n",
       "    .dataframe tbody tr th {\n",
       "        vertical-align: top;\n",
       "    }\n",
       "\n",
       "    .dataframe thead th {\n",
       "        text-align: right;\n",
       "    }\n",
       "</style>\n",
       "<table border=\"1\" class=\"dataframe\">\n",
       "  <thead>\n",
       "    <tr style=\"text-align: right;\">\n",
       "      <th></th>\n",
       "      <th>label</th>\n",
       "      <th>sentence</th>\n",
       "    </tr>\n",
       "  </thead>\n",
       "  <tbody>\n",
       "    <tr>\n",
       "      <th>0</th>\n",
       "      <td>0</td>\n",
       "      <td>abortion dwayne-bohac State representative Tex...</td>\n",
       "    </tr>\n",
       "    <tr>\n",
       "      <th>1</th>\n",
       "      <td>0</td>\n",
       "      <td>energy,history,job-accomplishments scott-surov...</td>\n",
       "    </tr>\n",
       "    <tr>\n",
       "      <th>2</th>\n",
       "      <td>1</td>\n",
       "      <td>foreign-policy barack-obama President Illinois...</td>\n",
       "    </tr>\n",
       "  </tbody>\n",
       "</table>\n",
       "</div>"
      ],
      "text/plain": [
       "   label                                           sentence\n",
       "0      0  abortion dwayne-bohac State representative Tex...\n",
       "1      0  energy,history,job-accomplishments scott-surov...\n",
       "2      1  foreign-policy barack-obama President Illinois..."
      ]
     },
     "execution_count": 6,
     "metadata": {},
     "output_type": "execute_result"
    }
   ],
   "source": [
    "#Applying reduce_classes to the raw data - train, valid and test sets\n",
    "data_train = combine_classes(data_train)\n",
    "data_valid = combine_classes(data_valid)\n",
    "data_test = combine_classes(data_test)\n",
    "data_train.head(3)\n"
   ]
  },
  {
   "cell_type": "code",
   "execution_count": 7,
   "id": "7c06371b",
   "metadata": {
    "scrolled": false
   },
   "outputs": [
    {
     "data": {
      "text/plain": [
       "0    0.644727\n",
       "1    0.355273\n",
       "Name: label, dtype: float64"
      ]
     },
     "execution_count": 7,
     "metadata": {},
     "output_type": "execute_result"
    }
   ],
   "source": [
    "#Viewing count of data in seprate of labels\n",
    "data_train['label'].value_counts(normalize='true')"
   ]
  },
  {
   "cell_type": "markdown",
   "id": "1dc847d3",
   "metadata": {},
   "source": [
    "Preproccesing"
   ]
  },
  {
   "cell_type": "code",
   "execution_count": 8,
   "id": "8a96a53f",
   "metadata": {},
   "outputs": [],
   "source": [
    "#importing required packages  \n",
    "from nltk.tokenize import word_tokenize\n",
    "from nltk.corpus import stopwords\n",
    "from nltk.stem import WordNetLemmatizer\n",
    "from nltk.stem.porter import PorterStemmer\n",
    "\n",
    "def data_preprocessing(dataset):\n",
    "    preprocessed_texts = []\n",
    "    for text in dataset:\n",
    "        # convert to lowercase\n",
    "        text = text.lower()    \n",
    "        # tokenize text\n",
    "        tokens = word_tokenize(text)\n",
    "        # remove punctuation and irrelevant characters\n",
    "        filtered_tokens = [token for token in tokens if token.isalnum()]\n",
    "        # remove stop words\n",
    "        stop_words = set(stopwords.words('english'))\n",
    "        filtered_tokens = [token for token in filtered_tokens if not token in stop_words]\n",
    "        # lemmatize tokens\n",
    "        lemmatizer = WordNetLemmatizer()\n",
    "        filtered_tokens = [lemmatizer.lemmatize(token) for token in filtered_tokens]\n",
    "        # stem tokens\n",
    "        stemmer = PorterStemmer()\n",
    "        filtered_tokens = [stemmer.stem(token) for token in filtered_tokens]\n",
    "        # join tokens back into string\n",
    "        preprocessed_text = ' '.join(filtered_tokens)\n",
    "        preprocessed_texts.append(preprocessed_text)\n",
    "    return preprocessed_texts"
   ]
  },
  {
   "cell_type": "code",
   "execution_count": 9,
   "id": "166413b0",
   "metadata": {
    "scrolled": false
   },
   "outputs": [
    {
     "data": {
      "text/html": [
       "<div>\n",
       "<style scoped>\n",
       "    .dataframe tbody tr th:only-of-type {\n",
       "        vertical-align: middle;\n",
       "    }\n",
       "\n",
       "    .dataframe tbody tr th {\n",
       "        vertical-align: top;\n",
       "    }\n",
       "\n",
       "    .dataframe thead th {\n",
       "        text-align: right;\n",
       "    }\n",
       "</style>\n",
       "<table border=\"1\" class=\"dataframe\">\n",
       "  <thead>\n",
       "    <tr style=\"text-align: right;\">\n",
       "      <th></th>\n",
       "      <th>label</th>\n",
       "      <th>sentence</th>\n",
       "    </tr>\n",
       "  </thead>\n",
       "  <tbody>\n",
       "    <tr>\n",
       "      <th>0</th>\n",
       "      <td>0</td>\n",
       "      <td>abort state repres texa republican mailer say ...</td>\n",
       "    </tr>\n",
       "    <tr>\n",
       "      <th>1</th>\n",
       "      <td>0</td>\n",
       "      <td>energi histori state deleg virginia democrat f...</td>\n",
       "    </tr>\n",
       "    <tr>\n",
       "      <th>2</th>\n",
       "      <td>1</td>\n",
       "      <td>presid illinoi democrat denver hillari clinton...</td>\n",
       "    </tr>\n",
       "    <tr>\n",
       "      <th>3</th>\n",
       "      <td>0</td>\n",
       "      <td>nan nan none news releas health care reform le...</td>\n",
       "    </tr>\n",
       "    <tr>\n",
       "      <th>4</th>\n",
       "      <td>0</td>\n",
       "      <td>economi job nan florida democrat interview cnn...</td>\n",
       "    </tr>\n",
       "  </tbody>\n",
       "</table>\n",
       "</div>"
      ],
      "text/plain": [
       "   label                                           sentence\n",
       "0      0  abort state repres texa republican mailer say ...\n",
       "1      0  energi histori state deleg virginia democrat f...\n",
       "2      1  presid illinoi democrat denver hillari clinton...\n",
       "3      0  nan nan none news releas health care reform le...\n",
       "4      0  economi job nan florida democrat interview cnn..."
      ]
     },
     "execution_count": 9,
     "metadata": {},
     "output_type": "execute_result"
    }
   ],
   "source": [
    "#Applying pre-processing to the raw data - train, valid and test sets\n",
    "data_train['sentence'] = data_preprocessing(data_train['sentence'])\n",
    "data_valid['sentence'] = data_preprocessing(data_valid['sentence'])\n",
    "data_test['sentence'] = data_preprocessing(data_test['sentence'])\n",
    "#Sample data after preprocessing\n",
    "data_train.head(5)"
   ]
  },
  {
   "cell_type": "markdown",
   "id": "d687b1fb",
   "metadata": {},
   "source": [
    "Feature engineering"
   ]
  },
  {
   "cell_type": "code",
   "execution_count": 13,
   "id": "ad4c38ca",
   "metadata": {
    "scrolled": false
   },
   "outputs": [
    {
     "data": {
      "image/png": "[encoded data removed]",
      "text/plain": [
       "<Figure size 720x504 with 1 Axes>"
      ]
     },
     "metadata": {
      "needs_background": "light"
     },
     "output_type": "display_data"
    },
    {
     "data": {
      "image/png": "[encoded data removed]",
      "text/plain": [
       "<Figure size 720x504 with 1 Axes>"
      ]
     },
     "metadata": {
      "needs_background": "light"
     },
     "output_type": "display_data"
    }
   ],
   "source": [
    "#Analyzing length of sentences in training data to decide on MAX_LENGTH variable, which is required for mlp and deep_leaner\n",
    "\n",
    "sent_len = []\n",
    "for sent in data_train['sentence']:\n",
    "  sent_len.append(len(sent))\n",
    "\n",
    "import matplotlib.pyplot as plt\n",
    "\n",
    "fig = plt.figure(figsize =(10, 7))\n",
    "plt.boxplot(sent_len)\n",
    "plt.show()\n",
    "\n",
    "sent_len = [i for i in sent_len if i<=500] #Excluding the outliers\n",
    "fig2 = plt.figure(figsize =(10, 7))\n",
    "plt.hist(sent_len, 5)\n",
    "plt.show()"
   ]
  },
  {
   "cell_type": "markdown",
   "id": "14713685",
   "metadata": {},
   "source": [
    "First plot:The x-axis represents the sentence length, while the y-axis represents the distribution of lengths.\n",
    "\n",
    "Second Histogram: It shows a histogram of the sentence lengths after excluding any outliers greater than 500 characters From the above histogram. The x-axis represents the range of sentence lengths, divided into bins (in this case, 5 bins), and the y-axis represents the frequency or count of sentences falling within each bin.The histogram provides insight into the distribution of sentence lengths and highlights any patterns or concentration of lengths within the dataset.\n",
    "\n",
    "we can see that, majority of the sentences are in the range of 100-150 and the maximum is near 300."
   ]
  },
  {
   "cell_type": "markdown",
   "id": "65f2b8be",
   "metadata": {},
   "source": [
    "Ensemble Model"
   ]
  },
  {
   "cell_type": "code",
   "execution_count": 14,
   "id": "6a539f4a",
   "metadata": {},
   "outputs": [],
   "source": [
    "from tensorflow.keras.models import Sequential\n",
    "from tensorflow.keras.layers import Embedding, LSTM, Dense, Dropout\n",
    "\n",
    "def create_ensemble_models(X_train, y_train,X_val, y_val):\n",
    "    num_models = 3\n",
    "    models = []\n",
    "    for i in range(num_models):\n",
    "        model = Sequential()\n",
    "        model.add(Embedding(vocab_size, 100, input_length=max_len))\n",
    "        model.add(LSTM(128, dropout=0.2, recurrent_dropout=0.2, name=f'lstm_layer_{i}'))\n",
    "        model.add(Dense(1, activation='sigmoid'))\n",
    "\n",
    "        model.compile(loss='binary_crossentropy', optimizer='adam', metrics=['accuracy'])\n",
    "        model.fit(X_train, y_train, validation_data=(X_val, y_val), epochs=5, batch_size=64)\n",
    "\n",
    "        models.append(model)\n",
    "        \n",
    "    return models"
   ]
  },
  {
   "cell_type": "code",
   "execution_count": 15,
   "id": "31e946dd",
   "metadata": {},
   "outputs": [],
   "source": [
    "import numpy as np\n",
    "\n",
    "def predict_ensemble_models(X_valid, X_test, y_valid, y_test, models):\n",
    "    # Make predictions on the validation set\n",
    "    y_pred_ensemble_valid = np.zeros_like(y_valid, dtype = np.float64)\n",
    "    for model in models:\n",
    "        y_pred_valid = model.predict(X_valid)\n",
    "        y_pred_ensemble_valid += np.squeeze((y_pred_valid > 0.5).astype(int))\n",
    "\n",
    "    y_pred_ensemble_valid /= len(models)\n",
    "    y_pred_ensemble_valid = np.round(y_pred_ensemble_valid).astype(int)\n",
    "\n",
    "    # Make predictions on the test set\n",
    "    y_pred_ensemble = np.zeros_like(y_test, dtype=np.float64)\n",
    "    for model in models:\n",
    "        y_pred = model.predict(X_test)\n",
    "        y_pred_ensemble += np.squeeze((y_pred > 0.5).astype(int))\n",
    "\n",
    "    y_pred_ensemble /= 3\n",
    "    y_pred_ensemble = np.round(y_pred_ensemble).astype(int)\n",
    "\n",
    "    return y_pred_ensemble_valid, y_pred_ensemble"
   ]
  },
  {
   "cell_type": "code",
   "execution_count": 16,
   "id": "8c6ca766",
   "metadata": {},
   "outputs": [],
   "source": [
    "#part 1\n",
    "import numpy as np\n",
    "from tensorflow.keras.preprocessing.text import Tokenizer\n",
    "from tensorflow.keras.preprocessing.sequence import pad_sequences\n",
    "\n",
    "# Preprocess the data\n",
    "tokenizer = Tokenizer()\n",
    "tokenizer.fit_on_texts(data_train['sentence'])\n",
    "vocab_size = len(tokenizer.word_index) + 1\n",
    "\n",
    "X_train = tokenizer.texts_to_sequences(data_train['sentence'])\n",
    "X_valid = tokenizer.texts_to_sequences(data_valid['sentence'])\n",
    "X_test = tokenizer.texts_to_sequences(data_test['sentence'])\n",
    "\n",
    "# X_train = X_features_train\n",
    "# X_valid = X_features_valid\n",
    "# X_test = X_features_test\n",
    "\n",
    "max_len = 150  # Define the maximum sequence length\n",
    "X_train = pad_sequences(X_train, maxlen=max_len)\n",
    "X_valid = pad_sequences(X_valid, maxlen=max_len)\n",
    "X_test = pad_sequences(X_test, maxlen=max_len)\n",
    "\n",
    "y_train = np.array(data_train['label'])  # Convert to numpy array\n",
    "y_valid = np.array(data_valid['label'])  # Convert to numpy array\n",
    "y_test = np.array(data_test['label'])  # Convert to numpy array"
   ]
  },
  {
   "cell_type": "code",
   "execution_count": 17,
   "id": "36219cc2",
   "metadata": {
    "scrolled": true
   },
   "outputs": [
    {
     "name": "stdout",
     "output_type": "stream",
     "text": [
      "Epoch 1/5\n",
      "160/160 [==============================] - 95s 587ms/step - loss: 0.6421 - accuracy: 0.6503 - val_loss: 0.5945 - val_accuracy: 0.6745\n",
      "Epoch 2/5\n",
      "160/160 [==============================] - 98s 614ms/step - loss: 0.5558 - accuracy: 0.7115 - val_loss: 0.6090 - val_accuracy: 0.6729\n",
      "Epoch 3/5\n",
      "160/160 [==============================] - 93s 581ms/step - loss: 0.4668 - accuracy: 0.7750 - val_loss: 0.6667 - val_accuracy: 0.6612\n",
      "Epoch 4/5\n",
      "160/160 [==============================] - 91s 568ms/step - loss: 0.3822 - accuracy: 0.8235 - val_loss: 0.7578 - val_accuracy: 0.6526\n",
      "Epoch 5/5\n",
      "160/160 [==============================] - 95s 591ms/step - loss: 0.3089 - accuracy: 0.8623 - val_loss: 0.9200 - val_accuracy: 0.6308\n",
      "Epoch 1/5\n",
      "160/160 [==============================] - 97s 596ms/step - loss: 0.6392 - accuracy: 0.6491 - val_loss: 0.5922 - val_accuracy: 0.6776\n",
      "Epoch 2/5\n",
      "160/160 [==============================] - 92s 576ms/step - loss: 0.5550 - accuracy: 0.7097 - val_loss: 0.6113 - val_accuracy: 0.6768\n",
      "Epoch 3/5\n",
      "160/160 [==============================] - 88s 551ms/step - loss: 0.4610 - accuracy: 0.7751 - val_loss: 0.6731 - val_accuracy: 0.6620\n",
      "Epoch 4/5\n",
      "160/160 [==============================] - 89s 554ms/step - loss: 0.3740 - accuracy: 0.8259 - val_loss: 0.7685 - val_accuracy: 0.6379\n",
      "Epoch 5/5\n",
      "160/160 [==============================] - 90s 561ms/step - loss: 0.3055 - accuracy: 0.8672 - val_loss: 0.8972 - val_accuracy: 0.6464\n",
      "Epoch 1/5\n",
      "160/160 [==============================] - 93s 571ms/step - loss: 0.6397 - accuracy: 0.6480 - val_loss: 0.5930 - val_accuracy: 0.6760\n",
      "Epoch 2/5\n",
      "160/160 [==============================] - 88s 553ms/step - loss: 0.5527 - accuracy: 0.7119 - val_loss: 0.6197 - val_accuracy: 0.6721\n",
      "Epoch 3/5\n",
      "160/160 [==============================] - 88s 551ms/step - loss: 0.4577 - accuracy: 0.7778 - val_loss: 0.6694 - val_accuracy: 0.6542\n",
      "Epoch 4/5\n",
      "160/160 [==============================] - 89s 553ms/step - loss: 0.3709 - accuracy: 0.8308 - val_loss: 0.8056 - val_accuracy: 0.6511\n",
      "Epoch 5/5\n",
      "160/160 [==============================] - 92s 574ms/step - loss: 0.2976 - accuracy: 0.8711 - val_loss: 0.8964 - val_accuracy: 0.6075\n"
     ]
    }
   ],
   "source": [
    "#Part2 : Create ensemble model\n",
    "models = create_ensemble_models(X_train, y_train,X_valid, y_valid)"
   ]
  },
  {
   "cell_type": "code",
   "execution_count": 29,
   "id": "d4ccc36b",
   "metadata": {
    "scrolled": false
   },
   "outputs": [
    {
     "name": "stdout",
     "output_type": "stream",
     "text": [
      "Requirement already satisfied: graphviz in c:\\users\\diba\\appdata\\local\\programs\\python\\python39\\lib\\site-packages (0.20.1)\n",
      "Note: you may need to restart the kernel to use updated packages.\n"
     ]
    }
   ],
   "source": [
    "pip install graphviz"
   ]
  },
  {
   "cell_type": "code",
   "execution_count": 30,
   "id": "a75208a8",
   "metadata": {
    "scrolled": true
   },
   "outputs": [
    {
     "name": "stdout",
     "output_type": "stream",
     "text": [
      "Requirement already satisfied: pydot in c:\\users\\diba\\appdata\\local\\programs\\python\\python39\\lib\\site-packages (1.4.2)\n",
      "Requirement already satisfied: pyparsing>=2.1.4 in c:\\users\\diba\\appdata\\local\\programs\\python\\python39\\lib\\site-packages (from pydot) (2.4.7)\n",
      "Note: you may need to restart the kernel to use updated packages.\n"
     ]
    }
   ],
   "source": [
    "pip install pydot"
   ]
  },
  {
   "cell_type": "code",
   "execution_count": 31,
   "id": "4a1687bb",
   "metadata": {
    "scrolled": true
   },
   "outputs": [
    {
     "name": "stdout",
     "output_type": "stream",
     "text": [
      "You must install pydot (`pip install pydot`) and install graphviz (see instructions at https://graphviz.gitlab.io/download/) for plot_model to work.\n"
     ]
    }
   ],
   "source": [
    "from keras.utils.vis_utils import plot_model\n",
    "\n",
    "#Visualizing\n",
    "plot_model(models[0], show_shapes=True, to_file='model-arch.png')"
   ]
  },
  {
   "cell_type": "code",
   "execution_count": 18,
   "id": "01509fa7",
   "metadata": {
    "scrolled": false
   },
   "outputs": [
    {
     "name": "stdout",
     "output_type": "stream",
     "text": [
      "41/41 [==============================] - 2s 37ms/step\n",
      "41/41 [==============================] - 2s 37ms/step\n",
      "41/41 [==============================] - 2s 37ms/step\n",
      "40/40 [==============================] - 1s 34ms/step\n",
      "40/40 [==============================] - 1s 34ms/step\n",
      "40/40 [==============================] - 1s 33ms/step\n"
     ]
    }
   ],
   "source": [
    "y_pred_ensemble_valid, y_pred_ensemble = predict_ensemble_models(X_valid, X_test, y_valid, y_test, models)"
   ]
  },
  {
   "cell_type": "code",
   "execution_count": 38,
   "id": "964e3603",
   "metadata": {},
   "outputs": [
    {
     "data": {
      "image/png": "[encoded data removed]",
      "text/plain": [
       "<Figure size 432x288 with 1 Axes>"
      ]
     },
     "metadata": {
      "needs_background": "light"
     },
     "output_type": "display_data"
    }
   ],
   "source": [
    "#Visualizing distribution of predeiction of ensemble clas\n",
    "class_counts = np.bincount(y_pred_ensemble)\n",
    "# Create a bar plot\n",
    "plt.bar(range(len(class_counts)), class_counts)\n",
    "class_labels = ['Fake', 'Real']\n",
    "\n",
    "# Set the x-axis tick labels to the class labels\n",
    "plt.xticks(range(len(class_counts)), class_labels)\n",
    "\n",
    "# Set the plot title and axes labels\n",
    "plt.title('Distribution of Classifications')\n",
    "plt.xlabel('Class')\n",
    "plt.ylabel('Count')\n",
    "\n",
    "# Display the plot\n",
    "plt.show()"
   ]
  },
  {
   "cell_type": "code",
   "execution_count": 19,
   "id": "6e6974bc",
   "metadata": {
    "scrolled": true
   },
   "outputs": [
    {
     "name": "stdout",
     "output_type": "stream",
     "text": [
      "Model1 - Ensemble F1-score: 0.611681136543015\n",
      "Model1 - Classification Report:\n",
      "              precision    recall  f1-score   support\n",
      "\n",
      "           0       0.69      0.73      0.71       818\n",
      "           1       0.45      0.40      0.42       449\n",
      "\n",
      "    accuracy                           0.61      1267\n",
      "   macro avg       0.57      0.56      0.57      1267\n",
      "weighted avg       0.60      0.61      0.61      1267\n",
      "\n"
     ]
    }
   ],
   "source": [
    "from sklearn.metrics import f1_score, classification_report\n",
    "\n",
    "# Print classification report\n",
    "f_score = f1_score(data_test['label'], y_pred_ensemble, average='micro')\n",
    "print(\"Model1 - Ensemble F1-score:\", f_score)\n",
    "print(\"Model1 - Classification Report:\")\n",
    "print(classification_report(data_test['label'], y_pred_ensemble))"
   ]
  },
  {
   "cell_type": "markdown",
   "id": "6f598d40",
   "metadata": {},
   "source": [
    "MLP Classifier"
   ]
  },
  {
   "cell_type": "code",
   "execution_count": 20,
   "id": "de4e01fb",
   "metadata": {},
   "outputs": [],
   "source": [
    "from sklearn.neural_network import MLPClassifier\n",
    "\n",
    "def build_mlp():\n",
    "    # Step 1: increase the training data with ensemble predictions\n",
    "    X_train_increased = np.concatenate((X_valid, y_pred_ensemble_valid[:len(X_valid)].reshape(-1, 1)), axis=1)\n",
    "    #X_train_increased = np.concatenate([X_valid] + reshaped_weights + [y_pred_ensemble_valid[:len(X_valid)].reshape(-1, 1)], axis=1)\n",
    "\n",
    "    mlp_classifier = MLPClassifier()\n",
    "    mlp_classifier.fit(X_train_increased, y_valid)\n",
    "\n",
    "    X_test_increased = np.concatenate((X_test, y_pred_ensemble.reshape(-1, 1)), axis=1)\n",
    "    #X_test_increased = np.concatenate([X_test] + reshaped_weights + [y_pred_ensemble[:len(X_test)].reshape(-1, 1)], axis=1)\n",
    "\n",
    "    mlp_predictions = mlp_classifier.predict(X_test_increased)\n",
    "    return mlp_predictions"
   ]
  },
  {
   "cell_type": "code",
   "execution_count": 21,
   "id": "e99636bb",
   "metadata": {
    "scrolled": true
   },
   "outputs": [],
   "source": [
    "\n",
    "\n",
    "mlp_predictions = build_mlp()"
   ]
  },
  {
   "cell_type": "code",
   "execution_count": 22,
   "id": "69097df0",
   "metadata": {
    "scrolled": false
   },
   "outputs": [
    {
     "name": "stdout",
     "output_type": "stream",
     "text": [
      "              precision    recall  f1-score   support\n",
      "\n",
      "           0       0.64      0.72      0.68       818\n",
      "           1       0.35      0.27      0.31       449\n",
      "\n",
      "    accuracy                           0.56      1267\n",
      "   macro avg       0.50      0.50      0.49      1267\n",
      "weighted avg       0.54      0.56      0.55      1267\n",
      "\n",
      "Model1 - MLP F-score: 0.5627466456195738\n",
      "Model1 - MLP Accuracy: 0.5627466456195738\n"
     ]
    }
   ],
   "source": [
    "from sklearn.metrics import accuracy_score\n",
    "\n",
    "# Calculate F-score and accuracy\n",
    "f_score = f1_score(y_test, mlp_predictions, average='micro')\n",
    "accuracy = accuracy_score(y_test, mlp_predictions)\n",
    "print(classification_report(y_test, mlp_predictions))\n",
    "\n",
    "print(\"Model1 - MLP F-score:\", f_score)\n",
    "print(\"Model1 - MLP Accuracy:\", accuracy)"
   ]
  },
  {
   "cell_type": "code",
   "execution_count": null,
   "id": "d28f92f5",
   "metadata": {},
   "outputs": [],
   "source": []
  }
 ],
 "metadata": {
  "kernelspec": {
   "display_name": "Python 3 (ipykernel)",
   "language": "python",
   "name": "python3"
  },
  "language_info": {
   "codemirror_mode": {
    "name": "ipython",
    "version": 3
   },
   "file_extension": ".py",
   "mimetype": "text/x-python",
   "name": "python",
   "nbconvert_exporter": "python",
   "pygments_lexer": "ipython3",
   "version": "3.9.5"
  }
 },
 "nbformat": 4,
 "nbformat_minor": 5
}
