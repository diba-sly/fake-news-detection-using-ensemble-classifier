{
 "cells": [
  {
   "cell_type": "markdown",
   "id": "6c444769",
   "metadata": {},
   "source": [
    "### Model7 settings:\n",
    "\n",
    "We combine classes to 2 classes. then we merge 50% of 'half-true' data in class 1 and rest of it in class 2.\n",
    "\n",
    "We used full preproccess.\n",
    "\n",
    "We tokenized and used Word2Vec.\n",
    "\n",
    "We use y_scores for stacking but it wasn't helpfull so we used binary predictions."
   ]
  },
  {
   "cell_type": "code",
   "execution_count": 1,
   "id": "fd36c05c",
   "metadata": {},
   "outputs": [],
   "source": [
    "import pandas as pd\n",
    "import numpy as np  \n",
    "import matplotlib.pyplot as plt \n",
    "from sklearn.metrics import precision_recall_fscore_support\n",
    "import Scripts.Data_Read_Prepare as Data_Prepare\n",
    "import Scripts.Fake_News_Detection_SVM as SVM_classifier\n",
    "import Scripts.Fake_News_Detection_PA as PA_classifier\n",
    "import Scripts.Fake_News_Detection_XGBoost as XGBoost_classifier\n",
    "import Scripts.Fake_News_Detection_LSTM as LSTM_classifier\n",
    "import Scripts.Fake_News_Detection_BiLSTM as BiLSTM_classifier\n",
    "import Scripts.Fake_News_Detection_Stacked_MLP as MLP_classifier"
   ]
  },
  {
   "cell_type": "markdown",
   "id": "67217fef",
   "metadata": {},
   "source": [
    "Loading data from datasets"
   ]
  },
  {
   "cell_type": "code",
   "execution_count": 2,
   "id": "e5e43bb6",
   "metadata": {
    "scrolled": false
   },
   "outputs": [
    {
     "data": {
      "text/html": [
       "<div>\n",
       "<style scoped>\n",
       "    .dataframe tbody tr th:only-of-type {\n",
       "        vertical-align: middle;\n",
       "    }\n",
       "\n",
       "    .dataframe tbody tr th {\n",
       "        vertical-align: top;\n",
       "    }\n",
       "\n",
       "    .dataframe thead th {\n",
       "        text-align: right;\n",
       "    }\n",
       "</style>\n",
       "<table border=\"1\" class=\"dataframe\">\n",
       "  <thead>\n",
       "    <tr style=\"text-align: right;\">\n",
       "      <th></th>\n",
       "      <th>0</th>\n",
       "      <th>1</th>\n",
       "      <th>2</th>\n",
       "      <th>3</th>\n",
       "      <th>4</th>\n",
       "      <th>5</th>\n",
       "      <th>6</th>\n",
       "      <th>7</th>\n",
       "      <th>8</th>\n",
       "      <th>9</th>\n",
       "      <th>10</th>\n",
       "      <th>11</th>\n",
       "      <th>12</th>\n",
       "      <th>13</th>\n",
       "    </tr>\n",
       "  </thead>\n",
       "  <tbody>\n",
       "    <tr>\n",
       "      <th>0</th>\n",
       "      <td>2635.json</td>\n",
       "      <td>false</td>\n",
       "      <td>Says the Annies List political group supports ...</td>\n",
       "      <td>abortion</td>\n",
       "      <td>dwayne-bohac</td>\n",
       "      <td>State representative</td>\n",
       "      <td>Texas</td>\n",
       "      <td>republican</td>\n",
       "      <td>0.0</td>\n",
       "      <td>1.0</td>\n",
       "      <td>0.0</td>\n",
       "      <td>0.0</td>\n",
       "      <td>0.0</td>\n",
       "      <td>a mailer</td>\n",
       "    </tr>\n",
       "    <tr>\n",
       "      <th>1</th>\n",
       "      <td>10540.json</td>\n",
       "      <td>half-true</td>\n",
       "      <td>When did the decline of coal start? It started...</td>\n",
       "      <td>energy,history,job-accomplishments</td>\n",
       "      <td>scott-surovell</td>\n",
       "      <td>State delegate</td>\n",
       "      <td>Virginia</td>\n",
       "      <td>democrat</td>\n",
       "      <td>0.0</td>\n",
       "      <td>0.0</td>\n",
       "      <td>1.0</td>\n",
       "      <td>1.0</td>\n",
       "      <td>0.0</td>\n",
       "      <td>a floor speech.</td>\n",
       "    </tr>\n",
       "    <tr>\n",
       "      <th>2</th>\n",
       "      <td>324.json</td>\n",
       "      <td>mostly-true</td>\n",
       "      <td>Hillary Clinton agrees with John McCain \"by vo...</td>\n",
       "      <td>foreign-policy</td>\n",
       "      <td>barack-obama</td>\n",
       "      <td>President</td>\n",
       "      <td>Illinois</td>\n",
       "      <td>democrat</td>\n",
       "      <td>70.0</td>\n",
       "      <td>71.0</td>\n",
       "      <td>160.0</td>\n",
       "      <td>163.0</td>\n",
       "      <td>9.0</td>\n",
       "      <td>Denver</td>\n",
       "    </tr>\n",
       "  </tbody>\n",
       "</table>\n",
       "</div>"
      ],
      "text/plain": [
       "           0            1                                                  2   \\\n",
       "0   2635.json        false  Says the Annies List political group supports ...   \n",
       "1  10540.json    half-true  When did the decline of coal start? It started...   \n",
       "2    324.json  mostly-true  Hillary Clinton agrees with John McCain \"by vo...   \n",
       "\n",
       "                                   3               4                     5   \\\n",
       "0                            abortion    dwayne-bohac  State representative   \n",
       "1  energy,history,job-accomplishments  scott-surovell        State delegate   \n",
       "2                      foreign-policy    barack-obama             President   \n",
       "\n",
       "         6           7     8     9      10     11   12               13  \n",
       "0     Texas  republican   0.0   1.0    0.0    0.0  0.0         a mailer  \n",
       "1  Virginia    democrat   0.0   0.0    1.0    1.0  0.0  a floor speech.  \n",
       "2  Illinois    democrat  70.0  71.0  160.0  163.0  9.0           Denver  "
      ]
     },
     "execution_count": 2,
     "metadata": {},
     "output_type": "execute_result"
    }
   ],
   "source": [
    "data_train, data_valid, data_test = Data_Prepare.read_data()\n",
    "data_train.head(3)"
   ]
  },
  {
   "cell_type": "code",
   "execution_count": 3,
   "id": "ba30a9e6",
   "metadata": {
    "scrolled": true
   },
   "outputs": [
    {
     "name": "stderr",
     "output_type": "stream",
     "text": [
      "c:\\users\\diba\\appdata\\local\\programs\\python\\python39\\lib\\site-packages\\pandas\\core\\indexing.py:1720: SettingWithCopyWarning: \n",
      "A value is trying to be set on a copy of a slice from a DataFrame.\n",
      "Try using .loc[row_indexer,col_indexer] = value instead\n",
      "\n",
      "See the caveats in the documentation: https://pandas.pydata.org/pandas-docs/stable/user_guide/indexing.html#returning-a-view-versus-a-copy\n",
      "  self._setitem_single_column(loc, value, pi)\n",
      "c:\\users\\diba\\appdata\\local\\programs\\python\\python39\\lib\\site-packages\\pandas\\core\\indexing.py:1720: SettingWithCopyWarning: \n",
      "A value is trying to be set on a copy of a slice from a DataFrame.\n",
      "Try using .loc[row_indexer,col_indexer] = value instead\n",
      "\n",
      "See the caveats in the documentation: https://pandas.pydata.org/pandas-docs/stable/user_guide/indexing.html#returning-a-view-versus-a-copy\n",
      "  self._setitem_single_column(loc, value, pi)\n",
      "c:\\users\\diba\\appdata\\local\\programs\\python\\python39\\lib\\site-packages\\pandas\\core\\indexing.py:1720: SettingWithCopyWarning: \n",
      "A value is trying to be set on a copy of a slice from a DataFrame.\n",
      "Try using .loc[row_indexer,col_indexer] = value instead\n",
      "\n",
      "See the caveats in the documentation: https://pandas.pydata.org/pandas-docs/stable/user_guide/indexing.html#returning-a-view-versus-a-copy\n",
      "  self._setitem_single_column(loc, value, pi)\n"
     ]
    }
   ],
   "source": [
    "data_train = Data_Prepare.combine_classes_distribute_half_true(data_train)\n",
    "data_valid = Data_Prepare.combine_classes_distribute_half_true(data_valid)\n",
    "data_test = Data_Prepare.combine_classes_distribute_half_true(data_test)"
   ]
  },
  {
   "cell_type": "code",
   "execution_count": 4,
   "id": "8d24cb58",
   "metadata": {},
   "outputs": [
    {
     "data": {
      "text/html": [
       "<div>\n",
       "<style scoped>\n",
       "    .dataframe tbody tr th:only-of-type {\n",
       "        vertical-align: middle;\n",
       "    }\n",
       "\n",
       "    .dataframe tbody tr th {\n",
       "        vertical-align: top;\n",
       "    }\n",
       "\n",
       "    .dataframe thead th {\n",
       "        text-align: right;\n",
       "    }\n",
       "</style>\n",
       "<table border=\"1\" class=\"dataframe\">\n",
       "  <thead>\n",
       "    <tr style=\"text-align: right;\">\n",
       "      <th></th>\n",
       "      <th>label</th>\n",
       "      <th>weight</th>\n",
       "      <th>sentence</th>\n",
       "    </tr>\n",
       "  </thead>\n",
       "  <tbody>\n",
       "    <tr>\n",
       "      <th>0</th>\n",
       "      <td>0</td>\n",
       "      <td>1</td>\n",
       "      <td>abortion dwayne-bohac State representative Tex...</td>\n",
       "    </tr>\n",
       "    <tr>\n",
       "      <th>1</th>\n",
       "      <td>0</td>\n",
       "      <td>1</td>\n",
       "      <td>energy,history,job-accomplishments scott-surov...</td>\n",
       "    </tr>\n",
       "    <tr>\n",
       "      <th>2</th>\n",
       "      <td>1</td>\n",
       "      <td>2</td>\n",
       "      <td>foreign-policy barack-obama President Illinois...</td>\n",
       "    </tr>\n",
       "  </tbody>\n",
       "</table>\n",
       "</div>"
      ],
      "text/plain": [
       "   label  weight                                           sentence\n",
       "0      0       1  abortion dwayne-bohac State representative Tex...\n",
       "1      0       1  energy,history,job-accomplishments scott-surov...\n",
       "2      1       2  foreign-policy barack-obama President Illinois..."
      ]
     },
     "execution_count": 4,
     "metadata": {},
     "output_type": "execute_result"
    }
   ],
   "source": [
    "data_train.head(3)"
   ]
  },
  {
   "cell_type": "markdown",
   "id": "1dc847d3",
   "metadata": {},
   "source": [
    "Preproccesing"
   ]
  },
  {
   "cell_type": "code",
   "execution_count": 5,
   "id": "ce0c1b5f",
   "metadata": {
    "scrolled": false
   },
   "outputs": [
    {
     "name": "stdout",
     "output_type": "stream",
     "text": [
      "data_preprocessing done!\n"
     ]
    }
   ],
   "source": [
    "data_train, data_valid, data_test = Data_Prepare.do_preprocessing(data_train, data_valid, data_test)"
   ]
  },
  {
   "cell_type": "code",
   "execution_count": 5,
   "id": "7c06371b",
   "metadata": {
    "scrolled": false
   },
   "outputs": [
    {
     "data": {
      "text/plain": [
       "0    0.552301\n",
       "1    0.447699\n",
       "Name: label, dtype: float64"
      ]
     },
     "execution_count": 5,
     "metadata": {},
     "output_type": "execute_result"
    }
   ],
   "source": [
    "data_train['label'].value_counts(normalize='true')"
   ]
  },
  {
   "cell_type": "code",
   "execution_count": 6,
   "id": "3c52cb2b",
   "metadata": {},
   "outputs": [],
   "source": [
    "# Combine the training and validation datasets for training\n",
    "data_set_all = pd.concat([data_train, data_valid, data_test])\n",
    "data_train_valid = pd.concat([data_train, data_valid])\n",
    "\n",
    "X_train_valid = data_train_valid['sentence']\n",
    "y_train_valid = data_train_valid['label']\n",
    "X_test = data_test['sentence']\n",
    "y_test = data_test['label']"
   ]
  },
  {
   "cell_type": "code",
   "execution_count": 7,
   "id": "986e328a",
   "metadata": {},
   "outputs": [],
   "source": [
    "#plot_data_length(data_set_all)"
   ]
  },
  {
   "cell_type": "markdown",
   "id": "d687b1fb",
   "metadata": {},
   "source": [
    "Vectorizing"
   ]
  },
  {
   "cell_type": "code",
   "execution_count": 7,
   "id": "61497f29",
   "metadata": {},
   "outputs": [],
   "source": [
    "embedding_matrix,X_train_t_v, y_train_t_v, X_test_t_v, y_test_t_v, vocab_size = Data_Prepare.tokenize_vectorize(data_set_all, data_train_valid,\n",
    "                                                                                                                data_test,\n",
    "                                                                                                               MAX_SEQUENCE_LENGTH=300,\n",
    "                                                                                                                EMBEDDING_DIM=1500)"
   ]
  },
  {
   "cell_type": "code",
   "execution_count": 8,
   "id": "e22cb45a",
   "metadata": {
    "scrolled": true
   },
   "outputs": [
    {
     "data": {
      "image/png": "[encoded data removed]",
      "text/plain": [
       "<Figure size 432x288 with 1 Axes>"
      ]
     },
     "metadata": {
      "needs_background": "light"
     },
     "output_type": "display_data"
    }
   ],
   "source": [
    "#Visualizing distribution of predeiction of ensemble clas\n",
    "class_counts = np.bincount(y_train_valid)\n",
    "plt.bar(range(len(class_counts)), class_counts)\n",
    "class_labels = ['Fake', 'Real']\n",
    "plt.xticks(range(len(class_counts)), class_labels)\n",
    "plt.title('Distribution of Classifications')\n",
    "plt.xlabel('Class')\n",
    "plt.ylabel('Count')\n",
    "plt.show()"
   ]
  },
  {
   "cell_type": "markdown",
   "id": "d8da7850",
   "metadata": {},
   "source": [
    "## 1- SVM"
   ]
  },
  {
   "cell_type": "code",
   "execution_count": 11,
   "id": "299d21eb",
   "metadata": {
    "scrolled": true
   },
   "outputs": [
    {
     "name": "stdout",
     "output_type": "stream",
     "text": [
      "Execution time of SVM: 58.39 seconds\n"
     ]
    }
   ],
   "source": [
    "svm_predictions, svm_train_valid_predictions =SVM_classifier.train_svm(X_train_t_v,\n",
    "                                                                       y_train_valid, X_test_t_v,\n",
    "                                                                      0.06,'scale','poly')"
   ]
  },
  {
   "cell_type": "code",
   "execution_count": 12,
   "id": "c828cee7",
   "metadata": {
    "scrolled": true
   },
   "outputs": [
    {
     "ename": "NameError",
     "evalue": "name 'make_scorer' is not defined",
     "output_type": "error",
     "traceback": [
      "\u001b[1;31m---------------------------------------------------------------------------\u001b[0m",
      "\u001b[1;31mNameError\u001b[0m                                 Traceback (most recent call last)",
      "\u001b[1;32m~\\AppData\\Local\\Temp/ipykernel_14092/2236320381.py\u001b[0m in \u001b[0;36m<module>\u001b[1;34m\u001b[0m\n\u001b[0;32m      1\u001b[0m \u001b[1;31m#Cross Validation\u001b[0m\u001b[1;33m\u001b[0m\u001b[1;33m\u001b[0m\u001b[1;33m\u001b[0m\u001b[0m\n\u001b[0;32m      2\u001b[0m \u001b[0msvm_params\u001b[0m \u001b[1;33m=\u001b[0m \u001b[1;33m{\u001b[0m\u001b[1;34m'C'\u001b[0m\u001b[1;33m:\u001b[0m \u001b[1;36m0.06\u001b[0m\u001b[1;33m,\u001b[0m \u001b[1;34m'kernel'\u001b[0m\u001b[1;33m:\u001b[0m \u001b[1;34m'poly'\u001b[0m\u001b[1;33m,\u001b[0m \u001b[1;34m'gamma'\u001b[0m\u001b[1;33m:\u001b[0m \u001b[1;34m'scale'\u001b[0m\u001b[1;33m}\u001b[0m\u001b[1;33m\u001b[0m\u001b[1;33m\u001b[0m\u001b[0m\n\u001b[1;32m----> 3\u001b[1;33m \u001b[0mcv_scores_f1\u001b[0m\u001b[1;33m,\u001b[0m \u001b[0maverage_f1_score\u001b[0m \u001b[1;33m=\u001b[0m \u001b[0mSVM_classifier\u001b[0m\u001b[1;33m.\u001b[0m\u001b[0mcross_validate_svm\u001b[0m\u001b[1;33m(\u001b[0m\u001b[0mX_train_t_v\u001b[0m\u001b[1;33m,\u001b[0m \u001b[0my_train_valid\u001b[0m\u001b[1;33m,\u001b[0m\u001b[0msvm_params\u001b[0m\u001b[1;33m,\u001b[0m \u001b[0mcv_splits\u001b[0m\u001b[1;33m=\u001b[0m\u001b[1;36m5\u001b[0m\u001b[1;33m)\u001b[0m\u001b[1;33m\u001b[0m\u001b[1;33m\u001b[0m\u001b[0m\n\u001b[0m",
      "\u001b[1;32m~\\Desktop\\Diba-These\\Scripts\\Fake_News_Detection_SVM.py\u001b[0m in \u001b[0;36mcross_validate_svm\u001b[1;34m(X, y, svm_params, cv_splits)\u001b[0m\n\u001b[0;32m    124\u001b[0m     \u001b[0msvm_model\u001b[0m \u001b[1;33m=\u001b[0m \u001b[0mSVC\u001b[0m\u001b[1;33m(\u001b[0m\u001b[1;33m**\u001b[0m\u001b[0msvm_params\u001b[0m\u001b[1;33m)\u001b[0m\u001b[1;33m\u001b[0m\u001b[1;33m\u001b[0m\u001b[0m\n\u001b[0;32m    125\u001b[0m \u001b[1;33m\u001b[0m\u001b[0m\n\u001b[1;32m--> 126\u001b[1;33m     \u001b[0mf1_scorer\u001b[0m \u001b[1;33m=\u001b[0m \u001b[0mmake_scorer\u001b[0m\u001b[1;33m(\u001b[0m\u001b[0mf1_score\u001b[0m\u001b[1;33m,\u001b[0m \u001b[0maverage\u001b[0m\u001b[1;33m=\u001b[0m\u001b[1;34m'micro'\u001b[0m\u001b[1;33m)\u001b[0m\u001b[1;33m\u001b[0m\u001b[1;33m\u001b[0m\u001b[0m\n\u001b[0m\u001b[0;32m    127\u001b[0m     \u001b[0mcv_scores\u001b[0m \u001b[1;33m=\u001b[0m \u001b[0mcross_val_score\u001b[0m\u001b[1;33m(\u001b[0m\u001b[0msvm_model\u001b[0m\u001b[1;33m,\u001b[0m \u001b[0mX\u001b[0m\u001b[1;33m,\u001b[0m \u001b[0my\u001b[0m\u001b[1;33m,\u001b[0m \u001b[0mcv\u001b[0m\u001b[1;33m=\u001b[0m\u001b[0mcv_splits\u001b[0m\u001b[1;33m,\u001b[0m \u001b[0mscoring\u001b[0m\u001b[1;33m=\u001b[0m\u001b[0mf1_scorer\u001b[0m\u001b[1;33m)\u001b[0m\u001b[1;33m\u001b[0m\u001b[1;33m\u001b[0m\u001b[0m\n\u001b[0;32m    128\u001b[0m \u001b[1;33m\u001b[0m\u001b[0m\n",
      "\u001b[1;31mNameError\u001b[0m: name 'make_scorer' is not defined"
     ]
    }
   ],
   "source": [
    "#Cross Validation\n",
    "svm_params = {'C': 0.06, 'kernel': 'poly', 'gamma': 'scale'}\n",
    "cv_scores_f1, average_f1_score = SVM_classifier.cross_validate_svm(X_train_t_v, y_train_valid,svm_params, cv_splits=5)"
   ]
  },
  {
   "cell_type": "code",
   "execution_count": 13,
   "id": "cb9542f1",
   "metadata": {
    "scrolled": true
   },
   "outputs": [
    {
     "name": "stdout",
     "output_type": "stream",
     "text": [
      "SVM - accuracy: 0.5493291239147593\n",
      "SVM - Precision: 0.5497835497835498\n",
      "SVM - Recall: 0.9256559766763849\n",
      "SVM - F-score: 0.6898424769147202\n"
     ]
    },
    {
     "data": {
      "image/png": "[encoded data removed]",
      "text/plain": [
       "<Figure size 576x432 with 1 Axes>"
      ]
     },
     "metadata": {
      "needs_background": "light"
     },
     "output_type": "display_data"
    },
    {
     "data": {
      "image/png": "[encoded data removed]",
      "text/plain": [
       "<Figure size 432x288 with 1 Axes>"
      ]
     },
     "metadata": {
      "needs_background": "light"
     },
     "output_type": "display_data"
    }
   ],
   "source": [
    "svm_accuracy, svm_precision, svm_recall, svm_fscore = SVM_classifier.svm_metrics(svm_predictions, y_test)\n",
    "SVM_classifier.svm_confusion_matrix_plot(svm_predictions, y_test)\n",
    "SVM_classifier.svm_roc_plot(svm_predictions, y_test)"
   ]
  },
  {
   "cell_type": "markdown",
   "id": "223fdeea",
   "metadata": {},
   "source": [
    "## 2-Passive Aggressive"
   ]
  },
  {
   "cell_type": "code",
   "execution_count": 15,
   "id": "91c8b798",
   "metadata": {
    "scrolled": false
   },
   "outputs": [
    {
     "name": "stdout",
     "output_type": "stream",
     "text": [
      "Execution time of PA: 0.17 seconds\n"
     ]
    }
   ],
   "source": [
    "pa_predictions,pa_train_valid_predictions, pa_scores, pa_train_scores = PA_classifier.train_pa(X_train_t_v, y_train_t_v,\n",
    "                                                     X_test_t_v, c = 0.01,iteration=500, tol=1e-7)\n",
    "\n",
    "# pa_predictions,pa_train_valid_predictions,pa_scores = PA_classifier.train_pa(X_train_t_v, y_train_t_v,X_test_t_v)"
   ]
  },
  {
   "cell_type": "code",
   "execution_count": 16,
   "id": "269d41b0",
   "metadata": {},
   "outputs": [
    {
     "name": "stdout",
     "output_type": "stream",
     "text": [
      "PA - accuracy: 0.526440410418311\n",
      "PA - Precision: 0.5442386831275721\n",
      "PA - Recall: 0.7711370262390671\n",
      "PA - F-score: 0.638118214716526\n"
     ]
    },
    {
     "data": {
      "image/png": "[encoded data removed]",
      "text/plain": [
       "<Figure size 576x432 with 1 Axes>"
      ]
     },
     "metadata": {
      "needs_background": "light"
     },
     "output_type": "display_data"
    },
    {
     "data": {
      "image/png": "[encoded data removed]",
      "text/plain": [
       "<Figure size 432x288 with 1 Axes>"
      ]
     },
     "metadata": {
      "needs_background": "light"
     },
     "output_type": "display_data"
    }
   ],
   "source": [
    "pa_accuracy, pa_precision, pa_recall, pa_fscore = PA_classifier.pa_metrics(pa_predictions, y_test)\n",
    "PA_classifier.pa_confusion_matrix_plot(pa_predictions, y_test)\n",
    "PA_classifier.pa_roc_plot(pa_predictions, y_test)"
   ]
  },
  {
   "cell_type": "markdown",
   "id": "3f0f621a",
   "metadata": {},
   "source": [
    "## 3-XGBoost"
   ]
  },
  {
   "cell_type": "code",
   "execution_count": 17,
   "id": "27203d1d",
   "metadata": {
    "scrolled": false
   },
   "outputs": [
    {
     "name": "stdout",
     "output_type": "stream",
     "text": [
      "Execution time of XGBoost: 10.22 seconds\n"
     ]
    }
   ],
   "source": [
    "params = {\n",
    "    'objective': 'binary:logistic',  # or 'multi:softmax' for multi-class classification\n",
    "    'eval_metric': 'logloss',  # or other appropriate evaluation metric\n",
    "    'eta': 0.1,  # learning rate\n",
    "    'max_depth': 15,  # maximum depth of a tree\n",
    "    'subsample': 0.2,  # subsample ratio of the training instances\n",
    "    'colsample_bytree': 1  # subsample ratio of columns when constructing each tree\n",
    "}\n",
    "    \n",
    "    \n",
    "xgb_predictions, xgb_train_valid_predictions, xgb_scores, xgb_train_scores = XGBoost_classifier.train_xgboost(X_train_t_v,y_train_valid,\n",
    "                                                                                X_test_t_v,y_test,\n",
    "                                                                               params, 500,0.45)"
   ]
  },
  {
   "cell_type": "code",
   "execution_count": 20,
   "id": "7d714c63",
   "metadata": {
    "scrolled": false
   },
   "outputs": [
    {
     "name": "stdout",
     "output_type": "stream",
     "text": [
      "XGBoost - accuracy: 0.5422257300710339\n",
      "XGBoost - Precision: 0.5665829145728644\n",
      "XGBoost - Recall: 0.6574344023323615\n",
      "XGBoost - F-score: 0.6086369770580297\n"
     ]
    },
    {
     "data": {
      "image/png": "[encoded data removed]",
      "text/plain": [
       "<Figure size 576x432 with 1 Axes>"
      ]
     },
     "metadata": {
      "needs_background": "light"
     },
     "output_type": "display_data"
    },
    {
     "data": {
      "image/png": "[encoded data removed]",
      "text/plain": [
       "<Figure size 432x288 with 1 Axes>"
      ]
     },
     "metadata": {
      "needs_background": "light"
     },
     "output_type": "display_data"
    }
   ],
   "source": [
    "xgb_accuracy, xgb_precision, xgb_recall, xgb_fscore = XGBoost_classifier.xgb_metrics(xgb_predictions, y_test)\n",
    "XGBoost_classifier.xgb_confusion_matrix_plot(xgb_predictions, y_test)\n",
    "XGBoost_classifier.xgb_roc_plot(xgb_predictions, y_test)"
   ]
  },
  {
   "cell_type": "markdown",
   "id": "fee025c7",
   "metadata": {},
   "source": [
    "## 4-LSTM"
   ]
  },
  {
   "cell_type": "code",
   "execution_count": 22,
   "id": "53ba7a03",
   "metadata": {
    "scrolled": true
   },
   "outputs": [
    {
     "name": "stdout",
     "output_type": "stream",
     "text": [
      "Model: \"sequential\"\n",
      "_________________________________________________________________\n",
      " Layer (type)                Output Shape              Param #   \n",
      "=================================================================\n",
      " embeddings (Embedding)      (None, 300, 1500)         14271000  \n",
      "                                                                 \n",
      " lstm_layer1 (LSTM)          (None, 300, 128)          834048    \n",
      "                                                                 \n",
      " lstm_layer2 (LSTM)          (None, 300, 64)           49408     \n",
      "                                                                 \n",
      " global_max_pooling1d (Globa  (None, 64)               0         \n",
      " lMaxPooling1D)                                                  \n",
      "                                                                 \n",
      " dense (Dense)               (None, 50)                3250      \n",
      "                                                                 \n",
      " dense_1 (Dense)             (None, 1)                 51        \n",
      "                                                                 \n",
      "=================================================================\n",
      "Total params: 15,157,757\n",
      "Trainable params: 886,757\n",
      "Non-trainable params: 14,271,000\n",
      "_________________________________________________________________\n",
      "Epoch 1/10\n",
      "73/73 [==============================] - 188s 3s/step - loss: 0.6879 - accuracy: 0.5396 - val_loss: 0.6738 - val_accuracy: 0.5779\n",
      "Epoch 2/10\n",
      "73/73 [==============================] - 184s 3s/step - loss: 0.6721 - accuracy: 0.5811 - val_loss: 0.6693 - val_accuracy: 0.5905\n",
      "Epoch 3/10\n",
      "73/73 [==============================] - 198s 3s/step - loss: 0.6686 - accuracy: 0.5885 - val_loss: 0.6580 - val_accuracy: 0.6121\n",
      "Epoch 4/10\n",
      "73/73 [==============================] - 219s 3s/step - loss: 0.6622 - accuracy: 0.6011 - val_loss: 0.6545 - val_accuracy: 0.6165\n",
      "Epoch 5/10\n",
      "73/73 [==============================] - 222s 3s/step - loss: 0.6620 - accuracy: 0.6015 - val_loss: 0.6575 - val_accuracy: 0.6091\n",
      "Epoch 6/10\n",
      "73/73 [==============================] - 229s 3s/step - loss: 0.6555 - accuracy: 0.6117 - val_loss: 0.6553 - val_accuracy: 0.6082\n",
      "Epoch 7/10\n",
      "73/73 [==============================] - 229s 3s/step - loss: 0.6524 - accuracy: 0.6168 - val_loss: 0.6560 - val_accuracy: 0.6108\n",
      "Epoch 8/10\n",
      "73/73 [==============================] - 226s 3s/step - loss: 0.6506 - accuracy: 0.6138 - val_loss: 0.6507 - val_accuracy: 0.6165\n",
      "Epoch 9/10\n",
      "73/73 [==============================] - 233s 3s/step - loss: 0.6428 - accuracy: 0.6227 - val_loss: 0.6467 - val_accuracy: 0.6230\n",
      "Epoch 10/10\n",
      "73/73 [==============================] - 239s 3s/step - loss: 0.6394 - accuracy: 0.6287 - val_loss: 0.6455 - val_accuracy: 0.6126\n",
      "Execution time of LSTM: 2166.61 seconds\n"
     ]
    }
   ],
   "source": [
    "lstm_model, lstm_history = LSTM_classifier.train_lstm(vocab_size,\n",
    "                                                      embedding_matrix,\n",
    "                                                      X_train_t_v,\n",
    "                                                      y_train_t_v,\n",
    "                                                      epoches=10,\n",
    "                                                      batch_size=128,\n",
    "                                                      MAX_SEQUENCE_LENGTH=300,EMBEDDING_DIM=1500)"
   ]
  },
  {
   "cell_type": "code",
   "execution_count": 23,
   "id": "3547514c",
   "metadata": {
    "scrolled": true
   },
   "outputs": [
    {
     "name": "stdout",
     "output_type": "stream",
     "text": [
      "40/40 [==============================] - 18s 412ms/step\n",
      "361/361 [==============================] - 134s 370ms/step\n"
     ]
    }
   ],
   "source": [
    "lstm_train_valid_predictions, lstm_predictions, lstm_train_scores, lstm_scores = LSTM_classifier.predict_lstm(lstm_model,\n",
    "                                                                              X_train_t_v,\n",
    "                                                                              X_test_t_v,\n",
    "                                                                             0.4)"
   ]
  },
  {
   "cell_type": "code",
   "execution_count": 24,
   "id": "ad743d8a",
   "metadata": {
    "scrolled": false
   },
   "outputs": [
    {
     "name": "stdout",
     "output_type": "stream",
     "text": [
      "LSTM - Accuracy: 0.5982636148382005\n",
      "LSTM - Precision: 0.5814167433302668\n",
      "LSTM - Recall: 0.9212827988338192\n",
      "LSTM - F-score: 0.7129159616469262\n"
     ]
    },
    {
     "data": {
      "image/png": "[encoded data removed]",
      "text/plain": [
       "<Figure size 432x288 with 1 Axes>"
      ]
     },
     "metadata": {
      "needs_background": "light"
     },
     "output_type": "display_data"
    },
    {
     "data": {
      "image/png": "[encoded data removed]",
      "text/plain": [
       "<Figure size 576x432 with 1 Axes>"
      ]
     },
     "metadata": {
      "needs_background": "light"
     },
     "output_type": "display_data"
    }
   ],
   "source": [
    "lstm_accuracy, lstm_precision, lstm_recall, lstm_fscore = LSTM_classifier.lstm_metrics(lstm_predictions, y_test_t_v)\n",
    "LSTM_classifier.lstm_loss_plot(lstm_history)\n",
    "LSTM_classifier.lstm_confusion_matrix_plot(lstm_predictions, y_test_t_v)"
   ]
  },
  {
   "cell_type": "code",
   "execution_count": 26,
   "id": "cf9e24c2",
   "metadata": {},
   "outputs": [
    {
     "name": "stdout",
     "output_type": "stream",
     "text": [
      "Model: \"sequential_2\"\n",
      "_________________________________________________________________\n",
      " Layer (type)                Output Shape              Param #   \n",
      "=================================================================\n",
      " embeddings (Embedding)      (None, 300, 1500)         14271000  \n",
      "                                                                 \n",
      " lstm_layer1 (LSTM)          (None, 300, 256)          1799168   \n",
      "                                                                 \n",
      " lstm_layer2 (LSTM)          (None, 300, 128)          197120    \n",
      "                                                                 \n",
      " dropout_2 (Dropout)         (None, 300, 128)          0         \n",
      "                                                                 \n",
      " lstm_layer3 (LSTM)          (None, 300, 64)           49408     \n",
      "                                                                 \n",
      " global_max_pooling1d_2 (Glo  (None, 64)               0         \n",
      " balMaxPooling1D)                                                \n",
      "                                                                 \n",
      " dropout_3 (Dropout)         (None, 64)                0         \n",
      "                                                                 \n",
      " dense_4 (Dense)             (None, 50)                3250      \n",
      "                                                                 \n",
      " dense_5 (Dense)             (None, 1)                 51        \n",
      "                                                                 \n",
      "=================================================================\n",
      "Total params: 16,319,997\n",
      "Trainable params: 2,048,997\n",
      "Non-trainable params: 14,271,000\n",
      "_________________________________________________________________\n",
      "Epoch 1/9\n",
      "73/73 [==============================] - 470s 6s/step - loss: 0.6836 - accuracy: 0.5540 - val_loss: 0.6821 - val_accuracy: 0.5315\n",
      "Epoch 2/9\n",
      "73/73 [==============================] - 499s 7s/step - loss: 0.6787 - accuracy: 0.5665 - val_loss: 0.6671 - val_accuracy: 0.6095\n",
      "Epoch 3/9\n",
      "73/73 [==============================] - 560s 8s/step - loss: 0.6681 - accuracy: 0.5927 - val_loss: 0.6570 - val_accuracy: 0.6187\n",
      "Epoch 4/9\n",
      "73/73 [==============================] - 557s 8s/step - loss: 0.6646 - accuracy: 0.6004 - val_loss: 0.6547 - val_accuracy: 0.6108\n",
      "Epoch 5/9\n",
      "73/73 [==============================] - 565s 8s/step - loss: 0.6587 - accuracy: 0.6115 - val_loss: 0.6678 - val_accuracy: 0.5931\n",
      "Epoch 6/9\n",
      "73/73 [==============================] - 760s 10s/step - loss: 0.6570 - accuracy: 0.6067 - val_loss: 0.6535 - val_accuracy: 0.6134\n",
      "Epoch 7/9\n",
      "73/73 [==============================] - 516s 7s/step - loss: 0.6533 - accuracy: 0.6143 - val_loss: 0.6539 - val_accuracy: 0.6061\n",
      "Epoch 8/9\n",
      "73/73 [==============================] - 673s 9s/step - loss: 0.6556 - accuracy: 0.6115 - val_loss: 0.6509 - val_accuracy: 0.6204\n",
      "Epoch 9/9\n",
      "73/73 [==============================] - 548s 8s/step - loss: 0.6491 - accuracy: 0.6213 - val_loss: 0.6611 - val_accuracy: 0.5970\n",
      "Execution time of LSTM: 5148.30 seconds\n"
     ]
    }
   ],
   "source": [
    "from tensorflow.keras.layers import *\n",
    "from tensorflow.keras.models import Sequential\n",
    "import time\n",
    "\n",
    "def train_lstm_3(vocab_size, embedding_matrix, X_train, y_train, epoches=10,batch_size=128,MAX_SEQUENCE_LENGTH=300,EMBEDDING_DIM=150):\n",
    "    start_time = time.time()\n",
    "    \n",
    "    model = Sequential()\n",
    "    model.add(Input(shape=(MAX_SEQUENCE_LENGTH,)))\n",
    "    model.add(Embedding(vocab_size, EMBEDDING_DIM, weights = [embedding_matrix],\n",
    "                        input_length = MAX_SEQUENCE_LENGTH, trainable=False, name = 'embeddings'))\n",
    "    model.add(LSTM(256, return_sequences=True,name='lstm_layer1'))\n",
    "    model.add(LSTM(128, return_sequences=True,name='lstm_layer2'))\n",
    "    model.add(Dropout(0.1))\n",
    "    model.add(LSTM(64, return_sequences=True,name='lstm_layer3'))\n",
    "    model.add(GlobalMaxPool1D())\n",
    "    model.add(Dropout(0.1))\n",
    "    model.add(Dense(50, activation=\"relu\"))\n",
    "    model.add(Dense(1, activation=\"sigmoid\"))\n",
    "    \n",
    "    model.compile(optimizer='adam', loss='binary_crossentropy', metrics = ['accuracy'])\n",
    "\n",
    "    model.summary()\n",
    "    \n",
    "    history = model.fit(X_train, y_train, epochs = epoches, batch_size=batch_size, validation_split=0.2)\n",
    "\n",
    "    end_time = time.time()\n",
    "    execution_time = end_time - start_time\n",
    "    print(\"Execution time of LSTM: {:.2f} seconds\".format(execution_time))\n",
    "\n",
    "    return model, history\n",
    "\n",
    "lstm_model3, lstm_history3 = train_lstm_3(vocab_size,\n",
    "                                                      embedding_matrix,\n",
    "                                                      X_train_t_v,\n",
    "                                                      y_train_t_v,\n",
    "                                                      epoches=9,\n",
    "                                                      batch_size=128,\n",
    "                                                      MAX_SEQUENCE_LENGTH=300,EMBEDDING_DIM=1500)"
   ]
  },
  {
   "cell_type": "code",
   "execution_count": 28,
   "id": "91e2e4d0",
   "metadata": {},
   "outputs": [
    {
     "name": "stdout",
     "output_type": "stream",
     "text": [
      "40/40 [==============================] - 38s 954ms/step\n",
      "361/361 [==============================] - 346s 959ms/step\n"
     ]
    }
   ],
   "source": [
    "lstm_train_valid_predictions3, lstm_predictions3, lstm_train_scores3, lstm_scores3 = LSTM_classifier.predict_lstm(lstm_model3,\n",
    "                                                                              X_train_t_v,\n",
    "                                                                              X_test_t_v,\n",
    "                                                                             0.4)"
   ]
  },
  {
   "cell_type": "code",
   "execution_count": 29,
   "id": "23341c10",
   "metadata": {},
   "outputs": [
    {
     "name": "stdout",
     "output_type": "stream",
     "text": [
      "LSTM - Accuracy: 0.5516969218626677\n",
      "LSTM - Precision: 0.5478896103896104\n",
      "LSTM - Recall: 0.9839650145772595\n",
      "LSTM - F-score: 0.7038581856100103\n"
     ]
    },
    {
     "data": {
      "image/png": "[encoded data removed]",
      "text/plain": [
       "<Figure size 432x288 with 1 Axes>"
      ]
     },
     "metadata": {
      "needs_background": "light"
     },
     "output_type": "display_data"
    },
    {
     "data": {
      "image/png": "[encoded data removed]",
      "text/plain": [
       "<Figure size 576x432 with 1 Axes>"
      ]
     },
     "metadata": {
      "needs_background": "light"
     },
     "output_type": "display_data"
    }
   ],
   "source": [
    "lstm_accuracy3, lstm_precision3, lstm_recall3, lstm_fscore3 = LSTM_classifier.lstm_metrics(lstm_predictions3, y_test_t_v)\n",
    "LSTM_classifier.lstm_loss_plot(lstm_history3)\n",
    "LSTM_classifier.lstm_confusion_matrix_plot(lstm_predictions, y_test_t_v)"
   ]
  },
  {
   "cell_type": "markdown",
   "id": "04986939",
   "metadata": {},
   "source": [
    "## 5-BiLSTM"
   ]
  },
  {
   "cell_type": "code",
   "execution_count": 236,
   "id": "f3b39999",
   "metadata": {
    "scrolled": true
   },
   "outputs": [
    {
     "name": "stdout",
     "output_type": "stream",
     "text": [
      "Model: \"sequential_2\"\n",
      "_________________________________________________________________\n",
      " Layer (type)                Output Shape              Param #   \n",
      "=================================================================\n",
      " embedding_1 (Embedding)     (None, 300, 150)          1427100   \n",
      "                                                                 \n",
      " bidirectional_2 (Bidirectio  (None, 300, 256)         285696    \n",
      " nal)                                                            \n",
      "                                                                 \n",
      " bidirectional_3 (Bidirectio  (None, 128)              164352    \n",
      " nal)                                                            \n",
      "                                                                 \n",
      " dense_4 (Dense)             (None, 32)                4128      \n",
      "                                                                 \n",
      " dense_5 (Dense)             (None, 1)                 33        \n",
      "                                                                 \n",
      "=================================================================\n",
      "Total params: 1,881,309\n",
      "Trainable params: 454,209\n",
      "Non-trainable params: 1,427,100\n",
      "_________________________________________________________________\n",
      "Epoch 1/3\n",
      "73/73 [==============================] - 1554s 21s/step - loss: 0.6885 - accuracy: 0.5394 - val_loss: 0.6920 - val_accuracy: 0.5206\n",
      "Epoch 2/3\n",
      "73/73 [==============================] - 1682s 23s/step - loss: 0.6772 - accuracy: 0.5637 - val_loss: 0.6827 - val_accuracy: 0.5649\n",
      "Epoch 3/3\n",
      "73/73 [==============================] - 1787s 24s/step - loss: 0.6777 - accuracy: 0.5701 - val_loss: 0.6712 - val_accuracy: 0.5948\n",
      "Execution time of BiLSTM: 5023.41 seconds\n"
     ]
    }
   ],
   "source": [
    "bilstm_model, bilstm_history = BiLSTM_classifier.train_bilstm(vocab_size,\n",
    "                                                              X_train_t_v,\n",
    "                                                              y_train_t_v, 3,128,\n",
    "                                                             ,MAX_SEQUENCE_LENGTH = 300,EMBEDDING_DIM = 1500)"
   ]
  },
  {
   "cell_type": "code",
   "execution_count": 239,
   "id": "c6b2edeb",
   "metadata": {
    "scrolled": true
   },
   "outputs": [
    {
     "name": "stdout",
     "output_type": "stream",
     "text": [
      "BiLSTM - Accuracy: 0.5485398579321231\n",
      "BiLSTM - Precision: 0.5456730769230769\n",
      "BiLSTM - Recall: 0.9927113702623906\n",
      "BiLSTM - F-score: 0.7042399172699069\n"
     ]
    },
    {
     "data": {
      "image/png": "[encoded data removed]",
      "text/plain": [
       "<Figure size 432x288 with 1 Axes>"
      ]
     },
     "metadata": {
      "needs_background": "light"
     },
     "output_type": "display_data"
    },
    {
     "data": {
      "image/png": "[encoded data removed]",
      "text/plain": [
       "<Figure size 576x432 with 1 Axes>"
      ]
     },
     "metadata": {
      "needs_background": "light"
     },
     "output_type": "display_data"
    }
   ],
   "source": [
    "bilstm_train_predictions, bilstm_predictions, bilstm_train_scores,bilstm_scores = BiLSTM_classifier.predict_bilstm(bilstm_model,\n",
    "                                                                                X_train_t_v, X_test_t_v, 0.4)\n",
    "bilstm_accuracy, bilstm_precision, bilstm_recall, bilstm_fscore=BiLSTM_classifier.bilstm_metrics(bilstm_predictions, y_test_t_v)\n",
    "BiLSTM_classifier.bilstm_loss_plot(bilstm_history)\n",
    "BiLSTM_classifier.bilstm_confusion_matrix_plot(bilstm_predictions, y_test_t_v)\n",
    "# bilstm_roc_plot(bilstm_predictions, y_test_t_v)"
   ]
  },
  {
   "cell_type": "markdown",
   "id": "593cf11f",
   "metadata": {},
   "source": [
    "## Evaluate Ensemblely!"
   ]
  },
  {
   "cell_type": "code",
   "execution_count": 240,
   "id": "3384ffd4",
   "metadata": {
    "scrolled": true
   },
   "outputs": [
    {
     "data": {
      "image/png": "[encoded data removed]",
      "text/plain": [
       "<Figure size 432x288 with 1 Axes>"
      ]
     },
     "metadata": {
      "needs_background": "light"
     },
     "output_type": "display_data"
    }
   ],
   "source": [
    "metrics = ['Accuracy','Precision','Recall','F-score'] \n",
    "svm = [svm_accuracy, svm_precision, svm_recall, svm_fscore] \n",
    "pa=[pa_accuracy, pa_precision, pa_recall, pa_fscore]\n",
    "xgb=[xgb_accuracy, xgb_precision, xgb_recall, xgb_fscore]\n",
    "lstm = [lstm_accuracy, lstm_precision, lstm_recall, lstm_fscore] \n",
    "bilstm = [bilstm_accuracy, bilstm_precision, bilstm_recall, bilstm_fscore] \n",
    "\n",
    "bar_width = 0.15 \n",
    "index = np.arange(len(metrics))\n",
    "plt.bar(index, svm, bar_width, label='SVM')\n",
    "plt.bar(index + bar_width, pa, bar_width, label='PA')\n",
    "plt.bar(index + 2*bar_width, xgb, bar_width, label='XGB')\n",
    "plt.bar(index + 3*bar_width, lstm, bar_width, label='LSTM')\n",
    "plt.bar(index + 4*bar_width, bilstm, bar_width, label='BiLSTM')\n",
    "\n",
    "plt.xlabel('Metrics')\n",
    "plt.ylabel('Values')\n",
    "plt.title('Classifier Metrics Comparison')\n",
    "\n",
    "plt.xticks(index + bar_width, metrics)\n",
    "plt.legend()\n",
    "plt.show()\n",
    "        "
   ]
  },
  {
   "cell_type": "code",
   "execution_count": 241,
   "id": "5346ac90",
   "metadata": {},
   "outputs": [],
   "source": [
    "import numpy as np\n",
    "def ensemble_prediction():   \n",
    "    votes = np.array([list(row) for row in zip(svm_predictions ,xgb_predictions, pa_predictions, lstm_predictions, bilstm_predictions)])\n",
    "    column_sums = np.sum(votes, axis=1)\n",
    "    averages_vote = []\n",
    "    for column_sum in column_sums:\n",
    "        average = column_sum / 5\n",
    "        averages_vote.append(average.round())\n",
    "    return averages_vote"
   ]
  },
  {
   "cell_type": "code",
   "execution_count": 242,
   "id": "d657fd4b",
   "metadata": {
    "scrolled": true
   },
   "outputs": [
    {
     "name": "stdout",
     "output_type": "stream",
     "text": [
      "Model - accuracy: 0.5485398579321231\n",
      "Model - Precision: 0.5462662337662337\n",
      "Model - Recall: 0.9810495626822158\n",
      "Model - F-score: 0.7017726798748697\n"
     ]
    }
   ],
   "source": [
    "y_pred_ensemble = ensemble_prediction()\n",
    "\n",
    "accuracy = sum(y_pred_ensemble == y_test) / len(y_test)\n",
    "\n",
    "precision, recall, fscore, support = precision_recall_fscore_support(y_test, y_pred_ensemble, average='binary')\n",
    "print(\"Model - accuracy:\", accuracy)\n",
    "print(\"Model - Precision:\", precision)\n",
    "print(\"Model - Recall:\", recall)\n",
    "print(\"Model - F-score:\", fscore)"
   ]
  },
  {
   "cell_type": "code",
   "execution_count": 46,
   "id": "964e3603",
   "metadata": {},
   "outputs": [
    {
     "data": {
      "image/png": "[encoded data removed]",
      "text/plain": [
       "<Figure size 432x288 with 1 Axes>"
      ]
     },
     "metadata": {
      "needs_background": "light"
     },
     "output_type": "display_data"
    }
   ],
   "source": [
    "#Visualizing distribution of predeiction of ensemble clas\n",
    "class_counts = np.bincount(y_pred_ensemble)\n",
    "plt.bar(range(len(class_counts)), class_counts)\n",
    "class_labels = ['Fake', 'Real']\n",
    "plt.xticks(range(len(class_counts)), class_labels)\n",
    "plt.title('Distribution of Classifications')\n",
    "plt.xlabel('Class')\n",
    "plt.ylabel('Count')\n",
    "plt.show()"
   ]
  },
  {
   "cell_type": "markdown",
   "id": "3869b349",
   "metadata": {},
   "source": [
    "## MLP Classifier"
   ]
  },
  {
   "cell_type": "code",
   "execution_count": 243,
   "id": "ef399c02",
   "metadata": {},
   "outputs": [],
   "source": [
    "#Stack scores\n",
    "xgb_train_valid_pred_scores = np.array(xgb_train_valid_pred_scores)\n",
    "xgb_pred_scores= np.array(xgb_pred_scores)\n",
    "\n",
    "stacked_X_train = np.hstack((X_train_t_v, \n",
    "                             svm_train_valid_predictions.reshape((-1, 1)),\n",
    "                             xgb_train_valid_pred_scores.reshape((-1, 1)),\n",
    "                             lstm_train_scores.reshape((-1, 1)),\n",
    "                             bilstm_train_scores.reshape((-1, 1)),\n",
    "                             pa_train_valid_scores.reshape((-1, 1))))\n",
    "stacked_X_test = np.hstack((X_test_t_v, \n",
    "                            svm_predictions.reshape((-1, 1)),\n",
    "                            xgb_pred_scores.reshape((-1, 1)),\n",
    "                            lstm_scores.reshape((-1, 1)),\n",
    "                            bilstm_scores.reshape((-1, 1)),\n",
    "                            pa_scores.reshape((-1, 1))))\n"
   ]
  },
  {
   "cell_type": "code",
   "execution_count": 260,
   "id": "e0098802",
   "metadata": {},
   "outputs": [],
   "source": [
    "#Stack Binary\n",
    "bilstm_predictions = (bilstm_scores > 0.4).astype(int).flatten()\n",
    "bilstm_train_predictions = (bilstm_train_scores > 0.4).astype(int).flatten()\n",
    "\n",
    "lstm_predictions = (lstm_scores > 0.4).astype(int).flatten()\n",
    "lstm_train_predictions = (lstm_train_scores > 0.4).astype(int).flatten()\n",
    "\n",
    "xgb_predictions = [1 if p >= 0.45 else 0 for p in xgb_pred_scores]\n",
    "xgb_train_predictions = [1 if p >= 0.45 else 0 for p in xgb_train_valid_pred_scores]\n",
    "\n",
    "xgb_train_predictions = np.array(xgb_train_predictions)\n",
    "xgb_predictions= np.array(xgb_predictions)\n",
    "\n",
    "stacked_X_train = np.hstack((X_train_t_v, \n",
    "#                              svm_train_valid_predictions.reshape((-1, 1)),\n",
    "                             xgb_train_predictions.reshape((-1, 1)),\n",
    "                             lstm_train_predictions.reshape((-1, 1)),\n",
    "                             bilstm_train_predictions.reshape((-1, 1)),\n",
    "#                              pa_train_valid_scores.reshape((-1, 1))\n",
    "                            ))\n",
    "stacked_X_test = np.hstack((X_test_t_v, \n",
    "#                             svm_predictions.reshape((-1, 1)),\n",
    "                            xgb_predictions.reshape((-1, 1)),\n",
    "                            lstm_predictions.reshape((-1, 1)),\n",
    "                            bilstm_predictions.reshape((-1, 1)),\n",
    "#                             pa_scores.reshape((-1, 1))\n",
    "                           ))"
   ]
  },
  {
   "cell_type": "code",
   "execution_count": 261,
   "id": "cf4067f0",
   "metadata": {
    "scrolled": false
   },
   "outputs": [
    {
     "name": "stdout",
     "output_type": "stream",
     "text": [
      "Execution time of MLP: 22.84 seconds\n"
     ]
    }
   ],
   "source": [
    "mlp_predictions = MLP_classifier.build_mlp(stacked_X_train, y_train_valid,stacked_X_test)"
   ]
  },
  {
   "cell_type": "code",
   "execution_count": 262,
   "id": "e410a98c",
   "metadata": {},
   "outputs": [
    {
     "name": "stdout",
     "output_type": "stream",
     "text": [
      "              precision    recall  f1-score   support\n",
      "\n",
      "           0       0.49      0.37      0.42       581\n",
      "           1       0.56      0.67      0.61       686\n",
      "\n",
      "    accuracy                           0.53      1267\n",
      "   macro avg       0.52      0.52      0.51      1267\n",
      "weighted avg       0.52      0.53      0.52      1267\n",
      "\n",
      "MLP F-score: 0.5311760063141279\n",
      "MLP Accuracy: 0.5311760063141279\n"
     ]
    }
   ],
   "source": [
    "from sklearn.metrics import f1_score, accuracy_score, classification_report\n",
    "f_score = f1_score(y_test, mlp_predictions, average='micro')\n",
    "accuracy = accuracy_score(y_test, mlp_predictions)\n",
    "print(classification_report(y_test, mlp_predictions))\n",
    "print(\"MLP F-score:\", f_score)\n",
    "print(\"MLP Accuracy:\", accuracy)"
   ]
  },
  {
   "cell_type": "code",
   "execution_count": null,
   "id": "b977364e",
   "metadata": {},
   "outputs": [],
   "source": [
    "MLP_classifier.mlp_metrics(mlp_predictions, y_test)"
   ]
  },
  {
   "cell_type": "code",
   "execution_count": null,
   "id": "1024ee71",
   "metadata": {},
   "outputs": [],
   "source": []
  }
 ],
 "metadata": {
  "kernelspec": {
   "display_name": "Python 3 (ipykernel)",
   "language": "python",
   "name": "python3"
  },
  "language_info": {
   "codemirror_mode": {
    "name": "ipython",
    "version": 3
   },
   "file_extension": ".py",
   "mimetype": "text/x-python",
   "name": "python",
   "nbconvert_exporter": "python",
   "pygments_lexer": "ipython3",
   "version": "3.9.5"
  }
 },
 "nbformat": 4,
 "nbformat_minor": 5
}
