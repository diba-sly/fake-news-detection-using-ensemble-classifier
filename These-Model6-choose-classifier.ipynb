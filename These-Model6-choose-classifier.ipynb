{
 "cells": [
  {
   "cell_type": "markdown",
   "id": "67217fef",
   "metadata": {},
   "source": [
    "Loading data from datasets"
   ]
  },
  {
   "cell_type": "code",
   "execution_count": 1,
   "id": "a55898de",
   "metadata": {},
   "outputs": [],
   "source": [
    "import pandas as pd\n",
    "\n",
    "data_train = pd.read_csv(\"sample_data/train.tsv\", sep=\"\\t\", header=None)\n",
    "data_valid = pd.read_csv(\"sample_data/valid.tsv\", sep=\"\\t\", header=None)\n",
    "data_test = pd.read_csv(\"sample_data/test.tsv\", sep=\"\\t\", header=None)"
   ]
  },
  {
   "cell_type": "code",
   "execution_count": 2,
   "id": "cee36212",
   "metadata": {
    "scrolled": true
   },
   "outputs": [
    {
     "data": {
      "text/html": [
       "<div>\n",
       "<style scoped>\n",
       "    .dataframe tbody tr th:only-of-type {\n",
       "        vertical-align: middle;\n",
       "    }\n",
       "\n",
       "    .dataframe tbody tr th {\n",
       "        vertical-align: top;\n",
       "    }\n",
       "\n",
       "    .dataframe thead th {\n",
       "        text-align: right;\n",
       "    }\n",
       "</style>\n",
       "<table border=\"1\" class=\"dataframe\">\n",
       "  <thead>\n",
       "    <tr style=\"text-align: right;\">\n",
       "      <th></th>\n",
       "      <th>0</th>\n",
       "      <th>1</th>\n",
       "      <th>2</th>\n",
       "      <th>3</th>\n",
       "      <th>4</th>\n",
       "      <th>5</th>\n",
       "      <th>6</th>\n",
       "      <th>7</th>\n",
       "      <th>8</th>\n",
       "      <th>9</th>\n",
       "      <th>10</th>\n",
       "      <th>11</th>\n",
       "      <th>12</th>\n",
       "      <th>13</th>\n",
       "    </tr>\n",
       "  </thead>\n",
       "  <tbody>\n",
       "    <tr>\n",
       "      <th>0</th>\n",
       "      <td>2635.json</td>\n",
       "      <td>false</td>\n",
       "      <td>Says the Annies List political group supports ...</td>\n",
       "      <td>abortion</td>\n",
       "      <td>dwayne-bohac</td>\n",
       "      <td>State representative</td>\n",
       "      <td>Texas</td>\n",
       "      <td>republican</td>\n",
       "      <td>0.0</td>\n",
       "      <td>1.0</td>\n",
       "      <td>0.0</td>\n",
       "      <td>0.0</td>\n",
       "      <td>0.0</td>\n",
       "      <td>a mailer</td>\n",
       "    </tr>\n",
       "    <tr>\n",
       "      <th>1</th>\n",
       "      <td>10540.json</td>\n",
       "      <td>half-true</td>\n",
       "      <td>When did the decline of coal start? It started...</td>\n",
       "      <td>energy,history,job-accomplishments</td>\n",
       "      <td>scott-surovell</td>\n",
       "      <td>State delegate</td>\n",
       "      <td>Virginia</td>\n",
       "      <td>democrat</td>\n",
       "      <td>0.0</td>\n",
       "      <td>0.0</td>\n",
       "      <td>1.0</td>\n",
       "      <td>1.0</td>\n",
       "      <td>0.0</td>\n",
       "      <td>a floor speech.</td>\n",
       "    </tr>\n",
       "    <tr>\n",
       "      <th>2</th>\n",
       "      <td>324.json</td>\n",
       "      <td>mostly-true</td>\n",
       "      <td>Hillary Clinton agrees with John McCain \"by vo...</td>\n",
       "      <td>foreign-policy</td>\n",
       "      <td>barack-obama</td>\n",
       "      <td>President</td>\n",
       "      <td>Illinois</td>\n",
       "      <td>democrat</td>\n",
       "      <td>70.0</td>\n",
       "      <td>71.0</td>\n",
       "      <td>160.0</td>\n",
       "      <td>163.0</td>\n",
       "      <td>9.0</td>\n",
       "      <td>Denver</td>\n",
       "    </tr>\n",
       "  </tbody>\n",
       "</table>\n",
       "</div>"
      ],
      "text/plain": [
       "           0            1                                                  2   \\\n",
       "0   2635.json        false  Says the Annies List political group supports ...   \n",
       "1  10540.json    half-true  When did the decline of coal start? It started...   \n",
       "2    324.json  mostly-true  Hillary Clinton agrees with John McCain \"by vo...   \n",
       "\n",
       "                                   3               4                     5   \\\n",
       "0                            abortion    dwayne-bohac  State representative   \n",
       "1  energy,history,job-accomplishments  scott-surovell        State delegate   \n",
       "2                      foreign-policy    barack-obama             President   \n",
       "\n",
       "         6           7     8     9      10     11   12               13  \n",
       "0     Texas  republican   0.0   1.0    0.0    0.0  0.0         a mailer  \n",
       "1  Virginia    democrat   0.0   0.0    1.0    1.0  0.0  a floor speech.  \n",
       "2  Illinois    democrat  70.0  71.0  160.0  163.0  9.0           Denver  "
      ]
     },
     "execution_count": 2,
     "metadata": {},
     "output_type": "execute_result"
    }
   ],
   "source": [
    "#Viewing sample train data before preprocessing\n",
    "data_train.head(3)"
   ]
  },
  {
   "cell_type": "code",
   "execution_count": 3,
   "id": "0fb033dc",
   "metadata": {},
   "outputs": [
    {
     "data": {
      "text/plain": [
       "(10240, 14)"
      ]
     },
     "execution_count": 3,
     "metadata": {},
     "output_type": "execute_result"
    }
   ],
   "source": [
    "#Viewing sample train data counts\n",
    "data_train.shape"
   ]
  },
  {
   "cell_type": "code",
   "execution_count": 4,
   "id": "b10a747f",
   "metadata": {},
   "outputs": [
    {
     "name": "stdout",
     "output_type": "stream",
     "text": [
      "The number of rows with label false is: 1995\n",
      "The number of rows with label pants-fire is: 839\n",
      "The number of rows with label true is: 1676\n",
      "The number of rows with label mostly-true is: 1962\n",
      "The number of rows with label half-true is: 2114\n",
      "The number of rows with label barely-true is: 1654\n"
     ]
    }
   ],
   "source": [
    "#Viewing count of data in seprate of labels\n",
    "# Filter the DataFrame based on the label\n",
    "filtered_data1 = data_train[data_train.iloc[:, 1] ==  'false']\n",
    "filtered_data2 = data_train[data_train.iloc[:, 1]  == \"pants-fire\"]\n",
    "filtered_data3 = data_train[data_train.iloc[:, 1]  == \"true\"]\n",
    "filtered_data4 = data_train[data_train.iloc[:, 1]  == \"mostly-true\"]\n",
    "filtered_data5 = data_train[data_train.iloc[:, 1]  == \"half-true\"]\n",
    "filtered_data6 = data_train[data_train.iloc[:, 1]  == \"barely-true\"]\n",
    "# Display the result\n",
    "print(f\"The number of rows with label false is: {filtered_data1.shape[0]}\")\n",
    "print(f\"The number of rows with label pants-fire is: {filtered_data2.shape[0]}\")\n",
    "print(f\"The number of rows with label true is: {filtered_data3.shape[0]}\")\n",
    "print(f\"The number of rows with label mostly-true is: {filtered_data4.shape[0]}\")\n",
    "print(f\"The number of rows with label half-true is: {filtered_data5.shape[0]}\")\n",
    "print(f\"The number of rows with label barely-true is: {filtered_data6.shape[0]}\")"
   ]
  },
  {
   "cell_type": "markdown",
   "id": "e915e263",
   "metadata": {},
   "source": [
    "convert 6 classes to 2 classes"
   ]
  },
  {
   "cell_type": "code",
   "execution_count": 5,
   "id": "23adf402",
   "metadata": {},
   "outputs": [],
   "source": [
    "def combine_classes(dataset):\n",
    "    #Creating new column called 'label' with 1 for true and mostly-true values, else 0 i.e. 1=real, 0=fake\n",
    "    dataset['label']=[1 if x==\"true\"or x==\"mostly-true\" else 0 for x in dataset[1]]\n",
    "    \n",
    "    #Dealing with empty datapoints for metadata columns - subject, speaker, job, state,affiliation, context\n",
    "    meta = []\n",
    "    for i in range(len(dataset)):\n",
    "      subject = dataset[3][i]\n",
    "      if subject == 0:\n",
    "          subject = 'None'\n",
    "\n",
    "      speaker =  dataset[4][i]\n",
    "      if speaker == 0:\n",
    "          speaker = 'None'\n",
    "\n",
    "      job =  dataset[5][i]\n",
    "      if job == 0:\n",
    "          job = 'None'\n",
    "\n",
    "      state =  dataset[6][i]\n",
    "      if state == 0:\n",
    "          state = 'None'\n",
    "\n",
    "      affiliation =  dataset[7][i]\n",
    "      if affiliation == 0:\n",
    "          affiliation = 'None'\n",
    "\n",
    "      context =  dataset[13][i]\n",
    "      if context == 0 :\n",
    "          context = 'None'\n",
    "\n",
    "      meta.append(str(subject) + ' ' + str(speaker) + ' ' + str(job) + ' ' + str(state) + ' ' + str(affiliation) + ' ' + str(context)) #combining all the meta data columns into a single column\n",
    "  \n",
    "    #Adding cleaned and combined metadata column to the dataset\n",
    "    dataset[14] = meta\n",
    "    #dataset[\"sentence\"] = dataset[14].astype('str')+\" \"+dataset[2] #Combining metadata and the text columns into single columns\n",
    "    dataset[\"sentence\"] = dataset[2]\n",
    "    \n",
    "    #Dropping unwanted columns\n",
    "    dataset = dataset.drop(labels=[0,1,2,3,4,5,6,7,8,9,10,11,12,13] ,axis=1)\n",
    "    dataset.dropna() #Dropping if there are still any null values\n",
    "    return dataset"
   ]
  },
  {
   "cell_type": "code",
   "execution_count": 6,
   "id": "cab54793",
   "metadata": {
    "scrolled": true
   },
   "outputs": [
    {
     "data": {
      "text/html": [
       "<div>\n",
       "<style scoped>\n",
       "    .dataframe tbody tr th:only-of-type {\n",
       "        vertical-align: middle;\n",
       "    }\n",
       "\n",
       "    .dataframe tbody tr th {\n",
       "        vertical-align: top;\n",
       "    }\n",
       "\n",
       "    .dataframe thead th {\n",
       "        text-align: right;\n",
       "    }\n",
       "</style>\n",
       "<table border=\"1\" class=\"dataframe\">\n",
       "  <thead>\n",
       "    <tr style=\"text-align: right;\">\n",
       "      <th></th>\n",
       "      <th>label</th>\n",
       "      <th>14</th>\n",
       "      <th>sentence</th>\n",
       "    </tr>\n",
       "  </thead>\n",
       "  <tbody>\n",
       "    <tr>\n",
       "      <th>0</th>\n",
       "      <td>0</td>\n",
       "      <td>abortion dwayne-bohac State representative Tex...</td>\n",
       "      <td>Says the Annies List political group supports ...</td>\n",
       "    </tr>\n",
       "    <tr>\n",
       "      <th>1</th>\n",
       "      <td>0</td>\n",
       "      <td>energy,history,job-accomplishments scott-surov...</td>\n",
       "      <td>When did the decline of coal start? It started...</td>\n",
       "    </tr>\n",
       "    <tr>\n",
       "      <th>2</th>\n",
       "      <td>1</td>\n",
       "      <td>foreign-policy barack-obama President Illinois...</td>\n",
       "      <td>Hillary Clinton agrees with John McCain \"by vo...</td>\n",
       "    </tr>\n",
       "  </tbody>\n",
       "</table>\n",
       "</div>"
      ],
      "text/plain": [
       "   label                                                 14  \\\n",
       "0      0  abortion dwayne-bohac State representative Tex...   \n",
       "1      0  energy,history,job-accomplishments scott-surov...   \n",
       "2      1  foreign-policy barack-obama President Illinois...   \n",
       "\n",
       "                                            sentence  \n",
       "0  Says the Annies List political group supports ...  \n",
       "1  When did the decline of coal start? It started...  \n",
       "2  Hillary Clinton agrees with John McCain \"by vo...  "
      ]
     },
     "execution_count": 6,
     "metadata": {},
     "output_type": "execute_result"
    }
   ],
   "source": [
    "#Applying reduce_classes to the raw data - train, valid and test sets\n",
    "data_train = combine_classes(data_train)\n",
    "data_valid = combine_classes(data_valid)\n",
    "data_test = combine_classes(data_test)\n",
    "data_train.head(3)\n"
   ]
  },
  {
   "cell_type": "code",
   "execution_count": 7,
   "id": "7c06371b",
   "metadata": {
    "scrolled": true
   },
   "outputs": [
    {
     "data": {
      "text/plain": [
       "0    0.644727\n",
       "1    0.355273\n",
       "Name: label, dtype: float64"
      ]
     },
     "execution_count": 7,
     "metadata": {},
     "output_type": "execute_result"
    }
   ],
   "source": [
    "#Viewing count of data in seprate of labels\n",
    "data_train['label'].value_counts(normalize='true')"
   ]
  },
  {
   "cell_type": "markdown",
   "id": "1dc847d3",
   "metadata": {},
   "source": [
    "Preproccesing"
   ]
  },
  {
   "cell_type": "code",
   "execution_count": 8,
   "id": "8a96a53f",
   "metadata": {},
   "outputs": [],
   "source": [
    "#importing required packages  \n",
    "from nltk.tokenize import word_tokenize\n",
    "from nltk.corpus import stopwords\n",
    "from nltk.stem import WordNetLemmatizer\n",
    "from nltk.stem.porter import PorterStemmer\n",
    "\n",
    "def data_preprocessing(dataset):\n",
    "    preprocessed_texts = []\n",
    "    for text in dataset:\n",
    "        # convert to lowercase\n",
    "        text = text.lower()    \n",
    "        # tokenize text\n",
    "        tokens = word_tokenize(text)\n",
    "        # remove punctuation and irrelevant characters\n",
    "        filtered_tokens = [token for token in tokens if token.isalnum()]\n",
    "        # remove stop words\n",
    "        stop_words = set(stopwords.words('english'))\n",
    "        filtered_tokens = [token for token in filtered_tokens if not token in stop_words]\n",
    "        # lemmatize tokens\n",
    "        lemmatizer = WordNetLemmatizer()\n",
    "        filtered_tokens = [lemmatizer.lemmatize(token) for token in filtered_tokens]\n",
    "        # stem tokens\n",
    "        stemmer = PorterStemmer()\n",
    "        filtered_tokens = [stemmer.stem(token) for token in filtered_tokens]\n",
    "        # join tokens back into string\n",
    "        preprocessed_text = ' '.join(filtered_tokens)\n",
    "        preprocessed_texts.append(preprocessed_text)\n",
    "    return preprocessed_texts"
   ]
  },
  {
   "cell_type": "code",
   "execution_count": 9,
   "id": "166413b0",
   "metadata": {
    "scrolled": false
   },
   "outputs": [
    {
     "data": {
      "text/html": [
       "<div>\n",
       "<style scoped>\n",
       "    .dataframe tbody tr th:only-of-type {\n",
       "        vertical-align: middle;\n",
       "    }\n",
       "\n",
       "    .dataframe tbody tr th {\n",
       "        vertical-align: top;\n",
       "    }\n",
       "\n",
       "    .dataframe thead th {\n",
       "        text-align: right;\n",
       "    }\n",
       "</style>\n",
       "<table border=\"1\" class=\"dataframe\">\n",
       "  <thead>\n",
       "    <tr style=\"text-align: right;\">\n",
       "      <th></th>\n",
       "      <th>label</th>\n",
       "      <th>sentence</th>\n",
       "    </tr>\n",
       "  </thead>\n",
       "  <tbody>\n",
       "    <tr>\n",
       "      <th>0</th>\n",
       "      <td>0</td>\n",
       "      <td>say anni list polit group support abort demand...</td>\n",
       "    </tr>\n",
       "    <tr>\n",
       "      <th>1</th>\n",
       "      <td>0</td>\n",
       "      <td>declin coal start start natur ga took start be...</td>\n",
       "    </tr>\n",
       "    <tr>\n",
       "      <th>2</th>\n",
       "      <td>1</td>\n",
       "      <td>hillari clinton agre john mccain vote give geo...</td>\n",
       "    </tr>\n",
       "    <tr>\n",
       "      <th>3</th>\n",
       "      <td>0</td>\n",
       "      <td>health care reform legisl like mandat free sex...</td>\n",
       "    </tr>\n",
       "    <tr>\n",
       "      <th>4</th>\n",
       "      <td>0</td>\n",
       "      <td>econom turnaround start end term economy,jobs ...</td>\n",
       "    </tr>\n",
       "  </tbody>\n",
       "</table>\n",
       "</div>"
      ],
      "text/plain": [
       "   label                                           sentence\n",
       "0      0  say anni list polit group support abort demand...\n",
       "1      0  declin coal start start natur ga took start be...\n",
       "2      1  hillari clinton agre john mccain vote give geo...\n",
       "3      0  health care reform legisl like mandat free sex...\n",
       "4      0  econom turnaround start end term economy,jobs ..."
      ]
     },
     "execution_count": 9,
     "metadata": {},
     "output_type": "execute_result"
    }
   ],
   "source": [
    "#Applying pre-processing to the raw data - train, valid and test sets\n",
    "data_train['sentence'] = data_preprocessing(data_train['sentence'])\n",
    "data_valid['sentence'] = data_preprocessing(data_valid['sentence'])\n",
    "data_test['sentence'] = data_preprocessing(data_test['sentence'])\n",
    "\n",
    "data_train[\"sentence\"] = data_train[\"sentence\"] + \" \" + data_train[14].astype('str') #Combining metadata and the text columns into single columns\n",
    "data_valid[\"sentence\"] = data_valid[\"sentence\"] + \" \" + data_valid[14].astype('str') #Combining metadata and the text columns into single columns\n",
    "data_test[\"sentence\"] = data_test[\"sentence\"] + \" \" + data_test[14].astype('str') #Combining metadata and the text columns into single columns\n",
    "\n",
    "data_train = data_train.drop(labels=[14] ,axis=1)\n",
    "data_valid = data_valid.drop(labels=[14] ,axis=1)\n",
    "data_test = data_test.drop(labels=[14] ,axis=1)\n",
    "\n",
    "#Sample data after preprocessing\n",
    "data_train.head(5)"
   ]
  },
  {
   "cell_type": "markdown",
   "id": "d687b1fb",
   "metadata": {},
   "source": [
    "Feature engineering"
   ]
  },
  {
   "cell_type": "code",
   "execution_count": 11,
   "id": "b3e84986",
   "metadata": {},
   "outputs": [],
   "source": [
    "# from sklearn.feature_extraction.text import TfidfVectorizer\n",
    "\n",
    "# def feature_engineering(dataset):\n",
    "#     preprocessed_texts = dataset['sentence']   \n",
    "#     tfidf_vect = TfidfVectorizer(ngram_range=(2, 2))\n",
    "#     tfidf_matrix = tfidf_vect.fit_transform(preprocessed_texts)\n",
    "#     tfidf_matrix.sort_indices()\n",
    "#     return tfidf_matrix"
   ]
  },
  {
   "cell_type": "code",
   "execution_count": 12,
   "id": "d3141724",
   "metadata": {},
   "outputs": [],
   "source": [
    "# from sklearn.decomposition import TruncatedSVD\n",
    "\n",
    "# def reduce_dimension_SVD(data_matrix):\n",
    "#     svd_model = TruncatedSVD(n_components=200)\n",
    "#     svd_matrix = svd_model.fit_transform(data_matrix)\n",
    "#     return svd_matrix"
   ]
  },
  {
   "cell_type": "code",
   "execution_count": 13,
   "id": "dc2397ce",
   "metadata": {},
   "outputs": [
    {
     "name": "stdout",
     "output_type": "stream",
     "text": [
      "83596\n"
     ]
    }
   ],
   "source": [
    "# #Applying feature_engineering to the preproccessed data - train, valid and test sets\n",
    "# X_features_train = feature_engineering(data_train)\n",
    "# X_features_valid = feature_engineering(data_valid)\n",
    "# X_features_test = feature_engineering(data_test)\n",
    "\n",
    "# # X_features_train = reduce_dimension_SVD(X_features_train)\n",
    "# # X_features_valid = reduce_dimension_SVD(X_features_valid)\n",
    "# # X_features_test = reduce_dimension_SVD(X_features_test)\n",
    "# print(X_features_train.shape[1])\n"
   ]
  },
  {
   "cell_type": "code",
   "execution_count": 13,
   "id": "ad4c38ca",
   "metadata": {
    "scrolled": false
   },
   "outputs": [
    {
     "data": {
      "image/png": "[encoded data removed]",
      "text/plain": [
       "<Figure size 720x504 with 1 Axes>"
      ]
     },
     "metadata": {
      "needs_background": "light"
     },
     "output_type": "display_data"
    },
    {
     "data": {
      "image/png": "[encoded data removed]",
      "text/plain": [
       "<Figure size 720x504 with 1 Axes>"
      ]
     },
     "metadata": {
      "needs_background": "light"
     },
     "output_type": "display_data"
    }
   ],
   "source": [
    "#Analyzing length of sentences in training data to decide on MAX_LENGTH variable, which is required for mlp and deep_leaner\n",
    "\n",
    "sent_len = []\n",
    "for sent in data_train['sentence']:\n",
    "  sent_len.append(len(sent))\n",
    "\n",
    "import matplotlib.pyplot as plt\n",
    "\n",
    "fig = plt.figure(figsize =(10, 7))\n",
    "plt.boxplot(sent_len)\n",
    "plt.show()\n",
    "\n",
    "sent_len = [i for i in sent_len if i<=500] #Excluding the outliers\n",
    "fig2 = plt.figure(figsize =(10, 7))\n",
    "plt.hist(sent_len, 5)\n",
    "plt.show()"
   ]
  },
  {
   "cell_type": "markdown",
   "id": "14713685",
   "metadata": {},
   "source": [
    "First plot:The x-axis represents the sentence length, while the y-axis represents the distribution of lengths.\n",
    "\n",
    "Second Histogram: It shows a histogram of the sentence lengths after excluding any outliers greater than 500 characters From the above histogram. The x-axis represents the range of sentence lengths, divided into bins (in this case, 5 bins), and the y-axis represents the frequency or count of sentences falling within each bin.The histogram provides insight into the distribution of sentence lengths and highlights any patterns or concentration of lengths within the dataset.\n",
    "\n",
    "we can see that, majority of the sentences are in the range of 100-150 and the maximum is near 300."
   ]
  },
  {
   "cell_type": "code",
   "execution_count": null,
   "id": "73e66cae",
   "metadata": {},
   "outputs": [],
   "source": [
    "#Vectorize\n",
    "data_train_valid = pd.concat([data_train, data_valid])\n",
    "X_train_valid = data_train_valid['sentence']\n",
    "y_train_valid = data_train_valid['label']\n",
    "X_test = data_test['sentence']\n",
    "y_test = data_test['label']\n",
    "\n",
    "tdif_vec=TfidfVectorizer(stop_words= 'english',max_df=0.7) \n",
    "xtrain_vec=tdif_vec.fit_transform(X_train_valid)\n",
    "xtest_vec=tdif_vec.transform(data_test)\n",
    "\n",
    "#Apply Models\n",
    "classifiers=[PassiveAggressiveClassifier(max_iter=50),SVC(),LogisticRegression(max_iter=150),RandomForestClassifier(random_state=0),MultinomialNB()]\n",
    "predictions=[]\n",
    "model_time=[]\n",
    "auc_scores=[]\n",
    "for i in classifiers:\n",
    "    start = time.time() \n",
    "    Fit=i.fit(xtrain_vec,y_train_valid)\n",
    "    end = time.time()\n",
    "    mt=end-start #Measures the different training times for each model\n",
    "    model_time.append(mt)\n",
    "    pred=Fit.predict(xtest_vec)\n",
    "    predictions.append(pred)\n",
    "    if 'decision_function' in dir(i):\n",
    "        confidence_val=i.decision_function(xtest_vec)\n",
    "        auc = roc_auc_score(y_test,confidence_val)\n",
    "        auc_scores.append(auc)\n",
    "    else:\n",
    "        confidence_val=i.predict_proba(xtest_vec)[::,1]\n",
    "        auc = roc_auc_score(y_test,confidence_val)\n",
    "        auc_scores.append(auc)\n",
    "  \n",
    "#Evaluation\n",
    "accuracy_scores=[]\n",
    "f1_scores=[]\n",
    "for i in predictions:\n",
    "    accuracy_scores.append(accuracy_score(y_test,i))\n",
    "    f1_scores.append(f1_score(y_test, i, average='macro'))\n",
    "\n",
    "model_eval = pd.DataFrame(list(zip(auc_scores,accuracy_scores,f1_scores,model_time)), index =['PassiveAggressive', 'SVC', 'LogisticRegression','Random Forest','Naive Bayes'],\n",
    "                                              columns =['AUC','Accuracy','F1','Train_time(sec)'])\n",
    "model_eval.sort_values(by='AUC',ascending=False)"
   ]
  },
  {
   "cell_type": "markdown",
   "id": "65f2b8be",
   "metadata": {},
   "source": [
    "Ensemble Model"
   ]
  },
  {
   "cell_type": "code",
   "execution_count": 40,
   "id": "6a539f4a",
   "metadata": {},
   "outputs": [],
   "source": [
    "from tensorflow.keras.models import Sequential\n",
    "from tensorflow.keras.layers import Embedding, LSTM, Dense, Dropout\n",
    "from keras.utils.vis_utils import plot_model\n",
    "\n",
    "def create_ensemble_models(X_train, y_train, X_val, y_val):\n",
    "    num_models = 3\n",
    "    models = []\n",
    "    \n",
    "    for i in range(num_models):\n",
    "        model = Sequential()\n",
    "        \n",
    "        model.add(Embedding(vocab_size, 100, input_length=max_len))\n",
    "        model.add(LSTM(128, dropout=0.2, recurrent_dropout=0.2, name=f'lstm_layer_{i}'))\n",
    "        #model.add(Dense(64, activation='relu'))\n",
    "        model.add(Dense(1, activation='sigmoid'))\n",
    "        \n",
    "        model.compile(loss='binary_crossentropy', optimizer='adam', metrics=['accuracy'])\n",
    "        model.fit(X_train, y_train, validation_data=(X_val, y_val), epochs=5, batch_size=64)\n",
    "        \n",
    "        models.append(model)\n",
    "\n",
    "    return models"
   ]
  },
  {
   "cell_type": "code",
   "execution_count": 36,
   "id": "786f6d4e",
   "metadata": {},
   "outputs": [],
   "source": [
    "from tensorflow.keras.models import Sequential\n",
    "from tensorflow.keras.layers import Embedding, LSTM, Dense, Dropout\n",
    "from tensorflow.keras.initializers import GlorotNormal as xavier_glorot_initialization\n",
    "\n",
    "def create_ensemble_models1(X_train, y_train, X_val, y_val):\n",
    "    num_models = 2\n",
    "    models = []\n",
    "    \n",
    "    for i in range(num_models):\n",
    "        #weights = xavier_glorot_initialization(seed=None)\n",
    "        model = Sequential()\n",
    "        model.add(Embedding(vocab_size, 100, input_length=max_len))     \n",
    "        model.add(Dense(128, activation='relu' ))      \n",
    "        model.add(LSTM(64, dropout=0.2, recurrent_dropout=0.2, return_sequences=True))                   \n",
    "        model.add(Dense(32, activation='relu' ))\n",
    "        model.add(Dense(16, activation='relu' ))\n",
    "        model.add(Dense(1, activation='sigmoid' ))\n",
    "\n",
    "        #plot_model(model, to_file='neural_network.png', show_shapes=True)\n",
    "        \n",
    "        model.compile(loss='binary_crossentropy', optimizer='adam', metrics=['accuracy'])\n",
    "        model.fit(X_train, y_train, validation_data=(X_val, y_val), epochs=5, batch_size=64)\n",
    "        \n",
    "        models.append(model)\n",
    "    return models"
   ]
  },
  {
   "cell_type": "code",
   "execution_count": 15,
   "id": "8a1e87e8",
   "metadata": {},
   "outputs": [],
   "source": [
    "def get_ensemble_weights(X_valid, y_valid, models):\n",
    "    weights = []\n",
    "    for model in models:\n",
    "        accuracy = model.evaluate(X_valid, y_valid)[1]\n",
    "        weights.append(accuracy)\n",
    "\n",
    "    total_weights = sum(weights)\n",
    "    normalized_weights = [weight / total_weights for weight in weights]\n",
    "\n",
    "    return normalized_weights"
   ]
  },
  {
   "cell_type": "code",
   "execution_count": 45,
   "id": "31e946dd",
   "metadata": {},
   "outputs": [],
   "source": [
    "import numpy as np\n",
    "\n",
    "def predict_ensemble_models(X_valid, X_test, y_valid, y_test, models, weights):\n",
    "    # Make predictions on the validation set\n",
    "    y_pred_ensemble_valid = np.zeros_like(y_valid, dtype=np.float64)\n",
    "    for i in range(len(models)):\n",
    "        y_pred_valid = models[i].predict(X_valid)\n",
    "        y_pred_ensemble_valid += np.squeeze((y_pred_valid > 0.5).astype(int)) * weights[i]\n",
    "\n",
    "    y_pred_ensemble_valid /= np.sum(weights)\n",
    "    y_pred_ensemble_valid = np.round(y_pred_ensemble_valid).astype(int)\n",
    "\n",
    "    # Make predictions on the test set\n",
    "    y_pred_ensemble = np.zeros_like(y_test, dtype=np.float64)\n",
    "    for i in range(len(models)):\n",
    "        y_pred = models[i].predict(X_test)\n",
    "        y_pred_ensemble += np.squeeze((y_pred > 0.5).astype(int)) * weights[i]\n",
    "\n",
    "    y_pred_ensemble /= np.sum(weights)\n",
    "    y_pred_ensemble = np.round(y_pred_ensemble).astype(int)\n",
    "\n",
    "    return y_pred_ensemble_valid, y_pred_ensemble"
   ]
  },
  {
   "cell_type": "code",
   "execution_count": 38,
   "id": "8c6ca766",
   "metadata": {},
   "outputs": [],
   "source": [
    "#part 1\n",
    "import numpy as np\n",
    "from tensorflow.keras.preprocessing.text import Tokenizer\n",
    "from tensorflow.keras.preprocessing.sequence import pad_sequences\n",
    "\n",
    "tokenizer = Tokenizer()\n",
    "tokenizer.fit_on_texts(data_train['sentence'])\n",
    "vocab_size = len(tokenizer.word_index) + 1\n",
    "\n",
    "X_train = tokenizer.texts_to_sequences(data_train['sentence'])\n",
    "X_valid = tokenizer.texts_to_sequences(data_valid['sentence'])\n",
    "X_test = tokenizer.texts_to_sequences(data_test['sentence'])\n",
    "\n",
    "max_len = 150  # Define the maximum sequence length\n",
    "X_train = pad_sequences(X_train, maxlen=max_len)\n",
    "X_valid = pad_sequences(X_valid, maxlen=max_len)\n",
    "X_test = pad_sequences(X_test, maxlen=max_len)\n",
    "\n",
    "y_train = np.array(data_train['label'])  # Convert to numpy array\n",
    "y_valid = np.array(data_valid['label'])  # Convert to numpy array\n",
    "y_test = np.array(data_test['label'])  # Convert to numpy array"
   ]
  },
  {
   "cell_type": "code",
   "execution_count": 41,
   "id": "36219cc2",
   "metadata": {
    "scrolled": true
   },
   "outputs": [
    {
     "name": "stdout",
     "output_type": "stream",
     "text": [
      "Epoch 1/5\n",
      "160/160 [==============================] - 95s 579ms/step - loss: 0.6358 - accuracy: 0.6441 - val_loss: 0.6011 - val_accuracy: 0.6729\n",
      "Epoch 2/5\n",
      "160/160 [==============================] - 95s 591ms/step - loss: 0.5694 - accuracy: 0.6935 - val_loss: 0.5992 - val_accuracy: 0.6846\n",
      "Epoch 3/5\n",
      "160/160 [==============================] - 96s 601ms/step - loss: 0.4735 - accuracy: 0.7686 - val_loss: 0.6139 - val_accuracy: 0.6776\n",
      "Epoch 4/5\n",
      "160/160 [==============================] - 99s 621ms/step - loss: 0.3819 - accuracy: 0.8268 - val_loss: 0.7282 - val_accuracy: 0.6604\n",
      "Epoch 5/5\n",
      "160/160 [==============================] - 99s 620ms/step - loss: 0.3032 - accuracy: 0.8662 - val_loss: 0.8297 - val_accuracy: 0.6223\n",
      "Epoch 1/5\n",
      "160/160 [==============================] - 93s 570ms/step - loss: 0.6362 - accuracy: 0.6450 - val_loss: 0.5924 - val_accuracy: 0.6799\n",
      "Epoch 2/5\n",
      "160/160 [==============================] - 90s 562ms/step - loss: 0.5600 - accuracy: 0.7062 - val_loss: 0.6103 - val_accuracy: 0.6846\n",
      "Epoch 3/5\n",
      "160/160 [==============================] - 91s 570ms/step - loss: 0.4703 - accuracy: 0.7746 - val_loss: 0.6505 - val_accuracy: 0.6628\n",
      "Epoch 4/5\n",
      "160/160 [==============================] - 99s 618ms/step - loss: 0.3788 - accuracy: 0.8305 - val_loss: 0.7450 - val_accuracy: 0.6791\n",
      "Epoch 5/5\n",
      "160/160 [==============================] - 98s 612ms/step - loss: 0.3010 - accuracy: 0.8708 - val_loss: 0.9952 - val_accuracy: 0.6659\n",
      "Epoch 1/5\n",
      "160/160 [==============================] - 96s 592ms/step - loss: 0.6377 - accuracy: 0.6453 - val_loss: 0.6037 - val_accuracy: 0.6776\n",
      "Epoch 2/5\n",
      "160/160 [==============================] - 98s 611ms/step - loss: 0.5644 - accuracy: 0.7043 - val_loss: 0.6046 - val_accuracy: 0.6885\n",
      "Epoch 3/5\n",
      "160/160 [==============================] - 96s 600ms/step - loss: 0.4690 - accuracy: 0.7754 - val_loss: 0.6583 - val_accuracy: 0.6682\n",
      "Epoch 4/5\n",
      "160/160 [==============================] - 93s 582ms/step - loss: 0.3722 - accuracy: 0.8372 - val_loss: 0.6702 - val_accuracy: 0.6534\n",
      "Epoch 5/5\n",
      "160/160 [==============================] - 98s 614ms/step - loss: 0.2907 - accuracy: 0.8758 - val_loss: 0.7981 - val_accuracy: 0.6433\n"
     ]
    }
   ],
   "source": [
    "#Part2 : Create ensemble model\n",
    "models = create_ensemble_models(X_train, y_train,X_valid, y_valid)"
   ]
  },
  {
   "cell_type": "code",
   "execution_count": 42,
   "id": "8b0b9c2c",
   "metadata": {},
   "outputs": [
    {
     "name": "stdout",
     "output_type": "stream",
     "text": [
      "41/41 [==============================] - 2s 36ms/step - loss: 0.8297 - accuracy: 0.6223\n",
      "41/41 [==============================] - 1s 35ms/step - loss: 0.9952 - accuracy: 0.6659\n",
      "41/41 [==============================] - 2s 45ms/step - loss: 0.7981 - accuracy: 0.6433\n"
     ]
    }
   ],
   "source": [
    "weights_ensemble = get_ensemble_weights(X_valid, y_valid, models)\n"
   ]
  },
  {
   "cell_type": "code",
   "execution_count": 43,
   "id": "dc76244e",
   "metadata": {},
   "outputs": [
    {
     "data": {
      "text/plain": [
       "[0.32217742473042094, 0.34475805157491257, 0.3330645236946665]"
      ]
     },
     "execution_count": 43,
     "metadata": {},
     "output_type": "execute_result"
    }
   ],
   "source": [
    "weights_ensemble"
   ]
  },
  {
   "cell_type": "code",
   "execution_count": 46,
   "id": "01509fa7",
   "metadata": {
    "scrolled": true
   },
   "outputs": [
    {
     "name": "stdout",
     "output_type": "stream",
     "text": [
      "41/41 [==============================] - 2s 34ms/step\n",
      "41/41 [==============================] - 2s 34ms/step\n",
      "41/41 [==============================] - 2s 34ms/step\n",
      "40/40 [==============================] - 1s 34ms/step\n",
      "40/40 [==============================] - 1s 34ms/step\n",
      "40/40 [==============================] - 2s 42ms/step\n"
     ]
    }
   ],
   "source": [
    "y_pred_ensemble_valid, y_pred_ensemble = predict_ensemble_models(X_valid, X_test, y_valid, y_test, models,weights_ensemble)"
   ]
  },
  {
   "cell_type": "code",
   "execution_count": 47,
   "id": "964e3603",
   "metadata": {},
   "outputs": [
    {
     "data": {
      "image/png": "[encoded data removed]",
      "text/plain": [
       "<Figure size 432x288 with 1 Axes>"
      ]
     },
     "metadata": {
      "needs_background": "light"
     },
     "output_type": "display_data"
    }
   ],
   "source": [
    "#Visualizing distribution of predeiction of ensemble clas\n",
    "class_counts = np.bincount(y_pred_ensemble)\n",
    "# Create a bar plot\n",
    "plt.bar(range(len(class_counts)), class_counts)\n",
    "class_labels = ['Fake', 'Real']\n",
    "\n",
    "# Set the x-axis tick labels to the class labels\n",
    "plt.xticks(range(len(class_counts)), class_labels)\n",
    "\n",
    "# Set the plot title and axes labels\n",
    "plt.title('Distribution of Classifications')\n",
    "plt.xlabel('Class')\n",
    "plt.ylabel('Count')\n",
    "\n",
    "# Display the plot\n",
    "plt.show()"
   ]
  },
  {
   "cell_type": "code",
   "execution_count": 48,
   "id": "6e6974bc",
   "metadata": {
    "scrolled": false
   },
   "outputs": [
    {
     "name": "stdout",
     "output_type": "stream",
     "text": [
      "Ensemble F1-score: 0.6053670086819258\n",
      "Classification Report:\n",
      "              precision    recall  f1-score   support\n",
      "\n",
      "           0       0.70      0.68      0.69       818\n",
      "           1       0.45      0.47      0.46       449\n",
      "\n",
      "    accuracy                           0.61      1267\n",
      "   macro avg       0.57      0.58      0.57      1267\n",
      "weighted avg       0.61      0.61      0.61      1267\n",
      "\n"
     ]
    }
   ],
   "source": [
    "from sklearn.metrics import f1_score, classification_report\n",
    "\n",
    "# Print classification report\n",
    "f_score = f1_score(data_test['label'], y_pred_ensemble, average='micro')\n",
    "print(\"Ensemble F1-score:\", f_score)\n",
    "print(\"Classification Report:\")\n",
    "print(classification_report(data_test['label'], y_pred_ensemble))"
   ]
  },
  {
   "cell_type": "markdown",
   "id": "b69c6c69",
   "metadata": {},
   "source": [
    "Custom MLP Classifier"
   ]
  },
  {
   "cell_type": "code",
   "execution_count": 8,
   "id": "aa95607a",
   "metadata": {
    "scrolled": false
   },
   "outputs": [
    {
     "name": "stdout",
     "output_type": "stream",
     "text": [
      "Requirement already satisfied: transformers in c:\\users\\diba\\appdata\\local\\programs\\python\\python39\\lib\\site-packages (4.37.1)\n",
      "Requirement already satisfied: filelock in c:\\users\\diba\\appdata\\local\\programs\\python\\python39\\lib\\site-packages (from transformers) (3.13.1)\n",
      "Requirement already satisfied: huggingface-hub<1.0,>=0.19.3 in c:\\users\\diba\\appdata\\local\\programs\\python\\python39\\lib\\site-packages (from transformers) (0.20.3)\n",
      "Requirement already satisfied: numpy>=1.17 in c:\\users\\diba\\appdata\\local\\programs\\python\\python39\\lib\\site-packages (from transformers) (1.23.5)\n",
      "Requirement already satisfied: packaging>=20.0 in c:\\users\\diba\\appdata\\roaming\\python\\python39\\site-packages (from transformers) (21.3)\n",
      "Requirement already satisfied: pyyaml>=5.1 in c:\\users\\diba\\appdata\\local\\programs\\python\\python39\\lib\\site-packages (from transformers) (6.0.1)\n",
      "Requirement already satisfied: regex!=2019.12.17 in c:\\users\\diba\\appdata\\local\\programs\\python\\python39\\lib\\site-packages (from transformers) (2023.6.3)\n",
      "Requirement already satisfied: requests in c:\\users\\diba\\appdata\\local\\programs\\python\\python39\\lib\\site-packages (from transformers) (2.31.0)\n",
      "Requirement already satisfied: tokenizers<0.19,>=0.14 in c:\\users\\diba\\appdata\\local\\programs\\python\\python39\\lib\\site-packages (from transformers) (0.15.1)\n",
      "Requirement already satisfied: safetensors>=0.3.1 in c:\\users\\diba\\appdata\\local\\programs\\python\\python39\\lib\\site-packages (from transformers) (0.4.2)\n",
      "Requirement already satisfied: tqdm>=4.27 in c:\\users\\diba\\appdata\\local\\programs\\python\\python39\\lib\\site-packages (from transformers) (4.65.0)\n",
      "Requirement already satisfied: fsspec>=2023.5.0 in c:\\users\\diba\\appdata\\local\\programs\\python\\python39\\lib\\site-packages (from huggingface-hub<1.0,>=0.19.3->transformers) (2023.12.2)\n",
      "Requirement already satisfied: typing-extensions>=3.7.4.3 in c:\\users\\diba\\appdata\\local\\programs\\python\\python39\\lib\\site-packages (from huggingface-hub<1.0,>=0.19.3->transformers) (4.6.3)\n",
      "Requirement already satisfied: pyparsing!=3.0.5,>=2.0.2 in c:\\users\\diba\\appdata\\local\\programs\\python\\python39\\lib\\site-packages (from packaging>=20.0->transformers) (2.4.7)\n",
      "Requirement already satisfied: colorama in c:\\users\\diba\\appdata\\roaming\\python\\python39\\site-packages (from tqdm>=4.27->transformers) (0.4.4)\n",
      "Requirement already satisfied: charset-normalizer<4,>=2 in c:\\users\\diba\\appdata\\local\\programs\\python\\python39\\lib\\site-packages (from requests->transformers) (3.1.0)\n",
      "Requirement already satisfied: idna<4,>=2.5 in c:\\users\\diba\\appdata\\local\\programs\\python\\python39\\lib\\site-packages (from requests->transformers) (3.4)\n",
      "Requirement already satisfied: urllib3<3,>=1.21.1 in c:\\users\\diba\\appdata\\local\\programs\\python\\python39\\lib\\site-packages (from requests->transformers) (1.26.16)\n",
      "Requirement already satisfied: certifi>=2017.4.17 in c:\\users\\diba\\appdata\\local\\programs\\python\\python39\\lib\\site-packages (from requests->transformers) (2023.5.7)\n",
      "Note: you may need to restart the kernel to use updated packages.\n"
     ]
    }
   ],
   "source": [
    "pip install transformers"
   ]
  },
  {
   "cell_type": "code",
   "execution_count": 9,
   "id": "fbe79550",
   "metadata": {},
   "outputs": [
    {
     "ename": "ImportError",
     "evalue": "cannot import name 'mlpForSequenceClassification' from 'transformers' (c:\\users\\diba\\appdata\\local\\programs\\python\\python39\\lib\\site-packages\\transformers\\__init__.py)",
     "output_type": "error",
     "traceback": [
      "\u001b[1;31m---------------------------------------------------------------------------\u001b[0m",
      "\u001b[1;31mImportError\u001b[0m                               Traceback (most recent call last)",
      "\u001b[1;32m~\\AppData\\Local\\Temp/ipykernel_15712/3418771169.py\u001b[0m in \u001b[0;36m<module>\u001b[1;34m\u001b[0m\n\u001b[1;32m----> 1\u001b[1;33m from transformers import (\n\u001b[0m\u001b[0;32m      2\u001b[0m     \u001b[0mmlpForSequenceClassification\u001b[0m\u001b[1;33m,\u001b[0m\u001b[1;33m\u001b[0m\u001b[1;33m\u001b[0m\u001b[0m\n\u001b[0;32m      3\u001b[0m     \u001b[0mmlpTokenizer\u001b[0m\u001b[1;33m,\u001b[0m\u001b[1;33m\u001b[0m\u001b[1;33m\u001b[0m\u001b[0m\n\u001b[0;32m      4\u001b[0m     \u001b[0mdeep_leanerForSequenceClassification\u001b[0m\u001b[1;33m,\u001b[0m\u001b[1;33m\u001b[0m\u001b[1;33m\u001b[0m\u001b[0m\n\u001b[0;32m      5\u001b[0m     \u001b[0mdeep_leanerTokenizer\u001b[0m\u001b[1;33m,\u001b[0m\u001b[1;33m\u001b[0m\u001b[1;33m\u001b[0m\u001b[0m\n",
      "\u001b[1;31mImportError\u001b[0m: cannot import name 'mlpForSequenceClassification' from 'transformers' (c:\\users\\diba\\appdata\\local\\programs\\python\\python39\\lib\\site-packages\\transformers\\__init__.py)"
     ]
    }
   ],
   "source": [
    "from transformers import (\n",
    "    mlpForSequenceClassification,    \n",
    "    mlpTokenizer,\n",
    "    deep_leanerForSequenceClassification,\n",
    "    deep_leanerTokenizer,\n",
    "    AdamW)\n",
    "\n",
    "# Loading mlp base model\n",
    "mlp_model = mlpForSequenceClassification.from_pretrained(\"mlp-base-uncased\", #Using mlp base model with an uncased vocab.\n",
    "                                                                num_labels = 2, #number of output labels - 0,1 (binary classification)\n",
    "                                                                output_attentions = False, #model doesnt return attention weights\n",
    "                                                                output_hidden_states = False #model doesnt return hidden states\n",
    "                                                          )\n",
    "#mlp tokenizer\n",
    "mlp_tokenizer = mlpTokenizer.from_pretrained(\"mlp-base-uncased\", do_lower_case=True)\n",
    "\n",
    "# Tell pytorch to run this model on the GPU.\n",
    "mlp_model.cuda()\n",
    "\n",
    "# Loading deep_leaner base model\n",
    "deep_leaner_model = deep_leanerForSequenceClassification.from_pretrained(\"deep_leaner-base\", #deep_leaner base model\n",
    "                                                                    num_labels = 2,  #number of output labels - 0,1 (binary classification)\n",
    "                                                                    output_attentions = False,  #model doesnt return attention weights\n",
    "                                                                    output_hidden_states = False #model doesnt return hidden states\n",
    "                                                                )\n",
    "#deep_leaner tokenizer\n",
    "deep_leaner_tokenizer = deep_leanerTokenizer.from_pretrained(\"deep_leaner-base\", do_lower_case=True)\n",
    "\n",
    "# Tell pytorch to run this model on the GPU.\n",
    "deep_leaner_model.cuda()\n",
    "\n",
    "print(' Base models loaded') "
   ]
  },
  {
   "cell_type": "markdown",
   "id": "6f598d40",
   "metadata": {},
   "source": [
    "MLP Classifier"
   ]
  },
  {
   "cell_type": "code",
   "execution_count": 40,
   "id": "7c3ffc4c",
   "metadata": {},
   "outputs": [],
   "source": [
    "weights=[]\n",
    "weights.append(models[0].layers[1].get_weights())\n",
    "weights.append(models[1].layers[1].get_weights())\n",
    "weights.append(models[2].layers[1].get_weights())\n"
   ]
  },
  {
   "cell_type": "code",
   "execution_count": 44,
   "id": "de4e01fb",
   "metadata": {},
   "outputs": [],
   "source": [
    "from sklearn.neural_network import MLPClassifier\n",
    "\n",
    "def build_mlp():\n",
    "    # Step 1: increase the training data with ensemble predictions\n",
    "    X_train_increased = np.concatenate((X_valid, y_pred_ensemble_valid[:len(X_valid)].reshape(-1, 1)), axis=1)\n",
    "    #X_train_increased = np.concatenate([X_valid] + reshaped_weights + [y_pred_ensemble_valid[:len(X_valid)].reshape(-1, 1)], axis=1)\n",
    "\n",
    "    mlp_classifier = MLPClassifier()\n",
    "    mlp_classifier.fit(X_train_increased, y_valid)\n",
    "\n",
    "    X_test_increased = np.concatenate((X_test, y_pred_ensemble.reshape(-1, 1)), axis=1)\n",
    "    #X_test_increased = np.concatenate([X_test] + reshaped_weights + [y_pred_ensemble[:len(X_test)].reshape(-1, 1)], axis=1)\n",
    "\n",
    "    mlp_predictions = mlp_classifier.predict(X_test_increased)\n",
    "    return mlp_predictions"
   ]
  },
  {
   "cell_type": "code",
   "execution_count": 45,
   "id": "e99636bb",
   "metadata": {
    "scrolled": true
   },
   "outputs": [],
   "source": [
    "\n",
    "\n",
    "mlp_predictions = build_mlp()"
   ]
  },
  {
   "cell_type": "code",
   "execution_count": 47,
   "id": "69097df0",
   "metadata": {
    "scrolled": true
   },
   "outputs": [
    {
     "name": "stdout",
     "output_type": "stream",
     "text": [
      "              precision    recall  f1-score   support\n",
      "\n",
      "           0       0.64      0.64      0.64       818\n",
      "           1       0.34      0.35      0.34       449\n",
      "\n",
      "    accuracy                           0.53      1267\n",
      "   macro avg       0.49      0.49      0.49      1267\n",
      "weighted avg       0.53      0.53      0.53      1267\n",
      "\n",
      "MLP F-score: 0.5327545382794001\n",
      "MLP Accuracy: 0.5327545382794001\n"
     ]
    }
   ],
   "source": [
    "from sklearn.metrics import accuracy_score\n",
    "\n",
    "# Calculate F-score and accuracy\n",
    "f_score = f1_score(y_test, mlp_predictions, average='micro')\n",
    "accuracy = accuracy_score(y_test, mlp_predictions)\n",
    "print(classification_report(y_test, mlp_predictions))\n",
    "\n",
    "print(\"MLP F-score:\", f_score)\n",
    "print(\"MLP Accuracy:\", accuracy)"
   ]
  },
  {
   "cell_type": "code",
   "execution_count": null,
   "id": "d28f92f5",
   "metadata": {},
   "outputs": [],
   "source": []
  }
 ],
 "metadata": {
  "kernelspec": {
   "display_name": "Python 3 (ipykernel)",
   "language": "python",
   "name": "python3"
  },
  "language_info": {
   "codemirror_mode": {
    "name": "ipython",
    "version": 3
   },
   "file_extension": ".py",
   "mimetype": "text/x-python",
   "name": "python",
   "nbconvert_exporter": "python",
   "pygments_lexer": "ipython3",
   "version": "3.9.5"
  }
 },
 "nbformat": 4,
 "nbformat_minor": 5
}
