{
 "cells": [
  {
   "cell_type": "markdown",
   "id": "b59b44b6",
   "metadata": {},
   "source": [
    "### Model 10 settings:\n",
    "\n",
    "We drop 'half-true' datas and combine classes to 2 classes.\n",
    "\n",
    "We did TFIDF on data for machine learning models.\n",
    "\n",
    "We did Word2Vec on data for deep learning models.\n",
    "\n",
    "Then we have full preproccesing on data.\n",
    "\n",
    "Stacking is by binary prediction of models.\n",
    "\n",
    "Embedding dim is 150\n"
   ]
  },
  {
   "cell_type": "code",
   "execution_count": 1,
   "id": "fd36c05c",
   "metadata": {},
   "outputs": [],
   "source": [
    "import pandas as pd\n",
    "import numpy as np  \n",
    "import matplotlib.pyplot as plt \n",
    "from sklearn.metrics import precision_recall_fscore_support\n",
    "import Scripts.Data_Read_Prepare as Data_Prepare\n",
    "import Scripts.Fake_News_Detection_SVM as SVM_classifier\n",
    "import Scripts.Fake_News_Detection_PA as PA_classifier\n",
    "import Scripts.Fake_News_Detection_XGBoost as XGBoost_classifier\n",
    "import Scripts.Fake_News_Detection_LSTM as LSTM_classifier\n",
    "import Scripts.Fake_News_Detection_BiLSTM as BiLSTM_classifier\n",
    "import Scripts.Fake_News_Detection_Stacked_MLP as MLP_classifier"
   ]
  },
  {
   "cell_type": "markdown",
   "id": "67217fef",
   "metadata": {},
   "source": [
    "Loading data from datasets"
   ]
  },
  {
   "cell_type": "code",
   "execution_count": 2,
   "id": "e5e43bb6",
   "metadata": {
    "scrolled": false
   },
   "outputs": [
    {
     "data": {
      "text/html": [
       "<div>\n",
       "<style scoped>\n",
       "    .dataframe tbody tr th:only-of-type {\n",
       "        vertical-align: middle;\n",
       "    }\n",
       "\n",
       "    .dataframe tbody tr th {\n",
       "        vertical-align: top;\n",
       "    }\n",
       "\n",
       "    .dataframe thead th {\n",
       "        text-align: right;\n",
       "    }\n",
       "</style>\n",
       "<table border=\"1\" class=\"dataframe\">\n",
       "  <thead>\n",
       "    <tr style=\"text-align: right;\">\n",
       "      <th></th>\n",
       "      <th>0</th>\n",
       "      <th>1</th>\n",
       "      <th>2</th>\n",
       "      <th>3</th>\n",
       "      <th>4</th>\n",
       "      <th>5</th>\n",
       "      <th>6</th>\n",
       "      <th>7</th>\n",
       "      <th>8</th>\n",
       "      <th>9</th>\n",
       "      <th>10</th>\n",
       "      <th>11</th>\n",
       "      <th>12</th>\n",
       "      <th>13</th>\n",
       "    </tr>\n",
       "  </thead>\n",
       "  <tbody>\n",
       "    <tr>\n",
       "      <th>0</th>\n",
       "      <td>2635.json</td>\n",
       "      <td>false</td>\n",
       "      <td>Says the Annies List political group supports ...</td>\n",
       "      <td>abortion</td>\n",
       "      <td>dwayne-bohac</td>\n",
       "      <td>State representative</td>\n",
       "      <td>Texas</td>\n",
       "      <td>republican</td>\n",
       "      <td>0.0</td>\n",
       "      <td>1.0</td>\n",
       "      <td>0.0</td>\n",
       "      <td>0.0</td>\n",
       "      <td>0.0</td>\n",
       "      <td>a mailer</td>\n",
       "    </tr>\n",
       "    <tr>\n",
       "      <th>1</th>\n",
       "      <td>10540.json</td>\n",
       "      <td>half-true</td>\n",
       "      <td>When did the decline of coal start? It started...</td>\n",
       "      <td>energy,history,job-accomplishments</td>\n",
       "      <td>scott-surovell</td>\n",
       "      <td>State delegate</td>\n",
       "      <td>Virginia</td>\n",
       "      <td>democrat</td>\n",
       "      <td>0.0</td>\n",
       "      <td>0.0</td>\n",
       "      <td>1.0</td>\n",
       "      <td>1.0</td>\n",
       "      <td>0.0</td>\n",
       "      <td>a floor speech.</td>\n",
       "    </tr>\n",
       "    <tr>\n",
       "      <th>2</th>\n",
       "      <td>324.json</td>\n",
       "      <td>mostly-true</td>\n",
       "      <td>Hillary Clinton agrees with John McCain \"by vo...</td>\n",
       "      <td>foreign-policy</td>\n",
       "      <td>barack-obama</td>\n",
       "      <td>President</td>\n",
       "      <td>Illinois</td>\n",
       "      <td>democrat</td>\n",
       "      <td>70.0</td>\n",
       "      <td>71.0</td>\n",
       "      <td>160.0</td>\n",
       "      <td>163.0</td>\n",
       "      <td>9.0</td>\n",
       "      <td>Denver</td>\n",
       "    </tr>\n",
       "  </tbody>\n",
       "</table>\n",
       "</div>"
      ],
      "text/plain": [
       "           0            1                                                  2   \\\n",
       "0   2635.json        false  Says the Annies List political group supports ...   \n",
       "1  10540.json    half-true  When did the decline of coal start? It started...   \n",
       "2    324.json  mostly-true  Hillary Clinton agrees with John McCain \"by vo...   \n",
       "\n",
       "                                   3               4                     5   \\\n",
       "0                            abortion    dwayne-bohac  State representative   \n",
       "1  energy,history,job-accomplishments  scott-surovell        State delegate   \n",
       "2                      foreign-policy    barack-obama             President   \n",
       "\n",
       "         6           7     8     9      10     11   12               13  \n",
       "0     Texas  republican   0.0   1.0    0.0    0.0  0.0         a mailer  \n",
       "1  Virginia    democrat   0.0   0.0    1.0    1.0  0.0  a floor speech.  \n",
       "2  Illinois    democrat  70.0  71.0  160.0  163.0  9.0           Denver  "
      ]
     },
     "execution_count": 2,
     "metadata": {},
     "output_type": "execute_result"
    }
   ],
   "source": [
    "data_train, data_valid, data_test = Data_Prepare.read_data()\n",
    "data_train.head(3)"
   ]
  },
  {
   "cell_type": "code",
   "execution_count": 3,
   "id": "739893c8",
   "metadata": {
    "scrolled": false
   },
   "outputs": [
    {
     "data": {
      "text/html": [
       "<div>\n",
       "<style scoped>\n",
       "    .dataframe tbody tr th:only-of-type {\n",
       "        vertical-align: middle;\n",
       "    }\n",
       "\n",
       "    .dataframe tbody tr th {\n",
       "        vertical-align: top;\n",
       "    }\n",
       "\n",
       "    .dataframe thead th {\n",
       "        text-align: right;\n",
       "    }\n",
       "</style>\n",
       "<table border=\"1\" class=\"dataframe\">\n",
       "  <thead>\n",
       "    <tr style=\"text-align: right;\">\n",
       "      <th></th>\n",
       "      <th>label</th>\n",
       "      <th>sentence</th>\n",
       "    </tr>\n",
       "  </thead>\n",
       "  <tbody>\n",
       "    <tr>\n",
       "      <th>0</th>\n",
       "      <td>0</td>\n",
       "      <td>abortion dwayne-bohac State representative a m...</td>\n",
       "    </tr>\n",
       "    <tr>\n",
       "      <th>1</th>\n",
       "      <td>1</td>\n",
       "      <td>foreign-policy barack-obama President Denver H...</td>\n",
       "    </tr>\n",
       "    <tr>\n",
       "      <th>2</th>\n",
       "      <td>0</td>\n",
       "      <td>health-care blog-posting nan a news release He...</td>\n",
       "    </tr>\n",
       "  </tbody>\n",
       "</table>\n",
       "</div>"
      ],
      "text/plain": [
       "   label                                           sentence\n",
       "0      0  abortion dwayne-bohac State representative a m...\n",
       "1      1  foreign-policy barack-obama President Denver H...\n",
       "2      0  health-care blog-posting nan a news release He..."
      ]
     },
     "execution_count": 3,
     "metadata": {},
     "output_type": "execute_result"
    }
   ],
   "source": [
    "data_train = Data_Prepare.combine_classes_drop_half_true(data_train)\n",
    "data_valid = Data_Prepare.combine_classes_drop_half_true(data_valid)\n",
    "data_test = Data_Prepare.combine_classes_drop_half_true(data_test)\n",
    "data_train.head(3)"
   ]
  },
  {
   "cell_type": "code",
   "execution_count": 4,
   "id": "df9e4a06",
   "metadata": {
    "scrolled": true
   },
   "outputs": [
    {
     "data": {
      "text/plain": [
       "0    553\n",
       "1    449\n",
       "Name: label, dtype: int64"
      ]
     },
     "execution_count": 4,
     "metadata": {},
     "output_type": "execute_result"
    }
   ],
   "source": [
    "data_test['label'].value_counts()"
   ]
  },
  {
   "cell_type": "markdown",
   "id": "1dc847d3",
   "metadata": {},
   "source": [
    "Preproccesing"
   ]
  },
  {
   "cell_type": "code",
   "execution_count": 5,
   "id": "ce0c1b5f",
   "metadata": {
    "scrolled": false
   },
   "outputs": [
    {
     "name": "stdout",
     "output_type": "stream",
     "text": [
      "data_preprocessing done!\n"
     ]
    }
   ],
   "source": [
    "data_train1, data_valid1, data_test1 = Data_Prepare.do_preprocessing(data_train, data_valid, data_test)"
   ]
  },
  {
   "cell_type": "code",
   "execution_count": 6,
   "id": "c5256e9b",
   "metadata": {},
   "outputs": [
    {
     "name": "stdout",
     "output_type": "stream",
     "text": [
      "data_preprocessing done!\n"
     ]
    }
   ],
   "source": [
    "data_train2, data_valid2, data_test2 = Data_Prepare.do_preprocessing(data_train, data_valid, data_test)"
   ]
  },
  {
   "cell_type": "code",
   "execution_count": 7,
   "id": "7c06371b",
   "metadata": {
    "scrolled": true
   },
   "outputs": [
    {
     "data": {
      "text/plain": [
       "0    0.552301\n",
       "1    0.447699\n",
       "Name: label, dtype: float64"
      ]
     },
     "execution_count": 7,
     "metadata": {},
     "output_type": "execute_result"
    }
   ],
   "source": [
    "data_train['label'].value_counts(normalize='true')"
   ]
  },
  {
   "cell_type": "code",
   "execution_count": 8,
   "id": "0f1ce694",
   "metadata": {},
   "outputs": [],
   "source": [
    "# Combine the training and validation datasets for training\n",
    "data_set_all1 = pd.concat([data_train1, data_valid1, data_test1])\n",
    "data_train_valid1 = pd.concat([data_train1, data_valid1])\n",
    "\n",
    "X_train_valid1 = data_train_valid1['sentence']\n",
    "y_train_valid1 = data_train_valid1['label']\n",
    "X_test1 = data_test['sentence']\n",
    "y_test1 = data_test['label']"
   ]
  },
  {
   "cell_type": "code",
   "execution_count": 10,
   "id": "3c52cb2b",
   "metadata": {},
   "outputs": [],
   "source": [
    "# Combine the training and validation datasets for training\n",
    "data_set_all2 = pd.concat([data_train2, data_valid2, data_test2])\n",
    "data_train_valid2 = pd.concat([data_train2, data_valid2])\n",
    "\n",
    "X_train_valid2 = data_train_valid2['sentence']\n",
    "y_train_valid2 = data_train_valid2['label']\n",
    "X_test2 = data_test['sentence']\n",
    "y_test2 = data_test['label']"
   ]
  },
  {
   "cell_type": "code",
   "execution_count": 102,
   "id": "986e328a",
   "metadata": {
    "scrolled": true
   },
   "outputs": [
    {
     "data": {
      "image/png": "[encoded data removed]",
      "text/plain": [
       "<Figure size 720x504 with 1 Axes>"
      ]
     },
     "metadata": {
      "needs_background": "light"
     },
     "output_type": "display_data"
    },
    {
     "data": {
      "image/png": "[encoded data removed]",
      "text/plain": [
       "<Figure size 720x504 with 1 Axes>"
      ]
     },
     "metadata": {
      "needs_background": "light"
     },
     "output_type": "display_data"
    }
   ],
   "source": [
    "Data_Prepare.plot_data_length(data_set_all)"
   ]
  },
  {
   "cell_type": "markdown",
   "id": "d687b1fb",
   "metadata": {},
   "source": [
    "Vectorizing"
   ]
  },
  {
   "cell_type": "code",
   "execution_count": 24,
   "id": "1035abe4",
   "metadata": {},
   "outputs": [],
   "source": [
    "# For Cross Validation\n",
    "from sklearn.feature_extraction.text import TfidfVectorizer\n",
    "\n",
    "tfidf_vectorizer = TfidfVectorizer()\n",
    "tfidf_matrix = tfidf_vectorizer.fit_transform(data_set_all1['sentence'])\n",
    "\n"
   ]
  },
  {
   "cell_type": "code",
   "execution_count": 76,
   "id": "f06db247",
   "metadata": {},
   "outputs": [],
   "source": [
    "#For cross calidation\n",
    "from tensorflow.keras.preprocessing.text import Tokenizer\n",
    "from tensorflow.keras.preprocessing.sequence import pad_sequences\n",
    "\n",
    "tokenizer = Tokenizer()\n",
    "tokenizer.fit_on_texts(data_set_all2['sentence'])\n",
    "    \n",
    "# Convert text to sequences\n",
    "X_cross = tokenizer.texts_to_sequences(data_set_all2['sentence'])\n",
    "    \n",
    "# Pad sequences\n",
    "X_cross = pad_sequences(X_cross, maxlen=260)\n",
    "    "
   ]
  },
  {
   "cell_type": "code",
   "execution_count": 11,
   "id": "5f8927af",
   "metadata": {
    "scrolled": true
   },
   "outputs": [
    {
     "name": "stdout",
     "output_type": "stream",
     "text": [
      "Vectorizing done!\n"
     ]
    }
   ],
   "source": [
    "X_train_t_v1, X_test_t_v1, vocab_size1, X_train_sequences, X_test_sequences=Data_Prepare.tfidf_vectorizer(X_train_valid1,\n",
    "                                                                                                          X_test1,\n",
    "                                                                                                          MAX_SEQUENCE_LENGTH=260,EMBEDDING_DIM=150)"
   ]
  },
  {
   "cell_type": "code",
   "execution_count": 12,
   "id": "61497f29",
   "metadata": {},
   "outputs": [],
   "source": [
    "embedding_matrix,X_train_t_v2, y_train_t_v2, X_test_t_v2, y_test_t_v2, vocab_size2 = Data_Prepare.tokenize_vectorize(data_set_all2,\n",
    "                                                                                                                data_train_valid2,\n",
    "                                                                                                                data_test2,\n",
    "                                                                                                                MAX_SEQUENCE_LENGTH=260\n",
    "                                                                                                                ,EMBEDDING_DIM=150)"
   ]
  },
  {
   "cell_type": "code",
   "execution_count": 122,
   "id": "580a459f",
   "metadata": {
    "scrolled": true
   },
   "outputs": [
    {
     "data": {
      "image/png": "[encoded data removed]",
      "text/plain": [
       "<Figure size 432x288 with 1 Axes>"
      ]
     },
     "metadata": {
      "needs_background": "light"
     },
     "output_type": "display_data"
    }
   ],
   "source": [
    "#Visualizing distribution of predeiction of ensemble clas\n",
    "class_counts = np.bincount(y_test)\n",
    "plt.bar(range(len(class_counts)), class_counts)\n",
    "class_labels = ['Fake', 'Real']\n",
    "plt.xticks(range(len(class_counts)), class_labels)\n",
    "plt.title('Distribution of Classifications')\n",
    "plt.xlabel('Class')\n",
    "plt.ylabel('Count')\n",
    "plt.show()"
   ]
  },
  {
   "cell_type": "markdown",
   "id": "d8da7850",
   "metadata": {},
   "source": [
    "## 1- SVM"
   ]
  },
  {
   "cell_type": "code",
   "execution_count": 51,
   "id": "299d21eb",
   "metadata": {
    "scrolled": true
   },
   "outputs": [
    {
     "name": "stdout",
     "output_type": "stream",
     "text": [
      "Execution time of SVM: 33.51 seconds\n"
     ]
    }
   ],
   "source": [
    "svm_predictions, svm_train_valid_predictions =SVM_classifier.train_svm(X_train_t_v1, y_train_valid1, X_test_t_v1)"
   ]
  },
  {
   "cell_type": "code",
   "execution_count": 15,
   "id": "cb9542f1",
   "metadata": {
    "scrolled": false
   },
   "outputs": [
    {
     "name": "stdout",
     "output_type": "stream",
     "text": [
      "SVM - accuracy: 0.5868263473053892\n",
      "SVM - Precision: 0.5381263616557734\n",
      "SVM - Recall: 0.5501113585746102\n",
      "SVM - F-score: 0.5440528634361234\n"
     ]
    },
    {
     "data": {
      "image/png": "[encoded data removed]",
      "text/plain": [
       "<Figure size 576x432 with 1 Axes>"
      ]
     },
     "metadata": {
      "needs_background": "light"
     },
     "output_type": "display_data"
    },
    {
     "data": {
      "image/png": "[encoded data removed]",
      "text/plain": [
       "<Figure size 432x288 with 1 Axes>"
      ]
     },
     "metadata": {
      "needs_background": "light"
     },
     "output_type": "display_data"
    }
   ],
   "source": [
    "svm_accuracy, svm_precision, svm_recall, svm_fscore = SVM_classifier.svm_metrics(svm_predictions, y_test1)\n",
    "SVM_classifier.svm_confusion_matrix_plot(svm_predictions, y_test1)\n",
    "SVM_classifier.svm_roc_plot(svm_predictions, y_test1)"
   ]
  },
  {
   "cell_type": "code",
   "execution_count": 20,
   "id": "83150752",
   "metadata": {},
   "outputs": [
    {
     "data": {
      "text/plain": [
       "(9162, 8243)"
      ]
     },
     "execution_count": 20,
     "metadata": {},
     "output_type": "execute_result"
    }
   ],
   "source": [
    "X_train_t_v1.shape"
   ]
  },
  {
   "cell_type": "code",
   "execution_count": 30,
   "id": "4eb0f637",
   "metadata": {},
   "outputs": [
    {
     "name": "stdout",
     "output_type": "stream",
     "text": [
      "dict_keys(['fit_time', 'score_time', 'test_accuracy', 'test_precision', 'test_recall', 'test_f1'])\n",
      "0.5991737221669229\n",
      "0.5492450022656978\n",
      "0.5376110800760918\n",
      "0.5431870128384698\n"
     ]
    }
   ],
   "source": [
    "import matplotlib.pyplot as plt\n",
    "from sklearn.metrics import make_scorer, accuracy_score, precision_score, recall_score, f1_score\n",
    "from sklearn.svm import SVC\n",
    "from sklearn.model_selection import cross_validate, StratifiedKFold\n",
    "def cross_validate_svm(X, y, svm_params, cv_splits=5):\n",
    "    \n",
    "    # Define SVM parameters\n",
    "#     svm_params = {'C': 10, 'kernel': 'sigmoid', 'gamma': 'scale'}\n",
    "\n",
    "    svm_model = SVC(**svm_params)\n",
    "    \n",
    "    scoring = {\n",
    "    'accuracy': make_scorer(accuracy_score),\n",
    "    'precision': make_scorer(precision_score),\n",
    "    'recall': make_scorer(recall_score),\n",
    "    'f1': make_scorer(f1_score)\n",
    "    }\n",
    "    scores = cross_validate(svm_model, X, y, cv=5, scoring=scoring)\n",
    "    print(scores.keys())\n",
    "    print(np.mean(scores['test_accuracy']))\n",
    "    print(np.mean(scores['test_precision'])) \n",
    "    print(np.mean(scores['test_recall']))\n",
    "    print(np.mean(scores['test_f1']))\n",
    "\n",
    "\n",
    "\n",
    "svm_params = {'C': 10, 'kernel': 'sigmoid', 'gamma': 'scale'}\n",
    "svm_cross_x = tfidf_matrix\n",
    "svm_cross_y = data_set_all1['label']\n",
    "cross_validate_svm(svm_cross_x, svm_cross_y, svm_params, cv_splits=5)"
   ]
  },
  {
   "cell_type": "markdown",
   "id": "223fdeea",
   "metadata": {},
   "source": [
    "## 2-Passive Aggressive"
   ]
  },
  {
   "cell_type": "code",
   "execution_count": 52,
   "id": "91c8b798",
   "metadata": {
    "scrolled": true
   },
   "outputs": [
    {
     "name": "stdout",
     "output_type": "stream",
     "text": [
      "Execution time of PA: 0.03 seconds\n"
     ]
    }
   ],
   "source": [
    "pa_predictions,pa_train_valid_predictions, pa_scores, pa_train_scores = PA_classifier.train_pa(X_train_t_v1,\n",
    "                                                                                               y_train_valid1,\n",
    "                                                                                               X_test_t_v1,\n",
    "                                                                                               c = 0.1,\n",
    "                                                                                               iteration=100, tol=1e-1)"
   ]
  },
  {
   "cell_type": "code",
   "execution_count": 17,
   "id": "269d41b0",
   "metadata": {
    "scrolled": true
   },
   "outputs": [
    {
     "name": "stdout",
     "output_type": "stream",
     "text": [
      "PA - accuracy: 0.6307385229540918\n",
      "PA - Precision: 0.5985037406483791\n",
      "PA - Recall: 0.534521158129176\n",
      "PA - F-score: 0.5647058823529412\n"
     ]
    },
    {
     "data": {
      "image/png": "[encoded data removed]",
      "text/plain": [
       "<Figure size 576x432 with 1 Axes>"
      ]
     },
     "metadata": {
      "needs_background": "light"
     },
     "output_type": "display_data"
    },
    {
     "data": {
      "image/png": "[encoded data removed]",
      "text/plain": [
       "<Figure size 432x288 with 1 Axes>"
      ]
     },
     "metadata": {
      "needs_background": "light"
     },
     "output_type": "display_data"
    }
   ],
   "source": [
    "pa_accuracy, pa_precision, pa_recall, pa_fscore = PA_classifier.pa_metrics(pa_predictions, y_test1)\n",
    "PA_classifier.pa_confusion_matrix_plot(pa_predictions, y_test1)\n",
    "PA_classifier.pa_roc_plot(pa_predictions, y_test1)"
   ]
  },
  {
   "cell_type": "code",
   "execution_count": 32,
   "id": "64da46f6",
   "metadata": {},
   "outputs": [
    {
     "name": "stdout",
     "output_type": "stream",
     "text": [
      "dict_keys(['fit_time', 'score_time', 'test_accuracy', 'test_precision', 'test_recall', 'test_f1'])\n",
      "0.6253438346030652\n",
      "0.5862647749400212\n",
      "0.5274536258621961\n",
      "0.5548895214573506\n"
     ]
    }
   ],
   "source": [
    "from sklearn.model_selection import cross_validate, KFold\n",
    "from sklearn.metrics import make_scorer, accuracy_score, precision_score, recall_score, f1_score\n",
    "from sklearn.linear_model import PassiveAggressiveClassifier\n",
    "\n",
    "def pa_cross_validation(X, y,k_folds=5,c = 0.1,iteration=100, tol=1e-1):\n",
    "    scoring = {\n",
    "    'accuracy': make_scorer(accuracy_score),\n",
    "    'precision': make_scorer(precision_score),\n",
    "    'recall': make_scorer(recall_score),\n",
    "    'f1': make_scorer(f1_score)\n",
    "    }\n",
    "    kf = KFold(n_splits=k_folds, shuffle=True, random_state=42)\n",
    "    pa_model = PassiveAggressiveClassifier(C=c, random_state=42, max_iter=iteration, early_stopping=True, tol=tol)\n",
    "    scores = cross_validate(pa_model, X, y, cv=kf, scoring=scoring)\n",
    "    print(scores.keys())\n",
    "    print(np.mean(scores['test_accuracy']))\n",
    "    print(np.mean(scores['test_precision'])) \n",
    "    print(np.mean(scores['test_recall']))\n",
    "    print(np.mean(scores['test_f1']))\n",
    "    \n",
    "pa_cross_x = tfidf_matrix\n",
    "pa_cross_y = data_set_all1['label']\n",
    "pa_cross_validation(pa_cross_x, pa_cross_y)"
   ]
  },
  {
   "cell_type": "markdown",
   "id": "3f0f621a",
   "metadata": {},
   "source": [
    "## 3-XGBoost"
   ]
  },
  {
   "cell_type": "code",
   "execution_count": 53,
   "id": "27203d1d",
   "metadata": {
    "scrolled": false
   },
   "outputs": [
    {
     "name": "stdout",
     "output_type": "stream",
     "text": [
      "Execution time of XGBoost: 23.76 seconds\n"
     ]
    }
   ],
   "source": [
    "xgb_params = {\n",
    "    'objective': 'binary:logistic',  # or 'multi:softmax' for multi-class classification\n",
    "    'eval_metric': 'logloss',  # or other appropriate evaluation metric\n",
    "    'eta': 0.01,  # learning rate\n",
    "    'max_depth': 20,  # maximum depth of a tree\n",
    "    'subsample': 0.2,  # subsample ratio of the training instances\n",
    "    'colsample_bytree': 0.2  # subsample ratio of columns when constructing each tree\n",
    "}\n",
    "\n",
    "xgb_predictions, xgb_train_valid_predictions, xgb_scores, xgb_train_scores = XGBoost_classifier.train_xgboost(X_train_t_v1,\n",
    "                                                                                                              y_train_valid1,\n",
    "                                                                                                              X_test_t_v1,y_test1,\n",
    "                                                                                                              xgb_params)"
   ]
  },
  {
   "cell_type": "code",
   "execution_count": 19,
   "id": "7d714c63",
   "metadata": {
    "scrolled": false
   },
   "outputs": [
    {
     "name": "stdout",
     "output_type": "stream",
     "text": [
      "XGBoost - accuracy: 0.6137724550898204\n",
      "XGBoost - Precision: 0.5453216374269005\n",
      "XGBoost - Recall: 0.8307349665924276\n",
      "XGBoost - F-score: 0.6584289496910857\n"
     ]
    },
    {
     "data": {
      "image/png": "[encoded data removed]",
      "text/plain": [
       "<Figure size 576x432 with 1 Axes>"
      ]
     },
     "metadata": {
      "needs_background": "light"
     },
     "output_type": "display_data"
    },
    {
     "data": {
      "image/png": "[encoded data removed]",
      "text/plain": [
       "<Figure size 432x288 with 1 Axes>"
      ]
     },
     "metadata": {
      "needs_background": "light"
     },
     "output_type": "display_data"
    }
   ],
   "source": [
    "xgb_accuracy, xgb_precision, xgb_recall, xgb_fscore = XGBoost_classifier.xgb_metrics(xgb_predictions, y_test1)\n",
    "XGBoost_classifier.xgb_confusion_matrix_plot(xgb_predictions, y_test1)\n",
    "XGBoost_classifier.xgb_roc_plot(xgb_predictions, y_test1)"
   ]
  },
  {
   "cell_type": "code",
   "execution_count": 46,
   "id": "6db02521",
   "metadata": {},
   "outputs": [
    {
     "name": "stdout",
     "output_type": "stream",
     "text": [
      "Execution time of XGBoost: 24.02 seconds\n",
      "XGBoost - accuracy: 0.6137724550898204\n",
      "XGBoost - Precision: 0.5453216374269005\n",
      "XGBoost - Recall: 0.8307349665924276\n",
      "XGBoost - F-score: 0.6584289496910857\n"
     ]
    }
   ],
   "source": [
    "xgb_params = {\n",
    "    'objective': 'binary:logistic',  # or 'multi:softmax' for multi-class classification\n",
    "    'eval_metric': 'logloss',  # or other appropriate evaluation metric\n",
    "    'eta': 0.01,  # learning rate\n",
    "    'max_depth': 20,  # maximum depth of a tree\n",
    "    'subsample': 0.2,  # subsample ratio of the training instances\n",
    "    'colsample_bytree': 0.2  # subsample ratio of columns when constructing each tree\n",
    "}\n",
    "\n",
    "xgb_predictions, xgb_train_valid_predictions, xgb_scores, xgb_train_scores = XGBoost_classifier.train_xgboost(X_train_t_v1,\n",
    "                                                                                                              y_train_valid1,\n",
    "                                                                                                              X_test_t_v1,y_test1,\n",
    "                                                                                                              xgb_params)\n",
    "\n",
    "xgb_accuracy, xgb_precision, xgb_recall, xgb_fscore = XGBoost_classifier.xgb_metrics(xgb_predictions, y_test1)\n"
   ]
  },
  {
   "cell_type": "code",
   "execution_count": 50,
   "id": "aa9fd549",
   "metadata": {},
   "outputs": [
    {
     "name": "stdout",
     "output_type": "stream",
     "text": [
      "   train-logloss-mean  train-logloss-std  test-logloss-mean  test-logloss-std  \\\n",
      "0            0.686266             0.0006           0.686579           0.00227   \n",
      "\n",
      "   train-f1_score-mean  train-f1_score-std  test-f1_score-mean  \\\n",
      "0             0.614405             0.00241            0.614342   \n",
      "\n",
      "   test-f1_score-std  \n",
      "0           0.009654  \n"
     ]
    }
   ],
   "source": [
    "import xgboost as xgb\n",
    "from sklearn.model_selection import cross_val_score\n",
    "from sklearn.metrics import accuracy_score, precision_score, recall_score, f1_score\n",
    "import numpy as np\n",
    "\n",
    "xgb_cross_x = tfidf_matrix\n",
    "xgb_cross_y = data_set_all1['label']\n",
    "data_dmatrix_cross = xgb.DMatrix(data=xgb_cross_x, label=xgb_cross_y)\n",
    "\n",
    "# Custom evaluation metrics\n",
    "def f1_eval(y_pred, dtrain):\n",
    "    y_true = dtrain.get_label()\n",
    "    y_pred = (y_pred >= 0.4).astype(int)  # Assuming binary classification\n",
    "    return 'f1_score', f1_score(y_true, y_pred)\n",
    "\n",
    "def precision_eval(y_pred, dtrain):\n",
    "    y_true = dtrain.get_label()\n",
    "    y_pred = (y_pred >= 0.4).astype(int)  # Assuming binary classification\n",
    "    return 'precision', precision_score(y_true, y_pred)\n",
    "\n",
    "def recall_eval(y_pred, dtrain):\n",
    "    y_true = dtrain.get_label()\n",
    "    y_pred = (y_pred >= 0.4).astype(int)  # Assuming binary classification\n",
    "    return 'recall', recall_score(y_true, y_pred)\n",
    "\n",
    "xgb_params = {\n",
    "    'objective': 'binary:logistic',  # or 'multi:softmax' for multi-class classification\n",
    "    'eval_metric': 'logloss',  # or other appropriate evaluation metric\n",
    "    'eta': 0.01,  # learning rate\n",
    "    'max_depth': 20,  # maximum depth of a tree\n",
    "    'subsample': 0.2,  # subsample ratio of the training instances\n",
    "    'colsample_bytree': 0.2  # subsample ratio of columns when constructing each tree\n",
    "}\n",
    "\n",
    "evals_result = xgb.cv(xgb_params, data_dmatrix_cross, num_boost_round=50, nfold=5, early_stopping_rounds=10, \n",
    "                      custom_metric=f1_eval, \n",
    "                      seed=42, as_pandas=True)\n",
    "\n",
    "print(evals_result)"
   ]
  },
  {
   "cell_type": "markdown",
   "id": "fee025c7",
   "metadata": {},
   "source": [
    "## 4-LSTM"
   ]
  },
  {
   "cell_type": "code",
   "execution_count": 20,
   "id": "4d836b60",
   "metadata": {
    "scrolled": false
   },
   "outputs": [
    {
     "name": "stdout",
     "output_type": "stream",
     "text": [
      "8636\n"
     ]
    }
   ],
   "source": [
    "print(vocab_size2)"
   ]
  },
  {
   "cell_type": "code",
   "execution_count": 54,
   "id": "53ba7a03",
   "metadata": {
    "scrolled": true
   },
   "outputs": [
    {
     "name": "stdout",
     "output_type": "stream",
     "text": [
      "Model: \"sequential\"\n",
      "_________________________________________________________________\n",
      " Layer (type)                Output Shape              Param #   \n",
      "=================================================================\n",
      " embeddings (Embedding)      (None, 260, 150)          1295400   \n",
      "                                                                 \n",
      " lstm_layer1 (LSTM)          (None, 260, 128)          142848    \n",
      "                                                                 \n",
      " lstm_layer2 (LSTM)          (None, 260, 64)           49408     \n",
      "                                                                 \n",
      " global_max_pooling1d (Globa  (None, 64)               0         \n",
      " lMaxPooling1D)                                                  \n",
      "                                                                 \n",
      " dense (Dense)               (None, 50)                3250      \n",
      "                                                                 \n",
      " dense_1 (Dense)             (None, 1)                 51        \n",
      "                                                                 \n",
      "=================================================================\n",
      "Total params: 1,490,957\n",
      "Trainable params: 195,557\n",
      "Non-trainable params: 1,295,400\n",
      "_________________________________________________________________\n",
      "Epoch 1/10\n",
      "58/58 [==============================] - 57s 931ms/step - loss: 0.6766 - accuracy: 0.5789 - val_loss: 0.6529 - val_accuracy: 0.6181\n",
      "Epoch 2/10\n",
      "58/58 [==============================] - 59s 1s/step - loss: 0.6687 - accuracy: 0.5971 - val_loss: 0.6515 - val_accuracy: 0.6247\n",
      "Epoch 3/10\n",
      "58/58 [==============================] - 62s 1s/step - loss: 0.6641 - accuracy: 0.6002 - val_loss: 0.6660 - val_accuracy: 0.5947\n",
      "Epoch 4/10\n",
      "58/58 [==============================] - 62s 1s/step - loss: 0.6606 - accuracy: 0.6077 - val_loss: 0.6452 - val_accuracy: 0.6197\n",
      "Epoch 5/10\n",
      "58/58 [==============================] - 62s 1s/step - loss: 0.6598 - accuracy: 0.6087 - val_loss: 0.6525 - val_accuracy: 0.6247\n",
      "Epoch 6/10\n",
      "58/58 [==============================] - 62s 1s/step - loss: 0.6573 - accuracy: 0.6136 - val_loss: 0.6433 - val_accuracy: 0.6241\n",
      "Epoch 7/10\n",
      "58/58 [==============================] - 63s 1s/step - loss: 0.6555 - accuracy: 0.6084 - val_loss: 0.6435 - val_accuracy: 0.6296\n",
      "Epoch 8/10\n",
      "58/58 [==============================] - 63s 1s/step - loss: 0.6524 - accuracy: 0.6208 - val_loss: 0.6512 - val_accuracy: 0.6192\n",
      "Epoch 9/10\n",
      "58/58 [==============================] - 63s 1s/step - loss: 0.6506 - accuracy: 0.6199 - val_loss: 0.6403 - val_accuracy: 0.6290\n",
      "Epoch 10/10\n",
      "58/58 [==============================] - 64s 1s/step - loss: 0.6477 - accuracy: 0.6276 - val_loss: 0.6387 - val_accuracy: 0.6301\n",
      "Execution time of LSTM: 619.08 seconds\n"
     ]
    }
   ],
   "source": [
    "lstm_model, lstm_history = LSTM_classifier.train_lstm(vocab_size2,\n",
    "                                                      embedding_matrix,\n",
    "                                                      X_train_t_v2,\n",
    "                                                      y_train_t_v2,\n",
    "                                                      epoches=10,\n",
    "                                                      batch_size=128,\n",
    "                                                      MAX_SEQUENCE_LENGTH=260,\n",
    "                                                      EMBEDDING_DIM=150)"
   ]
  },
  {
   "cell_type": "code",
   "execution_count": 57,
   "id": "3547514c",
   "metadata": {
    "scrolled": true
   },
   "outputs": [
    {
     "name": "stdout",
     "output_type": "stream",
     "text": [
      "32/32 [==============================] - 5s 124ms/step\n",
      "287/287 [==============================] - 37s 129ms/step\n"
     ]
    }
   ],
   "source": [
    "lstm_train_valid_predictions, lstm_predictions, lstm_train_scores, lstm_scores = LSTM_classifier.predict_lstm(lstm_model,\n",
    "                                                                              X_train_t_v2,\n",
    "                                                                              X_test_t_v2,\n",
    "                                                                             0.4)"
   ]
  },
  {
   "cell_type": "code",
   "execution_count": 23,
   "id": "63566000",
   "metadata": {
    "scrolled": true
   },
   "outputs": [
    {
     "name": "stdout",
     "output_type": "stream",
     "text": [
      "LSTM - Accuracy: 0.5658682634730539\n",
      "LSTM - Precision: 0.5100574712643678\n",
      "LSTM - Recall: 0.7906458797327395\n",
      "LSTM - F-score: 0.6200873362445415\n"
     ]
    },
    {
     "data": {
      "image/png": "[encoded data removed]",
      "text/plain": [
       "<Figure size 432x288 with 1 Axes>"
      ]
     },
     "metadata": {
      "needs_background": "light"
     },
     "output_type": "display_data"
    },
    {
     "data": {
      "image/png": "[encoded data removed]",
      "text/plain": [
       "<Figure size 576x432 with 1 Axes>"
      ]
     },
     "metadata": {
      "needs_background": "light"
     },
     "output_type": "display_data"
    }
   ],
   "source": [
    "lstm_accuracy, lstm_precision, lstm_recall, lstm_fscore = LSTM_classifier.lstm_metrics(lstm_predictions, y_test_t_v2)\n",
    "LSTM_classifier.lstm_loss_plot(lstm_history)\n",
    "LSTM_classifier.lstm_confusion_matrix_plot(lstm_predictions, y_test_t_v2)"
   ]
  },
  {
   "cell_type": "markdown",
   "id": "04986939",
   "metadata": {},
   "source": [
    "## 5-BiLSTM"
   ]
  },
  {
   "cell_type": "code",
   "execution_count": 55,
   "id": "f3b39999",
   "metadata": {
    "scrolled": false
   },
   "outputs": [
    {
     "name": "stdout",
     "output_type": "stream",
     "text": [
      "Model: \"sequential_1\"\n",
      "_________________________________________________________________\n",
      " Layer (type)                Output Shape              Param #   \n",
      "=================================================================\n",
      " embedding (Embedding)       (None, 260, 150)          1295400   \n",
      "                                                                 \n",
      " bidirectional (Bidirectiona  (None, 260, 256)         285696    \n",
      " l)                                                              \n",
      "                                                                 \n",
      " bidirectional_1 (Bidirectio  (None, 128)              164352    \n",
      " nal)                                                            \n",
      "                                                                 \n",
      " dense_2 (Dense)             (None, 32)                4128      \n",
      "                                                                 \n",
      " dense_3 (Dense)             (None, 1)                 33        \n",
      "                                                                 \n",
      "=================================================================\n",
      "Total params: 1,749,609\n",
      "Trainable params: 454,209\n",
      "Non-trainable params: 1,295,400\n",
      "_________________________________________________________________\n",
      "Epoch 1/10\n",
      "115/115 [==============================] - 899s 8s/step - loss: 0.6876 - accuracy: 0.5503 - val_loss: 0.6761 - val_accuracy: 0.5821\n",
      "Epoch 2/10\n",
      "115/115 [==============================] - 946s 8s/step - loss: 0.6797 - accuracy: 0.5672 - val_loss: 0.6642 - val_accuracy: 0.6007\n",
      "Epoch 3/10\n",
      "115/115 [==============================] - 913s 8s/step - loss: 0.6695 - accuracy: 0.5896 - val_loss: 0.6679 - val_accuracy: 0.6045\n",
      "Epoch 4/10\n",
      "115/115 [==============================] - 932s 8s/step - loss: 0.6624 - accuracy: 0.6072 - val_loss: 0.6652 - val_accuracy: 0.5957\n",
      "Epoch 5/10\n",
      "115/115 [==============================] - 926s 8s/step - loss: 0.6587 - accuracy: 0.6081 - val_loss: 0.6609 - val_accuracy: 0.6099\n",
      "Epoch 6/10\n",
      "115/115 [==============================] - 916s 8s/step - loss: 0.6564 - accuracy: 0.6151 - val_loss: 0.6618 - val_accuracy: 0.6028\n",
      "Epoch 7/10\n",
      "115/115 [==============================] - 909s 8s/step - loss: 0.6521 - accuracy: 0.6197 - val_loss: 0.6697 - val_accuracy: 0.5848\n",
      "Epoch 8/10\n",
      "115/115 [==============================] - 943s 8s/step - loss: 0.6526 - accuracy: 0.6204 - val_loss: 0.6563 - val_accuracy: 0.6088\n",
      "Epoch 9/10\n",
      "115/115 [==============================] - 924s 8s/step - loss: 0.6499 - accuracy: 0.6159 - val_loss: 0.6644 - val_accuracy: 0.5897\n",
      "Epoch 10/10\n",
      "115/115 [==============================] - 924s 8s/step - loss: 0.6445 - accuracy: 0.6261 - val_loss: 0.6592 - val_accuracy: 0.6045\n",
      "Execution time of BiLSTM: 9231.27 seconds\n"
     ]
    }
   ],
   "source": [
    "bilstm_model, bilstm_history = BiLSTM_classifier.train_bilstm(vocab_size2,\n",
    "                                                              X_train_t_v2,\n",
    "                                                              y_train_t_v2, 10,64,\n",
    "                                                              MAX_SEQUENCE_LENGTH = 260,\n",
    "                                                              EMBEDDING_DIM = 150)"
   ]
  },
  {
   "cell_type": "code",
   "execution_count": 58,
   "id": "6074bce6",
   "metadata": {},
   "outputs": [
    {
     "name": "stdout",
     "output_type": "stream",
     "text": [
      "32/32 [==============================] - 11s 318ms/step\n",
      "287/287 [==============================] - 88s 305ms/step\n"
     ]
    }
   ],
   "source": [
    "bilstm_train_predictions, bilstm_predictions, bilstm_train_scores,bilstm_scores = BiLSTM_classifier.predict_bilstm(bilstm_model,\n",
    "                                                                                X_train_t_v2, X_test_t_v2, 0.4)"
   ]
  },
  {
   "cell_type": "code",
   "execution_count": 25,
   "id": "084afd1a",
   "metadata": {},
   "outputs": [
    {
     "name": "stdout",
     "output_type": "stream",
     "text": [
      "32/32 [==============================] - 8s 227ms/step\n",
      "287/287 [==============================] - 74s 257ms/step\n",
      "BiLSTM - Accuracy: 0.5349301397205589\n",
      "BiLSTM - Precision: 0.489171974522293\n",
      "BiLSTM - Recall: 0.8552338530066815\n",
      "BiLSTM - F-score: 0.6223662884927067\n"
     ]
    },
    {
     "data": {
      "image/png": "[encoded data removed]",
      "text/plain": [
       "<Figure size 432x288 with 1 Axes>"
      ]
     },
     "metadata": {
      "needs_background": "light"
     },
     "output_type": "display_data"
    },
    {
     "data": {
      "image/png": "[encoded data removed]",
      "text/plain": [
       "<Figure size 576x432 with 1 Axes>"
      ]
     },
     "metadata": {
      "needs_background": "light"
     },
     "output_type": "display_data"
    }
   ],
   "source": [
    "bilstm_train_predictions, bilstm_predictions, bilstm_train_scores,bilstm_scores = BiLSTM_classifier.predict_bilstm(bilstm_model,\n",
    "                                                                                X_train_t_v2, X_test_t_v2, 0.4)\n",
    "bilstm_accuracy, bilstm_precision, bilstm_recall, bilstm_fscore=BiLSTM_classifier.bilstm_metrics(bilstm_predictions, y_test_t_v2)\n",
    "BiLSTM_classifier.bilstm_loss_plot(bilstm_history)\n",
    "BiLSTM_classifier.bilstm_confusion_matrix_plot(bilstm_predictions, y_test_t_v2)"
   ]
  },
  {
   "cell_type": "markdown",
   "id": "593cf11f",
   "metadata": {},
   "source": [
    "## Evaluate Ensemblely!"
   ]
  },
  {
   "cell_type": "code",
   "execution_count": 46,
   "id": "3384ffd4",
   "metadata": {
    "scrolled": false
   },
   "outputs": [
    {
     "data": {
      "image/png": "[encoded data removed]",
      "text/plain": [
       "<Figure size 432x288 with 1 Axes>"
      ]
     },
     "metadata": {
      "needs_background": "light"
     },
     "output_type": "display_data"
    }
   ],
   "source": [
    "metrics = ['Accuracy','Precision','Recall','F-score'] \n",
    "svm = [svm_accuracy, svm_precision, svm_recall, svm_fscore] \n",
    "pa=[pa_accuracy, pa_precision, pa_recall, pa_fscore]\n",
    "xgb=[xgb_accuracy, xgb_precision, xgb_recall, xgb_fscore]\n",
    "lstm = [lstm_accuracy, lstm_precision, lstm_recall, lstm_fscore] \n",
    "bilstm = [bilstm_accuracy, bilstm_precision, bilstm_recall, bilstm_fscore] \n",
    "\n",
    "bar_width = 0.15 \n",
    "index = np.arange(len(metrics))\n",
    "plt.bar(index, svm, bar_width, label='SVM')\n",
    "plt.bar(index + bar_width, pa, bar_width, label='PA')\n",
    "plt.bar(index + 2*bar_width, xgb, bar_width, label='XGB')\n",
    "plt.bar(index + 3*bar_width, lstm, bar_width, label='LSTM')\n",
    "plt.bar(index + 4*bar_width, bilstm, bar_width, label='BiLSTM')\n",
    "\n",
    "plt.xlabel('Metrics')\n",
    "plt.ylabel('Values')\n",
    "plt.title('Classifier Metrics Comparison')\n",
    "\n",
    "plt.xticks(index + bar_width, metrics)\n",
    "plt.legend()\n",
    "plt.show()\n",
    "        "
   ]
  },
  {
   "cell_type": "markdown",
   "id": "416987ad",
   "metadata": {},
   "source": [
    "#### Voting Test predictions"
   ]
  },
  {
   "cell_type": "code",
   "execution_count": 49,
   "id": "5346ac90",
   "metadata": {},
   "outputs": [],
   "source": [
    "import numpy as np\n",
    "def ensemble_prediction():   \n",
    "    votes = np.array([list(row) for row in zip(svm_predictions ,xgb_predictions, pa_predictions, lstm_predictions, bilstm_predictions)])\n",
    "    column_sums = np.sum(votes, axis=1)\n",
    "    averages_vote = []\n",
    "    for column_sum in column_sums:\n",
    "        average = column_sum / 5\n",
    "        averages_vote.append(average.round())\n",
    "    return averages_vote"
   ]
  },
  {
   "cell_type": "code",
   "execution_count": 50,
   "id": "d657fd4b",
   "metadata": {
    "scrolled": true
   },
   "outputs": [
    {
     "name": "stdout",
     "output_type": "stream",
     "text": [
      "Model - accuracy: 0.6107784431137725\n",
      "Model - Precision: 0.5490848585690515\n",
      "Model - Recall: 0.734966592427617\n",
      "Model - F-score: 0.6285714285714286\n"
     ]
    }
   ],
   "source": [
    "y_pred_ensemble = ensemble_prediction()\n",
    "\n",
    "accuracy = sum(y_pred_ensemble == y_test1) / len(y_test1)\n",
    "\n",
    "precision, recall, fscore, support = precision_recall_fscore_support(y_test1, y_pred_ensemble, average='binary')\n",
    "print(\"Model - accuracy:\", accuracy)\n",
    "print(\"Model - Precision:\", precision)\n",
    "print(\"Model - Recall:\", recall)\n",
    "print(\"Model - F-score:\", fscore)"
   ]
  },
  {
   "cell_type": "code",
   "execution_count": 51,
   "id": "964e3603",
   "metadata": {
    "scrolled": true
   },
   "outputs": [
    {
     "data": {
      "image/png": "[encoded data removed]",
      "text/plain": [
       "<Figure size 432x288 with 1 Axes>"
      ]
     },
     "metadata": {
      "needs_background": "light"
     },
     "output_type": "display_data"
    }
   ],
   "source": [
    "#Visualizing distribution of predeiction of ensemble clas\n",
    "class_counts = np.bincount(y_pred_ensemble)\n",
    "plt.bar(range(len(class_counts)), class_counts)\n",
    "class_labels = ['Fake', 'Real']\n",
    "plt.xticks(range(len(class_counts)), class_labels)\n",
    "plt.title('Distribution of Classifications')\n",
    "plt.xlabel('Class')\n",
    "plt.ylabel('Count')\n",
    "plt.show()"
   ]
  },
  {
   "cell_type": "markdown",
   "id": "98230729",
   "metadata": {},
   "source": [
    "#### Voting train predictions"
   ]
  },
  {
   "cell_type": "code",
   "execution_count": 32,
   "id": "7ecff74b",
   "metadata": {},
   "outputs": [],
   "source": [
    "import numpy as np\n",
    "def ensemble_train_prediction():   \n",
    "    votes = np.array([list(row) for row in zip(svm_train_valid_predictions ,\n",
    "                                               xgb_train_valid_predictions,\n",
    "                                               pa_train_valid_predictions,\n",
    "                                               lstm_train_valid_predictions,\n",
    "                                               bilstm_train_predictions)])\n",
    "    column_sums = np.sum(votes, axis=1)\n",
    "    averages_vote = []\n",
    "    for column_sum in column_sums:\n",
    "        average = column_sum / 5\n",
    "        averages_vote.append(average.round())\n",
    "    return averages_vote"
   ]
  },
  {
   "cell_type": "code",
   "execution_count": 33,
   "id": "447c6222",
   "metadata": {},
   "outputs": [
    {
     "name": "stdout",
     "output_type": "stream",
     "text": [
      "Model - accuracy: 0.6900240122244051\n",
      "Model - Precision: 0.6107675518370317\n",
      "Model - Recall: 0.8275012321340561\n",
      "Model - F-score: 0.7028045207199665\n"
     ]
    }
   ],
   "source": [
    "y_train_valid_pred_ensemble = ensemble_train_prediction()\n",
    "\n",
    "train_accuracy = sum(y_train_valid_pred_ensemble == y_train_valid1) / len(y_train_valid1)\n",
    "\n",
    "train_precision, train_recall, train_fscore, train_support = precision_recall_fscore_support(y_train_valid1, y_train_valid_pred_ensemble, average='binary')\n",
    "print(\"Model - accuracy:\", train_accuracy)\n",
    "print(\"Model - Precision:\", train_precision)\n",
    "print(\"Model - Recall:\", train_recall)\n",
    "print(\"Model - F-score:\", train_fscore)"
   ]
  },
  {
   "cell_type": "markdown",
   "id": "3869b349",
   "metadata": {},
   "source": [
    "## FinalClassifier"
   ]
  },
  {
   "cell_type": "markdown",
   "id": "a1c360ad",
   "metadata": {},
   "source": [
    "XGBoost Stacked"
   ]
  },
  {
   "cell_type": "code",
   "execution_count": 59,
   "id": "ef399c02",
   "metadata": {},
   "outputs": [],
   "source": [
    "xgb_train_valid_predictions = np.array(xgb_train_valid_predictions)\n",
    "xgb_predictions= np.array(xgb_predictions)\n",
    "\n",
    "stacked_X_train = np.hstack((X_train_t_v2, \n",
    "                             svm_train_valid_predictions.reshape((-1, 1)),\n",
    "                             xgb_train_valid_predictions.reshape((-1, 1)),\n",
    "                             lstm_train_valid_predictions.reshape((-1, 1)),\n",
    "                             bilstm_train_predictions.reshape((-1, 1)),\n",
    "                             pa_train_valid_predictions.reshape((-1, 1))\n",
    "                            ))\n",
    "stacked_X_test = np.hstack((X_test_t_v2, \n",
    "                            svm_predictions.reshape((-1, 1)),\n",
    "                            xgb_predictions.reshape((-1, 1)),\n",
    "                            lstm_predictions.reshape((-1, 1)),\n",
    "                            bilstm_predictions.reshape((-1, 1)),\n",
    "                            pa_predictions.reshape((-1, 1))\n",
    "                           ))\n"
   ]
  },
  {
   "cell_type": "code",
   "execution_count": 42,
   "id": "24543cc1",
   "metadata": {
    "scrolled": true
   },
   "outputs": [
    {
     "name": "stdout",
     "output_type": "stream",
     "text": [
      "XGBoost - accuracy: 0.5808383233532934\n",
      "XGBoost - Precision: 0.5188556566970091\n",
      "XGBoost - Recall: 0.888641425389755\n",
      "XGBoost - F-score: 0.6551724137931034\n"
     ]
    },
    {
     "data": {
      "image/png": "[encoded data removed]",
      "text/plain": [
       "<Figure size 576x432 with 1 Axes>"
      ]
     },
     "metadata": {
      "needs_background": "light"
     },
     "output_type": "display_data"
    },
    {
     "data": {
      "image/png": "[encoded data removed]",
      "text/plain": [
       "<Figure size 432x288 with 1 Axes>"
      ]
     },
     "metadata": {
      "needs_background": "light"
     },
     "output_type": "display_data"
    }
   ],
   "source": [
    "xgb_final_params = {\n",
    "    'objective': 'binary:logistic',  # or 'multi:softmax' for multi-class classification\n",
    "    'eval_metric': 'logloss',  # or other appropriate evaluation metric\n",
    "    'eta': 0.01,  # learning rate\n",
    "    'max_depth':2,  # maximum depth of a tree\n",
    "    'subsample': 0.2,  # subsample ratio of the training instances\n",
    "    'colsample_bytree': 0.8  # subsample ratio of columns when constructing each tree\n",
    "}\n",
    "\n",
    "xgb_predictions_stack3, bla1,y1,y2 = XGBoost_classifier.train_xgboost(stacked_X_train,y_train_valid1,\n",
    "                                                                     stacked_X_test,y_test1,\n",
    "                                                                     xgb_final_params,\n",
    "                                                                     rounds=20, threshold=0.4)\n",
    "\n",
    "xgb_accuracy, xgb_precision, xgb_recall, xgb_fscore = XGBoost_classifier.xgb_metrics(xgb_predictions_stack3, y_test1)\n",
    "XGBoost_classifier.xgb_confusion_matrix_plot(xgb_predictions_stack3, y_test1)\n",
    "XGBoost_classifier.xgb_roc_plot(xgb_predictions_stack3, y_test2)"
   ]
  },
  {
   "cell_type": "code",
   "execution_count": null,
   "id": "3479f959",
   "metadata": {},
   "outputs": [],
   "source": [
    "xgb_final_params = {\n",
    "    'objective': 'binary:logistic',  # or 'multi:softmax' for multi-class classification\n",
    "    'eval_metric': 'logloss',  # or other appropriate evaluation metric\n",
    "    'eta': 0.01,  # learning rate\n",
    "    'max_depth':2,  # maximum depth of a tree\n",
    "    'subsample': 0.2,  # subsample ratio of the training instances\n",
    "    'colsample_bytree': 0.8  # subsample ratio of columns when constructing each tree\n",
    "}\n",
    "\n",
    "xgb_train_valid_predictions = np.array(xgb_train_valid_predictions)\n",
    "xgb_predictions= np.array(xgb_predictions)\n",
    "\n",
    "stacked_X_train = np.hstack((X_train_t_v2, \n",
    "                             svm_train_valid_predictions.reshape((-1, 1)),\n",
    "                             xgb_train_valid_predictions.reshape((-1, 1)),\n",
    "                             lstm_train_valid_predictions.reshape((-1, 1)),\n",
    "                             bilstm_train_predictions.reshape((-1, 1)),\n",
    "                             pa_train_valid_predictions.reshape((-1, 1))\n",
    "                            ))\n",
    "stacked_X_test = np.hstack((X_test_t_v2, \n",
    "                            svm_predictions.reshape((-1, 1)),\n",
    "                            xgb_predictions.reshape((-1, 1)),\n",
    "                            lstm_predictions.reshape((-1, 1)),\n",
    "                            bilstm_predictions.reshape((-1, 1)),\n",
    "                            pa_predictions.reshape((-1, 1))\n",
    "                           ))\n",
    "\n",
    "xgb_predictions_stack3, bla1,y1,y2 = XGBoost_classifier.train_xgboost(stacked_X_train,y_train_valid1,\n",
    "                                                                     stacked_X_test,y_test1,\n",
    "                                                                     xgb_final_params,\n",
    "                                                                     rounds=20, threshold=0.4)\n",
    "\n",
    "xgb_accuracy, xgb_precision, xgb_recall, xgb_fscore = XGBoost_classifier.xgb_metrics(xgb_predictions_stack3, y_test1)"
   ]
  },
  {
   "cell_type": "code",
   "execution_count": 75,
   "id": "dad5864c",
   "metadata": {
    "scrolled": true
   },
   "outputs": [
    {
     "data": {
      "text/plain": [
       "(9162,)"
      ]
     },
     "execution_count": 75,
     "metadata": {},
     "output_type": "execute_result"
    }
   ],
   "source": [
    "svm_train_valid_predictions.shape"
   ]
  },
  {
   "cell_type": "code",
   "execution_count": 87,
   "id": "7516a163",
   "metadata": {},
   "outputs": [],
   "source": [
    "svm_predictions_all = np.vstack((svm_train_valid_predictions.reshape((-1, 1)),\n",
    "                                 svm_predictions.reshape((-1, 1))\n",
    "                                ))\n",
    "xgb_predictions_all = np.vstack((xgb_train_valid_predictions.reshape((-1, 1)),\n",
    "                                 xgb_predictions.reshape((-1, 1))\n",
    "                                ))\n",
    "pa_predictions_all = np.vstack((pa_train_valid_predictions.reshape((-1, 1)),\n",
    "                                 pa_predictions.reshape((-1, 1))\n",
    "                                ))\n",
    "lstm_predictions_all = np.vstack((lstm_train_valid_predictions.reshape((-1, 1)),\n",
    "                                 lstm_predictions.reshape((-1, 1))\n",
    "                                ))\n",
    "bilstm_predictions_all = np.vstack((bilstm_train_predictions.reshape((-1, 1)),\n",
    "                                 bilstm_predictions.reshape((-1, 1))\n",
    "                                ))"
   ]
  },
  {
   "cell_type": "code",
   "execution_count": 93,
   "id": "66524e30",
   "metadata": {},
   "outputs": [],
   "source": [
    "stacked_X_cross = np.hstack((X_cross,\n",
    "                             svm_predictions_all,\n",
    "                             xgb_predictions_all,\n",
    "                             pa_predictions_all,\n",
    "                             lstm_predictions_all,\n",
    "                             bilstm_predictions_all\n",
    "                            ))"
   ]
  },
  {
   "cell_type": "code",
   "execution_count": null,
   "id": "15162286",
   "metadata": {},
   "outputs": [],
   "source": [
    "stacked_y_Cross = np.hstack((data_set_all2['label'], ))"
   ]
  },
  {
   "cell_type": "code",
   "execution_count": 94,
   "id": "fa6cb7cb",
   "metadata": {},
   "outputs": [
    {
     "data": {
      "text/plain": [
       "(10164, 265)"
      ]
     },
     "execution_count": 94,
     "metadata": {},
     "output_type": "execute_result"
    }
   ],
   "source": [
    "stacked_X_cross.shape"
   ]
  },
  {
   "cell_type": "code",
   "execution_count": 123,
   "id": "baec8fee",
   "metadata": {
    "scrolled": true
   },
   "outputs": [
    {
     "name": "stdout",
     "output_type": "stream",
     "text": [
      "    train-logloss-mean  train-logloss-std  test-logloss-mean  \\\n",
      "0             0.684271           0.000413           0.684332   \n",
      "1             0.681969           0.000417           0.682049   \n",
      "2             0.679337           0.000417           0.679408   \n",
      "3             0.677017           0.000351           0.677069   \n",
      "4             0.674945           0.000364           0.675011   \n",
      "5             0.674022           0.000344           0.674100   \n",
      "6             0.672239           0.000322           0.672328   \n",
      "7             0.669853           0.000326           0.669942   \n",
      "8             0.667406           0.000326           0.667509   \n",
      "9             0.665750           0.000390           0.665866   \n",
      "10            0.663409           0.000428           0.663536   \n",
      "11            0.661425           0.000471           0.661567   \n",
      "12            0.659460           0.000533           0.659605   \n",
      "13            0.657453           0.000440           0.657600   \n",
      "14            0.655274           0.000417           0.655432   \n",
      "15            0.653873           0.000427           0.654047   \n",
      "16            0.651760           0.000436           0.651942   \n",
      "17            0.649754           0.000434           0.649945   \n",
      "18            0.648067           0.000434           0.648269   \n",
      "19            0.646119           0.000454           0.646314   \n",
      "\n",
      "    test-logloss-std  train-accuracy-mean  train-accuracy-std  \\\n",
      "0           0.001550             0.443428            0.001746   \n",
      "1           0.001541             0.443428            0.001746   \n",
      "2           0.001536             0.443428            0.001746   \n",
      "3           0.001611             0.443428            0.001746   \n",
      "4           0.001614             0.443428            0.001746   \n",
      "5           0.001619             0.443428            0.001746   \n",
      "6           0.001671             0.443428            0.001746   \n",
      "7           0.001675             0.443428            0.001746   \n",
      "8           0.001727             0.443428            0.001746   \n",
      "9           0.001699             0.443428            0.001746   \n",
      "10          0.001711             0.443428            0.001746   \n",
      "11          0.001706             0.443428            0.001746   \n",
      "12          0.001689             0.443428            0.001746   \n",
      "13          0.001757             0.443428            0.001746   \n",
      "14          0.001774             0.443428            0.001746   \n",
      "15          0.001779             0.443428            0.001746   \n",
      "16          0.001801             0.445470            0.003229   \n",
      "17          0.001860             0.508460            0.053964   \n",
      "18          0.001874             0.570715            0.030076   \n",
      "19          0.001882             0.613243            0.007228   \n",
      "\n",
      "    test-accuracy-mean  test-accuracy-std  \n",
      "0             0.443428           0.006984  \n",
      "1             0.443428           0.006984  \n",
      "2             0.443428           0.006984  \n",
      "3             0.443428           0.006984  \n",
      "4             0.443428           0.006984  \n",
      "5             0.443428           0.006984  \n",
      "6             0.443428           0.006984  \n",
      "7             0.443428           0.006984  \n",
      "8             0.443428           0.006984  \n",
      "9             0.443428           0.006984  \n",
      "10            0.443428           0.006984  \n",
      "11            0.443428           0.006984  \n",
      "12            0.443428           0.006984  \n",
      "13            0.443428           0.006984  \n",
      "14            0.443428           0.006984  \n",
      "15            0.443428           0.006984  \n",
      "16            0.445101           0.009509  \n",
      "17            0.503055           0.055871  \n",
      "18            0.568971           0.027010  \n",
      "19            0.613834           0.010739  \n"
     ]
    }
   ],
   "source": [
    "import xgboost as xgb\n",
    "from sklearn.model_selection import cross_val_score\n",
    "from sklearn.metrics import accuracy_score, precision_score, recall_score, f1_score\n",
    "import numpy as np\n",
    "\n",
    "data_dmatrix_final_cross = xgb.DMatrix(data=stacked_X_cross, label=data_set_all2['label'])\n",
    "\n",
    "# Custom evaluation metrics\n",
    "def accuracy_eval(y_pred, dtrain):\n",
    "    y_true = dtrain.get_label()\n",
    "    y_pred = (y_pred >= 0.4).astype(int)  # Assuming binary classification\n",
    "    return 'accuracy', accuracy_score(y_true, y_pred)\n",
    "\n",
    "def f1_eval(y_pred, dtrain):\n",
    "    y_true = dtrain.get_label()\n",
    "    y_pred = (y_pred >= 0.4).astype(int)  # Assuming binary classification\n",
    "    return 'f1_score', f1_score(y_true, y_pred)\n",
    "\n",
    "def precision_eval(y_pred, dtrain):\n",
    "    y_true = dtrain.get_label()\n",
    "    y_pred = (y_pred >= 0.4).astype(int)  # Assuming binary classification\n",
    "    return 'precision', precision_score(y_true, y_pred)\n",
    "\n",
    "def recall_eval(y_pred, dtrain):\n",
    "    y_true = dtrain.get_label()\n",
    "    y_pred = (y_pred >= 0.4).astype(int)  # Assuming binary classification\n",
    "    return 'recall', recall_score(y_true, y_pred)\n",
    "\n",
    "xgb_final_params = {\n",
    "    'objective': 'binary:logistic',  # or 'multi:softmax' for multi-class classification\n",
    "    'eval_metric': 'logloss',  # or other appropriate evaluation metric\n",
    "    'eta': 0.01,  # learning rate\n",
    "    'max_depth':2,  # maximum depth of a tree\n",
    "    'subsample': 0.2,  # subsample ratio of the training instances\n",
    "    'colsample_bytree': 0.8  # subsample ratio of columns when constructing each tree\n",
    "}\n",
    "\n",
    "\n",
    "evals_result = xgb.cv(xgb_final_params, data_dmatrix_final_cross, num_boost_round=20, nfold=5,\n",
    "                      early_stopping_rounds=20,\n",
    "                      custom_metric=accuracy_eval, \n",
    "                      seed=0, as_pandas=True)\n",
    "\n",
    "print(evals_result)"
   ]
  },
  {
   "cell_type": "code",
   "execution_count": null,
   "id": "247f9498",
   "metadata": {},
   "outputs": [],
   "source": []
  }
 ],
 "metadata": {
  "kernelspec": {
   "display_name": "Python 3 (ipykernel)",
   "language": "python",
   "name": "python3"
  },
  "language_info": {
   "codemirror_mode": {
    "name": "ipython",
    "version": 3
   },
   "file_extension": ".py",
   "mimetype": "text/x-python",
   "name": "python",
   "nbconvert_exporter": "python",
   "pygments_lexer": "ipython3",
   "version": "3.9.5"
  }
 },
 "nbformat": 4,
 "nbformat_minor": 5
}
